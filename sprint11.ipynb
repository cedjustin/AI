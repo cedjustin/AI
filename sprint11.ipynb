{
  "nbformat": 4,
  "nbformat_minor": 0,
  "metadata": {
    "kernelspec": {
      "display_name": "Python 3",
      "language": "python",
      "name": "python3"
    },
    "language_info": {
      "codemirror_mode": {
        "name": "ipython",
        "version": 3
      },
      "file_extension": ".py",
      "mimetype": "text/x-python",
      "name": "python",
      "nbconvert_exporter": "python",
      "pygments_lexer": "ipython3",
      "version": "3.8.5"
    },
    "colab": {
      "name": "sprint9.ipynb",
      "provenance": []
    },
    "accelerator": "GPU"
  },
  "cells": [
    {
      "cell_type": "code",
      "metadata": {
        "id": "ss6CuoXeLwK0"
      },
      "source": [
        "# import the dependencies\n",
        "import numpy as np"
      ],
      "execution_count": 2,
      "outputs": []
    },
    {
      "cell_type": "markdown",
      "metadata": {
        "id": "QpVpptBlKKop"
      },
      "source": [
        "#### [Problem 1] Creating a one-dimensional convolutional layer class that limits the number of channels to one"
      ]
    },
    {
      "cell_type": "code",
      "metadata": {
        "id": "9VVNhsV2KPw8"
      },
      "source": [
        "class SimpleConv1d():\n",
        "\n",
        "  def forward(self, X, W, b):\n",
        "    a = []\n",
        "    for i in range(len(W)-1):\n",
        "      a.append((np.matmul(X[i:i+len(W)],W))+b[0])\n",
        "    return np.array(a)\n",
        "\n",
        "  def backward(self, X, W, dA):\n",
        "    db = np.sum(dA)\n",
        "    dW = []\n",
        "    for i in range(len(W)):\n",
        "      dW.append(np.matmul(dA,X[i:i+len(dA)]))\n",
        "    dW = np.array(dW)\n",
        "    dX = []\n",
        "    new_W = np.insert(W[::-1],0,0)\n",
        "    new_W = np.append(new_W,0)\n",
        "    for i in range(len(new_W)-1):\n",
        "      dX.append(np.matmul(new_W[i:i+len(dA)],dA))\n",
        "    dX = np.array(dX[::-1])\n",
        "    return db, dW, dX"
      ],
      "execution_count": 4,
      "outputs": []
    },
    {
      "cell_type": "markdown",
      "metadata": {
        "id": "_ZxoLZVBOrT3"
      },
      "source": [
        "#### [Problem 2] Output size calculation after one-dimensional convolution"
      ]
    },
    {
      "cell_type": "code",
      "metadata": {
        "id": "r_jRj2XUOs9c"
      },
      "source": [
        "def output_size(in_size, p, s , f):\n",
        "  out_size = ((in_size+2*p-f)/s)+1\n",
        "  return int(out_size)"
      ],
      "execution_count": 5,
      "outputs": []
    },
    {
      "cell_type": "markdown",
      "metadata": {
        "id": "AGAWqwK3Pk9G"
      },
      "source": [
        "#### [Problem 3] Experiment of one-dimensional convolutional layer with small array"
      ]
    },
    {
      "cell_type": "code",
      "metadata": {
        "id": "Dfr7v4gwPn_o"
      },
      "source": [
        "X = np.array([1,2,3,4])\n",
        "W = np.array([3, 5, 7])\n",
        "b = np.array([1])\n",
        "delta_a = np.array([10, 20])"
      ],
      "execution_count": 7,
      "outputs": []
    },
    {
      "cell_type": "code",
      "metadata": {
        "id": "Fc2QiV6vQEJx",
        "outputId": "00e58942-8d6a-4f1d-90eb-d57da64a248c",
        "colab": {
          "base_uri": "https://localhost:8080/"
        }
      },
      "source": [
        "s1dconv = SimpleConv1d()\n",
        "forward_prop = s1dconv.forward(X, W, b)\n",
        "db, dW, dX = s1dconv.backward(X, W, delta_a)\n",
        "print(forward_prop)\n",
        "print(db)\n",
        "print(dW)\n",
        "print(dX)"
      ],
      "execution_count": 9,
      "outputs": [
        {
          "output_type": "stream",
          "text": [
            "[35 50]\n",
            "30\n",
            "[ 50  80 110]\n",
            "[ 30 110 170 140]\n"
          ],
          "name": "stdout"
        }
      ]
    }
  ]
}