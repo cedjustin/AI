{
 "cells": [
  {
   "cell_type": "markdown",
   "metadata": {},
   "source": [
    "###### problem 1\n",
    "**Find one or more each from Pandas, matplotlib, and scikit-learn.**\n",
    "1. pandas.read_csv()\n",
    "2. matplotlib.show()\n",
    "3. sklearn.ensemble"
   ]
  },
  {
   "cell_type": "markdown",
   "metadata": {},
   "source": [
    "###### problem 2\n",
    "**Please explain what kind of method and instance variable were in the code used in the previous exercises.**\n",
    "\n",
    "###### methods\n",
    "1. pandas.loc()\n",
    "2. pandas.iloc()\n",
    "3. numpy.sum()\n",
    "4. numpy.reshape()\n",
    "5. numpy.ravel()\n",
    "\n",
    "###### instance variable\n",
    "1. ndarray.shape\n",
    "2. ndarray.ndim\n",
    "3. ndarray.dtype\n",
    "4. ndarray.size\n",
    "5. ndarray.data"
   ]
  },
  {
   "cell_type": "code",
   "execution_count": 1,
   "metadata": {},
   "outputs": [],
   "source": [
    "# problem 3\n",
    "\n",
    "import numpy as np\n",
    "\n",
    "class ScratchStandardScaler():\n",
    "    \"\"\"\n",
    "    標準化のためのクラス\n",
    "\n",
    "    Attributes\n",
    "    ----------\n",
    "    mean_ : 次の形のndarray, shape(n_features,)\n",
    "        平均\n",
    "    var_ : 次の形のndarray, shape(n_features,)\n",
    "        分散\n",
    "    \"\"\"\n",
    "    def fit(self, X):\n",
    "        \"\"\"\n",
    "        標準化のために平均と標準偏差を計算する。\n",
    "\n",
    "        Parameters\n",
    "        ----------\n",
    "        X : 次の形のndarray, shape (n_samples, n_features)\n",
    "            訓練データ\n",
    "        \"\"\"\n",
    "        self.mean_ = np.mean(X, axis=0)\n",
    "        self.var_ = np.var(X, axis=0)\n",
    "        pass\n",
    "    def transform(self, X):\n",
    "        \"\"\"\n",
    "        fitで求めた値を使い標準化を行う。\n",
    "\n",
    "        Parameters\n",
    "        ----------\n",
    "        X : 次の形のndarray, shape (n_samples, n_features)\n",
    "            特徴量\n",
    "\n",
    "        Returns\n",
    "        ----------\n",
    "        X_scaled : 次の形のndarray, shape (n_samples, n_features)\n",
    "            標準化された特緒量\n",
    "        \"\"\"\n",
    "        X_scaled = (X-self.mean_)/self.var_\n",
    "        pass\n",
    "        return X_scaled"
   ]
  },
  {
   "cell_type": "code",
   "execution_count": 2,
   "metadata": {},
   "outputs": [
    {
     "name": "stdout",
     "output_type": "stream",
     "text": [
      "平均 : [4.86 3.31 1.45 0.22]\n",
      "分散 : [0.0764 0.0849 0.0105 0.0056]\n",
      "[[  3.14136126   2.23792697  -4.76190476  -3.57142857]\n",
      " [  0.52356021  -3.65135453  -4.76190476  -3.57142857]\n",
      " [ -2.09424084  -1.29564193 -14.28571429  -3.57142857]\n",
      " [ -3.40314136  -2.47349823   4.76190476  -3.57142857]\n",
      " [  1.83246073   3.41578327  -4.76190476  -3.57142857]\n",
      " [  7.06806283   6.94935218  23.80952381  32.14285714]\n",
      " [ -3.40314136   1.06007067  -4.76190476  14.28571429]\n",
      " [  1.83246073   1.06007067   4.76190476  -3.57142857]\n",
      " [ -6.02094241  -4.82921084  -4.76190476  -3.57142857]\n",
      " [  0.52356021  -2.47349823   4.76190476 -21.42857143]]\n"
     ]
    }
   ],
   "source": [
    "from sklearn.datasets import load_iris\n",
    "data = load_iris()\n",
    "X = data.data[:10]\n",
    "scratch_scaler = ScratchStandardScaler()\n",
    "scratch_scaler.fit(X)\n",
    "print(\"平均 : {}\".format(scratch_scaler.mean_))\n",
    "print(\"分散 : {}\".format(scratch_scaler.var_))\n",
    "X_std = scratch_scaler.transform(X)\n",
    "print(X_std)"
   ]
  },
  {
   "cell_type": "code",
   "execution_count": 29,
   "metadata": {},
   "outputs": [
    {
     "name": "stdout",
     "output_type": "stream",
     "text": [
      "初期値5が設定されました\n",
      "value : 5\n",
      "addition value : 8\n",
      "subtraction value : 5\n",
      "multiplication value : 15\n",
      "division value : 1.6666666666666667\n"
     ]
    }
   ],
   "source": [
    "# problem 4\n",
    "\n",
    "class ArthClass():\n",
    "    \"\"\"\n",
    "    説明用の簡単なクラス\n",
    "\n",
    "    Parameters\n",
    "    ----------\n",
    "    value : float or int\n",
    "        初期値\n",
    "\n",
    "    Attributes\n",
    "    ----------\n",
    "    value : float or int\n",
    "        計算結果\n",
    "    \"\"\"\n",
    "    def __init__(self, value):\n",
    "        self.value = value\n",
    "        if not isinstance(value, (int,float)):\n",
    "            print(\"Please input only numbers\")\n",
    "        print(\"初期値{}が設定されました\".format(self.value))\n",
    "    def add(self, value2):\n",
    "        \"\"\"\n",
    "        受け取った引数をself.valueに加える\n",
    "        \"\"\"\n",
    "        self.value += value2\n",
    "        \n",
    "    def sub(self, value2):\n",
    "        \"\"\"\n",
    "        substract the recevied argument with the self.value\n",
    "        \"\"\"\n",
    "        self.value -= value2\n",
    "    \n",
    "    def mult(self, value2):\n",
    "        \"\"\"\n",
    "        multiply the recevied argument with the self.value\n",
    "        \"\"\"\n",
    "        self.value *= value2\n",
    "    \n",
    "    def div(self, value2):\n",
    "        \"\"\"\n",
    "        divide the recevied argument with the self.value\n",
    "        \"\"\"\n",
    "        self.value /= value2\n",
    "        \n",
    "example = ArthClass(5)\n",
    "print(\"value : {}\".format(example.value))\n",
    "example.add(3)\n",
    "print(\"addition value : {}\".format(example.value))\n",
    "example.sub(3)\n",
    "print(\"subtraction value : {}\".format(example.value))\n",
    "example.mult(3)\n",
    "print(\"multiplication value : {}\".format(example.value))\n",
    "example.div(9)\n",
    "print(\"division value : {}\".format(example.value))"
   ]
  },
  {
   "cell_type": "code",
   "execution_count": null,
   "metadata": {},
   "outputs": [],
   "source": []
  }
 ],
 "metadata": {
  "kernelspec": {
   "display_name": "Python 3",
   "language": "python",
   "name": "python3"
  },
  "language_info": {
   "codemirror_mode": {
    "name": "ipython",
    "version": 3
   },
   "file_extension": ".py",
   "mimetype": "text/x-python",
   "name": "python",
   "nbconvert_exporter": "python",
   "pygments_lexer": "ipython3",
   "version": "3.7.6"
  }
 },
 "nbformat": 4,
 "nbformat_minor": 4
}
