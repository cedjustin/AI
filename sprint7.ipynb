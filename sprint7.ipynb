{
 "cells": [
  {
   "cell_type": "code",
   "execution_count": 2,
   "metadata": {},
   "outputs": [],
   "source": [
    "# importing dependencies\n",
    "import numpy as np\n",
    "from sklearn.datasets import make_blobs\n",
    "import matplotlib.pyplot as plt"
   ]
  },
  {
   "cell_type": "code",
   "execution_count": 31,
   "metadata": {},
   "outputs": [],
   "source": [
    "# a global function to calculate the distance\n",
    "def eucledian_distance(x1,x2):\n",
    "    return np.sqrt(np.sum((x1-x2)**2))\n",
    "\n",
    "# class of K-means cluster\n",
    "class ScratchKMeans():\n",
    "    def __init__(self, k=5, max_iters=100, verbose=False):\n",
    "        self.k = k\n",
    "        self.max_iters = max_iters\n",
    "        self.verbose = verbose\n",
    "        \n",
    "        # initializing an empty list of sample indeces for each cluster\n",
    "        self.clusters = [[] for _ in range(self.k)]\n",
    "        \n",
    "        # a list to store the mean of feature vector \n",
    "        self.centroids = []\n",
    "    \n",
    "    def fit(self, X):\n",
    "        if self.verbose:\n",
    "            print()\n",
    "        return\n",
    "    \n",
    "    def predict(self,X):\n",
    "        self.X = X\n",
    "        self.n_samples, self.n_features = X.shape\n",
    "        \n",
    "        # initialize the centroids\n",
    "        random_samples_idxs = np.random.choice(self.n_samples, self.k, replace=False)\n",
    "        self.centroids = [self.X[idx] for idx in random_samples_idxs]\n",
    "        \n",
    "        # optimization\n",
    "        for _ in range(self.max_iters):\n",
    "            # update cluster\n",
    "            self.clusters = self._create_clusters(self.centroids)\n",
    "            \n",
    "            # update centroids\n",
    "            # store old centroids\n",
    "            centroids_old = self.centroids\n",
    "            self.centroids = self._get_centroids(self.clusters)\n",
    "            \n",
    "            # check for if the centroids are not changing anymore(and stop)\n",
    "            if self._is_converged(centroids_old, self.centroids):\n",
    "                break\n",
    "        return self._get_cluster_labels(self.clusters)\n",
    "    \n",
    "    def _create_clusters(self, centroids):\n",
    "        clusters = [[] for _ in range(self.k)]\n",
    "        for idx, sample in enumerate(self.X):\n",
    "            # getting closest centroids index\n",
    "            centroids_idx = self._closest_centroid(sample, centroids)\n",
    "            clusters[centroids_idx].append(idx)\n",
    "        return clusters\n",
    "    \n",
    "    def _closest_centroid(self, sample, centroids):\n",
    "        # calc distance of all samples to the centroids\n",
    "        distances = [eucledian_distance(sample,point) for point in centroids]\n",
    "        closest_idx = np.argmin(distances)\n",
    "        return closest_idx\n",
    "    \n",
    "    def _get_centroids(self,clusters):\n",
    "        centroids = np.zeros((self.k, self.n_features))\n",
    "        for cluster_idx, cluster in enumerate(clusters):\n",
    "            cluster_mean = np.mean(self.X[cluster], axis=0)\n",
    "            centroids[cluster_idx] = cluster_mean\n",
    "        return centroids\n",
    "    \n",
    "    def _is_converged(self, centroids_old, centroids):\n",
    "        distances = [eucledian_distance(centroids_old[i], centroids[i]) for i in range(self.k)]\n",
    "        return sum(distances) == 0\n",
    "    \n",
    "    def _get_cluster_labels(self,clusters):\n",
    "        labels = np.empty(self.n_samples)\n",
    "        for cluster_idx,cluster in enumerate(clusters):\n",
    "            for sample_idx in cluster:\n",
    "                labels[sample_idx] = cluster_idx\n",
    "        return labels\n",
    "    \n",
    "    def plot(self):\n",
    "        fig, ax = plt.subplots(figsize=(12, 8))\n",
    "\n",
    "        for i, index in enumerate(self.clusters):\n",
    "            point = self.X[index].T\n",
    "            ax.scatter(*point)\n",
    "\n",
    "        for point in self.centroids:\n",
    "            ax.scatter(*point, marker=\"x\", color='black', linewidth=2)\n",
    "\n",
    "        plt.show()"
   ]
  },
  {
   "cell_type": "code",
   "execution_count": 4,
   "metadata": {},
   "outputs": [],
   "source": [
    "# splitting our dataset\n",
    "X,_ = make_blobs(n_samples=100, n_features=2, centers=4, cluster_std=0.5, shuffle=True, random_state=0)"
   ]
  },
  {
   "cell_type": "markdown",
   "metadata": {},
   "source": [
    "### [Problem 1] Determine the initial value of the center point"
   ]
  },
  {
   "cell_type": "code",
   "execution_count": 5,
   "metadata": {},
   "outputs": [
    {
     "data": {
      "image/png": "[encoded data removed]",
      "text/plain": [
       "<Figure size 864x576 with 1 Axes>"
      ]
     },
     "metadata": {
      "needs_background": "light"
     },
     "output_type": "display_data"
    }
   ],
   "source": [
    "# visualize the dataset\n",
    "fig = plt.subplots(figsize=(12,8))\n",
    "plt.rcParams[\"font.size\"] = 20\n",
    "plt.scatter(X[:,0],X[:,1],s=80);"
   ]
  },
  {
   "cell_type": "code",
   "execution_count": 6,
   "metadata": {},
   "outputs": [
    {
     "name": "stdout",
     "output_type": "stream",
     "text": [
      "randomly selected center points:  [[-0.96358605  2.37791651]\n",
      " [ 2.4198128   0.96215512]\n",
      " [-1.37778493  3.58107521]\n",
      " [ 1.04829186  5.03092408]]\n"
     ]
    }
   ],
   "source": [
    "k = 4\n",
    "center_points = X[np.random.choice(len(X),size=k,replace=False)]\n",
    "print(\"randomly selected center points: \", center_points)"
   ]
  },
  {
   "cell_type": "code",
   "execution_count": 37,
   "metadata": {},
   "outputs": [
    {
     "data": {
      "image/png": "[encoded data removed]",
      "text/plain": [
       "<Figure size 864x576 with 1 Axes>"
      ]
     },
     "metadata": {
      "needs_background": "light"
     },
     "output_type": "display_data"
    }
   ],
   "source": [
    "clusters = len(np.unique(_))\n",
    "k = ScratchKMeans(k=4, max_iters=150, verbose=True)\n",
    "y_pred = k.predict(X)\n",
    "k.plot()"
   ]
  },
  {
   "cell_type": "code",
   "execution_count": null,
   "metadata": {},
   "outputs": [],
   "source": []
  }
 ],
 "metadata": {
  "kernelspec": {
   "display_name": "Python 3",
   "language": "python",
   "name": "python3"
  },
  "language_info": {
   "codemirror_mode": {
    "name": "ipython",
    "version": 3
   },
   "file_extension": ".py",
   "mimetype": "text/x-python",
   "name": "python",
   "nbconvert_exporter": "python",
   "pygments_lexer": "ipython3",
   "version": "3.8.5"
  }
 },
 "nbformat": 4,
 "nbformat_minor": 4
}
