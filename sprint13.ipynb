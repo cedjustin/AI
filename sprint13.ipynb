{
  "nbformat": 4,
  "nbformat_minor": 0,
  "metadata": {
    "colab": {
      "name": "Untitled2.ipynb",
      "provenance": [],
      "authorship_tag": "ABX9TyNhS0kTkQSwpfHtDzIRNpsb",
      "include_colab_link": true
    },
    "kernelspec": {
      "name": "python3",
      "display_name": "Python 3"
    },
    "language_info": {
      "name": "python"
    }
  },
  "cells": [
    {
      "cell_type": "markdown",
      "metadata": {
        "id": "view-in-github",
        "colab_type": "text"
      },
      "source": [
        "<a href=\"https://colab.research.google.com/github/cedjustin/AI/blob/master/sprint13.ipynb\" target=\"_parent\"><img src=\"https://colab.research.google.com/assets/colab-badge.svg\" alt=\"Open In Colab\"/></a>"
      ]
    },
    {
      "cell_type": "code",
      "metadata": {
        "colab": {
          "base_uri": "https://localhost:8080/"
        },
        "id": "zHHLOniwjBDk",
        "outputId": "2b827f08-4553-4622-ac6e-ca51bcf675ff"
      },
      "source": [
        "import tensorflow as tf\n",
        "tf.compat.v1.disable_eager_execution()\n",
        "a = tf.constant(5)\n",
        "b = tf.constant(7)\n",
        "add = tf.add(a,b)\n",
        "sess = tf.compat.v1.Session()\n",
        "output = sess.run(add)\n",
        "print(output) \n",
        "sess.close()"
      ],
      "execution_count": 7,
      "outputs": [
        {
          "output_type": "stream",
          "text": [
            "12\n"
          ],
          "name": "stdout"
        }
      ]
    },
    {
      "cell_type": "code",
      "metadata": {
        "id": "Ef_sblg-jT3s"
      },
      "source": [
        "with tf.compat.v1.Session() as sess:\n",
        "  output = sess.add(a,b)\n",
        "  print(output)"
      ],
      "execution_count": null,
      "outputs": []
    }
  ]
}