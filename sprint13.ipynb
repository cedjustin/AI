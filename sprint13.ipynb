{
  "nbformat": 4,
  "nbformat_minor": 0,
  "metadata": {
    "colab": {
      "name": "Untitled2.ipynb",
      "provenance": [],
      "authorship_tag": "ABX9TyNfdi94e5lEiz8azMx2NlTF",
      "include_colab_link": true
    },
    "kernelspec": {
      "name": "python3",
      "display_name": "Python 3"
    },
    "language_info": {
      "name": "python"
    }
  },
  "cells": [
    {
      "cell_type": "markdown",
      "metadata": {
        "id": "view-in-github",
        "colab_type": "text"
      },
      "source": [
        "<a href=\"https://colab.research.google.com/github/cedjustin/AI/blob/master/sprint13.ipynb\" target=\"_parent\"><img src=\"https://colab.research.google.com/assets/colab-badge.svg\" alt=\"Open In Colab\"/></a>"
      ]
    },
    {
      "cell_type": "code",
      "metadata": {
        "colab": {
          "base_uri": "https://localhost:8080/"
        },
        "id": "zHHLOniwjBDk",
        "outputId": "daf67b87-e2f5-4a75-afbf-3252aa94a995"
      },
      "source": [
        "import tensorflow as tf\n",
        "tf.compat.v1.disable_eager_execution()\n",
        "a = tf.constant(5)\n",
        "b = tf.constant(7)\n",
        "add = tf.add(a,b)\n",
        "sess = tf.compat.v1.Session()\n",
        "output = sess.run(add)\n",
        "print(output) \n",
        "sess.close()"
      ],
      "execution_count": 22,
      "outputs": [
        {
          "output_type": "stream",
          "text": [
            "12\n"
          ],
          "name": "stdout"
        }
      ]
    },
    {
      "cell_type": "code",
      "metadata": {
        "colab": {
          "base_uri": "https://localhost:8080/"
        },
        "id": "Ef_sblg-jT3s",
        "outputId": "f7ee30cd-a6a4-420b-ebe5-4d501f59279c"
      },
      "source": [
        "with tf.compat.v1.Session() as sess:\n",
        "  output = sess.run(tf.add(a,b))\n",
        "  print(output)"
      ],
      "execution_count": 23,
      "outputs": [
        {
          "output_type": "stream",
          "text": [
            "12\n"
          ],
          "name": "stdout"
        }
      ]
    },
    {
      "cell_type": "code",
      "metadata": {
        "colab": {
          "base_uri": "https://localhost:8080/"
        },
        "id": "0hXoPBZrw8wp",
        "outputId": "a6e5fb20-c8af-45d3-8e21-0c7d8ffbc4d1"
      },
      "source": [
        "import numpy as np\n",
        "a_n = np.array(5)\n",
        "b_n = np.array(7)\n",
        "output_n = np.add(a_n, b_n)\n",
        "print(output_n) "
      ],
      "execution_count": 24,
      "outputs": [
        {
          "output_type": "stream",
          "text": [
            "12\n"
          ],
          "name": "stdout"
        }
      ]
    },
    {
      "cell_type": "code",
      "metadata": {
        "colab": {
          "base_uri": "https://localhost:8080/"
        },
        "id": "vwyG5GfbxIpu",
        "outputId": "bb46742d-eade-4c78-fa1c-2e24bc6e3ef2"
      },
      "source": [
        "tf = tf.compat.v1\n",
        "number_holder = tf.placeholder(tf.int32)\n",
        "number_holder2 = tf.placeholder(tf.int32)\n",
        "with tf.Session() as sess:\n",
        "  add = tf.add(number_holder2,number_holder)\n",
        "  output = sess.run(add, feed_dict={number_holder2: 1,number_holder: 2})\n",
        "  print(output)\n",
        "  sess.close()"
      ],
      "execution_count": 25,
      "outputs": [
        {
          "output_type": "stream",
          "text": [
            "3\n"
          ],
          "name": "stdout"
        }
      ]
    },
    {
      "cell_type": "code",
      "metadata": {
        "id": "DKxpT6t-z5m5"
      },
      "source": [
        "x_train = np.array([[0,0],[0,1],[1,0],[1,1]])\n",
        "y_train = np.array([[0],[0],[0],[1]])"
      ],
      "execution_count": 26,
      "outputs": []
    },
    {
      "cell_type": "code",
      "metadata": {
        "id": "7k2xFABmAJUh"
      },
      "source": [
        "x = tf.placeholder(tf.float32, [None, 2])\n",
        "t = tf.placeholder(tf.float32, [None, 1])\n",
        "\n",
        "# weights and bias\n",
        "W = tf.Variable(tf.zeros([2,1]))\n",
        "b = tf.Variable(tf.zeros([1]))"
      ],
      "execution_count": 28,
      "outputs": []
    },
    {
      "cell_type": "code",
      "metadata": {
        "id": "361DX6YBBczR"
      },
      "source": [
        "y = tf.sigmoid(tf.matmul(x, W) + b)\n",
        "cross_entropy = tf.reduce_sum(-t * tf.log(y) - (1 - t) * tf.log(1 - y))"
      ],
      "execution_count": 30,
      "outputs": []
    },
    {
      "cell_type": "code",
      "metadata": {
        "id": "e6Exrca5BsPM"
      },
      "source": [
        "train_step = tf.train.GradientDescentOptimizer(0.1).minimize(cross_entropy)"
      ],
      "execution_count": 31,
      "outputs": []
    },
    {
      "cell_type": "code",
      "metadata": {
        "id": "i30ocPv9D9kl"
      },
      "source": [
        "correct_prediction = tf.equal(tf.sign(y - 0.5), tf.sign(t - 0.5))"
      ],
      "execution_count": 32,
      "outputs": []
    },
    {
      "cell_type": "code",
      "metadata": {
        "id": "db-XqaGfEYVH"
      },
      "source": [
        "accuracy = tf.reduce_mean(tf.cast(correct_prediction, tf.float32))"
      ],
      "execution_count": 33,
      "outputs": []
    },
    {
      "cell_type": "code",
      "metadata": {
        "colab": {
          "base_uri": "https://localhost:8080/"
        },
        "id": "vyz6xMxnEjf6",
        "outputId": "25c04288-6640-4e1e-8170-0c598ab45249"
      },
      "source": [
        "with tf.Session() as sess:\n",
        "  sess.run(tf.global_variables_initializer())\n",
        "  for epoch in range(1000):\n",
        "    sess.run(train_step, feed_dict={x: x_train, t:y_train})\n",
        "    if epoch % 100 == 0:\n",
        "      acc_val = sess.run(accuracy, feed_dict={x:x_train, t: y_train})\n",
        "      print('epoch: {}, Accuracy: {}'.format(epoch, acc_val))\n",
        "  classified = sess.run(correct_prediction, feed_dict={x: x_train, t: y_train})\n",
        "  print(classified)\n",
        "  prob = sess.run(y, feed_dict={\n",
        "    x:x_train,\n",
        "    t:y_train\n",
        "  })\n",
        "  print(prob)\n",
        "  print(sess.run(W))\n",
        "  print(sess.run(b))\n",
        "  sess.close()"
      ],
      "execution_count": 44,
      "outputs": [
        {
          "output_type": "stream",
          "text": [
            "epoch: 0, Accuracy: 0.75\n",
            "epoch: 100, Accuracy: 1.0\n",
            "epoch: 200, Accuracy: 1.0\n",
            "epoch: 300, Accuracy: 1.0\n",
            "epoch: 400, Accuracy: 1.0\n",
            "epoch: 500, Accuracy: 1.0\n",
            "epoch: 600, Accuracy: 1.0\n",
            "epoch: 700, Accuracy: 1.0\n",
            "epoch: 800, Accuracy: 1.0\n",
            "epoch: 900, Accuracy: 1.0\n",
            "[[ True]\n",
            " [ True]\n",
            " [ True]\n",
            " [ True]]\n",
            "[[1.9648671e-04]\n",
            " [4.9049795e-02]\n",
            " [4.9049795e-02]\n",
            " [9.3120372e-01]]\n",
            "[[5.569954]\n",
            " [5.569954]]\n",
            "[-8.534579]\n"
          ],
          "name": "stdout"
        }
      ]
    },
    {
      "cell_type": "code",
      "metadata": {
        "id": "2pZrF-E5KXoj"
      },
      "source": [
        ""
      ],
      "execution_count": null,
      "outputs": []
    }
  ]
}