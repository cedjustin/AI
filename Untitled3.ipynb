{
  "nbformat": 4,
  "nbformat_minor": 0,
  "metadata": {
    "colab": {
      "name": "Untitled3.ipynb",
      "provenance": [],
      "authorship_tag": "ABX9TyN05r7HX7j4GtDxwm2mmJgF",
      "include_colab_link": true
    },
    "kernelspec": {
      "name": "python3",
      "display_name": "Python 3"
    },
    "language_info": {
      "name": "python"
    }
  },
  "cells": [
    {
      "cell_type": "markdown",
      "metadata": {
        "id": "view-in-github",
        "colab_type": "text"
      },
      "source": [
        "<a href=\"https://colab.research.google.com/github/cedjustin/AI/blob/master/Untitled3.ipynb\" target=\"_parent\"><img src=\"https://colab.research.google.com/assets/colab-badge.svg\" alt=\"Open In Colab\"/></a>"
      ]
    },
    {
      "cell_type": "code",
      "metadata": {
        "id": "se4dE3MMjOgo"
      },
      "source": [
        "# import the dependencies\n",
        "from keras.models import Sequential\n",
        "from keras.layers import Dense, Activation, Input\n",
        "from keras.optimizers import Adam\n",
        "from keras.losses import CategoricalCrossentropy\n",
        "import numpy as np\n",
        "import pandas as pd\n",
        "from sklearn.model_selection import train_test_split\n",
        "import tensorflow as tf\n",
        "tf = tf.compat.v1"
      ],
      "execution_count": 34,
      "outputs": []
    },
    {
      "cell_type": "markdown",
      "metadata": {
        "id": "WUMx5ABLhYe4"
      },
      "source": [
        "[Problem 1] Sharing and executing the official tutorial model"
      ]
    },
    {
      "cell_type": "markdown",
      "metadata": {
        "id": "haS8DMinhh8c"
      },
      "source": [
        "Link to the [tutorial](https://www.tensorflow.org/tutorials/quickstart/beginner)\n",
        "\n",
        "The results\n",
        "- loss: 0.0752\n",
        "- accuracy: 0.9775"
      ]
    },
    {
      "cell_type": "markdown",
      "metadata": {
        "id": "2KpykWcbiEQ4"
      },
      "source": [
        "[Problem 2] (Advanced Issues) Perform a variety of techniques"
      ]
    },
    {
      "cell_type": "markdown",
      "metadata": {
        "id": "aeifFGvniwwL"
      },
      "source": [
        "[Problem 3] Learning Iris (binary classification) with Keras"
      ]
    },
    {
      "cell_type": "code",
      "metadata": {
        "id": "g61qD3aPdxq_"
      },
      "source": [
        "#Load dataset\n",
        "df = pd.read_csv(\"Iris.csv\")\n",
        "#Condition extraction from data frame\n",
        "y = df[\"Species\"]\n",
        "X = df.loc[:, [\"SepalLengthCm\", \"SepalWidthCm\", \"PetalLengthCm\", \"PetalWidthCm\"]]\n",
        "# NumPy 配列に変換\n",
        "X = np.array(X)\n",
        "y = np.array(y)\n",
        "# Convert label to number\n",
        "y[y == \"Iris-setosa\"] = 0\n",
        "y[y == \"Iris-versicolor\"] = 1\n",
        "y[y == \"Iris-virginica\"] = 2\n",
        "y = y.astype(np.int64)[:, np.newaxis]\n",
        "\n",
        "#Split into train and test\n",
        "X_train, X_test, y_train, y_test = train_test_split(X, y, test_size=0.2, random_state=0)"
      ],
      "execution_count": 55,
      "outputs": []
    },
    {
      "cell_type": "code",
      "metadata": {
        "colab": {
          "base_uri": "https://localhost:8080/"
        },
        "id": "9tVIjKMnjqft",
        "outputId": "58e6dbe6-2948-40dd-88f0-c72ccad94b74"
      },
      "source": [
        "model = Sequential()\n",
        "model.add(Dense(50, activation=tf.nn.relu))\n",
        "model.add(Dense(100, activation=tf.nn.relu))\n",
        "model.add(Dense(1, activation=tf.nn.relu))\n",
        "model.compile(optimizer=Adam(learning_rate=0.0001), loss=CategoricalCrossentropy(), metrics=[\"accuracy\"])\n",
        "model.fit(X_train, y_train, shuffle=True, batch_size=10, epochs=30, verbose=2)\n",
        "score = model.evaluate(X_train, y_train, verbose=0)\n",
        "print('Train loss:', score[0])\n",
        "print('Train accuracy:', score[1])"
      ],
      "execution_count": 106,
      "outputs": [
        {
          "output_type": "stream",
          "text": [
            "Epoch 1/30\n",
            "12/12 - 0s - loss: 1.2418e-07 - accuracy: 0.3083\n",
            "Epoch 2/30\n",
            "12/12 - 0s - loss: 1.2418e-07 - accuracy: 0.3083\n",
            "Epoch 3/30\n",
            "12/12 - 0s - loss: 1.2418e-07 - accuracy: 0.3083\n",
            "Epoch 4/30\n",
            "12/12 - 0s - loss: 1.2418e-07 - accuracy: 0.3083\n",
            "Epoch 5/30\n",
            "12/12 - 0s - loss: 1.2418e-07 - accuracy: 0.3083\n",
            "Epoch 6/30\n",
            "12/12 - 0s - loss: 1.2418e-07 - accuracy: 0.3083\n",
            "Epoch 7/30\n",
            "12/12 - 0s - loss: 1.2418e-07 - accuracy: 0.3083\n",
            "Epoch 8/30\n",
            "12/12 - 0s - loss: 1.2418e-07 - accuracy: 0.3083\n",
            "Epoch 9/30\n",
            "12/12 - 0s - loss: 1.2418e-07 - accuracy: 0.3083\n",
            "Epoch 10/30\n",
            "12/12 - 0s - loss: 1.2418e-07 - accuracy: 0.3083\n",
            "Epoch 11/30\n",
            "12/12 - 0s - loss: 1.2418e-07 - accuracy: 0.3083\n",
            "Epoch 12/30\n",
            "12/12 - 0s - loss: 1.2418e-07 - accuracy: 0.3083\n",
            "Epoch 13/30\n",
            "12/12 - 0s - loss: 1.2418e-07 - accuracy: 0.3083\n",
            "Epoch 14/30\n",
            "12/12 - 0s - loss: 1.2418e-07 - accuracy: 0.3083\n",
            "Epoch 15/30\n",
            "12/12 - 0s - loss: 1.2418e-07 - accuracy: 0.3083\n",
            "Epoch 16/30\n",
            "12/12 - 0s - loss: 1.2418e-07 - accuracy: 0.3083\n",
            "Epoch 17/30\n",
            "12/12 - 0s - loss: 1.2418e-07 - accuracy: 0.3083\n",
            "Epoch 18/30\n",
            "12/12 - 0s - loss: 1.2418e-07 - accuracy: 0.3083\n",
            "Epoch 19/30\n",
            "12/12 - 0s - loss: 1.2418e-07 - accuracy: 0.3083\n",
            "Epoch 20/30\n",
            "12/12 - 0s - loss: 1.2418e-07 - accuracy: 0.3083\n",
            "Epoch 21/30\n",
            "12/12 - 0s - loss: 1.2418e-07 - accuracy: 0.3083\n",
            "Epoch 22/30\n",
            "12/12 - 0s - loss: 1.2418e-07 - accuracy: 0.3083\n",
            "Epoch 23/30\n",
            "12/12 - 0s - loss: 1.2418e-07 - accuracy: 0.3083\n",
            "Epoch 24/30\n",
            "12/12 - 0s - loss: 1.2418e-07 - accuracy: 0.3083\n",
            "Epoch 25/30\n",
            "12/12 - 0s - loss: 1.2418e-07 - accuracy: 0.3083\n",
            "Epoch 26/30\n",
            "12/12 - 0s - loss: 1.2418e-07 - accuracy: 0.3083\n",
            "Epoch 27/30\n",
            "12/12 - 0s - loss: 1.2418e-07 - accuracy: 0.3083\n",
            "Epoch 28/30\n",
            "12/12 - 0s - loss: 1.2418e-07 - accuracy: 0.3083\n",
            "Epoch 29/30\n",
            "12/12 - 0s - loss: 1.2418e-07 - accuracy: 0.3083\n",
            "Epoch 30/30\n",
            "12/12 - 0s - loss: 1.2418e-07 - accuracy: 0.3083\n",
            "Train loss: 1.2417633854511223e-07\n",
            "Train accuracy: 0.3083333373069763\n"
          ],
          "name": "stdout"
        }
      ]
    },
    {
      "cell_type": "code",
      "metadata": {
        "id": "D30YvSkSkO71"
      },
      "source": [
        "pred_proba = model.predict(X_test,batch_size=10)\n",
        "rounded_preds = np.argmax(pred_proba, 1)"
      ],
      "execution_count": 100,
      "outputs": []
    },
    {
      "cell_type": "code",
      "metadata": {
        "colab": {
          "base_uri": "https://localhost:8080/"
        },
        "id": "xMXK5y3xzRPK",
        "outputId": "d0c0c379-af9b-4a4a-8693-e964718c0832"
      },
      "source": [
        "for i in rounded_preds:\n",
        "  print(i)"
      ],
      "execution_count": 107,
      "outputs": [
        {
          "output_type": "stream",
          "text": [
            "0\n",
            "0\n",
            "0\n",
            "0\n",
            "0\n",
            "0\n",
            "0\n",
            "0\n",
            "0\n",
            "0\n",
            "0\n",
            "0\n",
            "0\n",
            "0\n",
            "0\n",
            "0\n",
            "0\n",
            "0\n",
            "0\n",
            "0\n",
            "0\n",
            "0\n",
            "0\n",
            "0\n",
            "0\n",
            "0\n",
            "0\n",
            "0\n",
            "0\n",
            "0\n"
          ],
          "name": "stdout"
        }
      ]
    },
    {
      "cell_type": "code",
      "metadata": {
        "id": "NK7pHXB7zlUH"
      },
      "source": [
        ""
      ],
      "execution_count": null,
      "outputs": []
    }
  ]
}