{
 "cells": [
  {
   "cell_type": "code",
   "execution_count": 3,
   "metadata": {},
   "outputs": [
    {
     "name": "stdout",
     "output_type": "stream",
     "text": [
      "36.8 µs ± 7.71 µs per loop (mean ± std. dev. of 7 runs, 10000 loops each)\n"
     ]
    }
   ],
   "source": [
    "%%timeit\n",
    "import matplotlib.pyplot as plt\n",
    "THICKNESS = 0.00008\n",
    "exponential=1\n",
    "folded_thickness=1\n",
    "empty_list=[]\n",
    "empty_list.append(THICKNESS)\n",
    "for i in range(43):\n",
    "  exponential = exponential*2\n",
    "  folded_thickness= THICKNESS*exponential\n",
    "  empty_list.append(folded_thickness)\n",
    "# plt.title ( \"​ ​thickness of folded paper​ ​\" ) \n",
    "# plt.xlabel ( \"​ ​number of folds​ ​\" ) \n",
    "# plt.ylabel ( \"​ ​thickness [m]​ ​\") \n",
    "# plt.plot(empty_list, linestyle='dashed', linewidth=2, color='green')\n",
    "# plt.show()"
   ]
  },
  {
   "cell_type": "code",
   "execution_count": 4,
   "metadata": {},
   "outputs": [
    {
     "name": "stdout",
     "output_type": "stream",
     "text": [
      "410 ns ± 34.4 ns per loop (mean ± std. dev. of 7 runs, 1000000 loops each)\n"
     ]
    }
   ],
   "source": [
    "%%timeit\n",
    "THICKNESS = 0.00008\n",
    "folded_thickness = THICKNESS * (2**43)"
   ]
  },
  {
   "cell_type": "code",
   "execution_count": null,
   "metadata": {},
   "outputs": [],
   "source": []
  }
 ],
 "metadata": {
  "kernelspec": {
   "display_name": "Python 3",
   "language": "python",
   "name": "python3"
  },
  "language_info": {
   "codemirror_mode": {
    "name": "ipython",
    "version": 3
   },
   "file_extension": ".py",
   "mimetype": "text/x-python",
   "name": "python",
   "nbconvert_exporter": "python",
   "pygments_lexer": "ipython3",
   "version": "3.7.6"
  }
 },
 "nbformat": 4,
 "nbformat_minor": 4
}
