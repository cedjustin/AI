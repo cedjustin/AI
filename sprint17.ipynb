{
  "nbformat": 4,
  "nbformat_minor": 0,
  "metadata": {
    "colab": {
      "name": "Untitled5.ipynb",
      "provenance": [],
      "authorship_tag": "ABX9TyNXp3HHcFv6Mb8LopllGujr",
      "include_colab_link": true
    },
    "kernelspec": {
      "name": "python3",
      "display_name": "Python 3"
    },
    "language_info": {
      "name": "python"
    }
  },
  "cells": [
    {
      "cell_type": "markdown",
      "metadata": {
        "id": "view-in-github",
        "colab_type": "text"
      },
      "source": [
        "<a href=\"https://colab.research.google.com/github/cedjustin/AI/blob/master/sprint17.ipynb\" target=\"_parent\"><img src=\"https://colab.research.google.com/assets/colab-badge.svg\" alt=\"Open In Colab\"/></a>"
      ]
    },
    {
      "cell_type": "code",
      "metadata": {
        "colab": {
          "base_uri": "https://localhost:8080/"
        },
        "id": "D32_lFDfWnmG",
        "outputId": "a6afebcc-7139-4635-bcec-02df3f461b29"
      },
      "source": [
        "from google.colab import drive\n",
        "drive.mount('/content/drive/')"
      ],
      "execution_count": 1,
      "outputs": [
        {
          "output_type": "stream",
          "text": [
            "Mounted at /content/drive/\n"
          ],
          "name": "stdout"
        }
      ]
    },
    {
      "cell_type": "code",
      "metadata": {
        "colab": {
          "base_uri": "https://localhost:8080/"
        },
        "id": "k2NWZeitWwMo",
        "outputId": "fa631203-27a2-4640-f877-dfc9aae024a8"
      },
      "source": [
        "cd drive/MyDrive/ObjectDetection-master/"
      ],
      "execution_count": 5,
      "outputs": [
        {
          "output_type": "stream",
          "text": [
            "/content/drive/MyDrive/ObjectDetection-master\n"
          ],
          "name": "stdout"
        }
      ]
    },
    {
      "cell_type": "code",
      "metadata": {
        "colab": {
          "base_uri": "https://localhost:8080/"
        },
        "id": "St1e38G7YqO7",
        "outputId": "bf7515f7-52e6-44d7-c441-b12e3630a4d7"
      },
      "source": [
        "!pip install keras==2.2.0"
      ],
      "execution_count": 21,
      "outputs": [
        {
          "output_type": "stream",
          "text": [
            "Requirement already satisfied: keras==2.2.0 in /usr/local/lib/python3.7/dist-packages (2.2.0)\n",
            "Requirement already satisfied: six>=1.9.0 in /usr/local/lib/python3.7/dist-packages (from keras==2.2.0) (1.15.0)\n",
            "Requirement already satisfied: h5py in /usr/local/lib/python3.7/dist-packages (from keras==2.2.0) (2.10.0)\n",
            "Requirement already satisfied: scipy>=0.14 in /usr/local/lib/python3.7/dist-packages (from keras==2.2.0) (1.4.1)\n",
            "Requirement already satisfied: pyyaml in /usr/local/lib/python3.7/dist-packages (from keras==2.2.0) (3.13)\n",
            "Requirement already satisfied: numpy>=1.9.1 in /usr/local/lib/python3.7/dist-packages (from keras==2.2.0) (1.19.5)\n",
            "Requirement already satisfied: keras-applications==1.0.2 in /usr/local/lib/python3.7/dist-packages (from keras==2.2.0) (1.0.2)\n",
            "Requirement already satisfied: keras-preprocessing==1.0.1 in /usr/local/lib/python3.7/dist-packages (from keras==2.2.0) (1.0.1)\n"
          ],
          "name": "stdout"
        }
      ]
    },
    {
      "cell_type": "code",
      "metadata": {
        "colab": {
          "base_uri": "https://localhost:8080/"
        },
        "id": "3AN7crz5XRjg",
        "outputId": "b1baa0a8-cfc5-45a8-ff15-24a276778d58"
      },
      "source": [
        "!python train.py -p annotation.txt"
      ],
      "execution_count": 22,
      "outputs": [
        {
          "output_type": "stream",
          "text": [
            "Using TensorFlow backend.\n",
            "2021-05-03 09:01:15.266206: I tensorflow/stream_executor/platform/default/dso_loader.cc:49] Successfully opened dynamic library libcudart.so.11.0\n",
            "Parsing annotation files\n",
            "Traceback (most recent call last):\n",
            "  File \"train.py\", line 193, in <module>\n",
            "    main()\n",
            "  File \"train.py\", line 54, in main\n",
            "    all_imgs, classes_count, class_mapping = get_data(args.path)\n",
            "  File \"/content/drive/My Drive/ObjectDetection-master/model/parser.py\", line 28, in get_data\n",
            "    (rows,cols) = img.shape[:2]\n",
            "AttributeError: 'NoneType' object has no attribute 'shape'\n"
          ],
          "name": "stdout"
        }
      ]
    },
    {
      "cell_type": "code",
      "metadata": {
        "id": "3ECdIQixXeUO"
      },
      "source": [
        ""
      ],
      "execution_count": null,
      "outputs": []
    }
  ]
}