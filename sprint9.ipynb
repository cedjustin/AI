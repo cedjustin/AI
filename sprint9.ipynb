{
  "nbformat": 4,
  "nbformat_minor": 0,
  "metadata": {
    "kernelspec": {
      "display_name": "Python 3",
      "language": "python",
      "name": "python3"
    },
    "language_info": {
      "codemirror_mode": {
        "name": "ipython",
        "version": 3
      },
      "file_extension": ".py",
      "mimetype": "text/x-python",
      "name": "python",
      "nbconvert_exporter": "python",
      "pygments_lexer": "ipython3",
      "version": "3.8.5"
    },
    "colab": {
      "name": "sprint9.ipynb",
      "provenance": []
    },
    "accelerator": "GPU"
  },
  "cells": [
    {
      "cell_type": "code",
      "metadata": {
        "id": "uECBDtFUbm_Q"
      },
      "source": [
        "# importing dependencies\n",
        "import matplotlib.pyplot as plt\n",
        "from keras.datasets import mnist\n",
        "import numpy as np\n",
        "from sklearn.preprocessing import OneHotEncoder\n",
        "from sklearn.model_selection import train_test_split"
      ],
      "execution_count": 18,
      "outputs": []
    },
    {
      "cell_type": "code",
      "metadata": {
        "id": "We0Ryhlqbm_g"
      },
      "source": [
        "# get subsets\n",
        "(X_train, y_train), (X_test, y_test) = mnist.load_data()"
      ],
      "execution_count": 19,
      "outputs": []
    },
    {
      "cell_type": "code",
      "metadata": {
        "colab": {
          "base_uri": "https://localhost:8080/"
        },
        "id": "tiNoksA-bm_h",
        "outputId": "3bc4eeb9-aa52-4828-d3c3-149bc1d81ff1"
      },
      "source": [
        "# checking the subsets\n",
        "print(X_train.shape) \n",
        "print(X_test.shape)"
      ],
      "execution_count": 20,
      "outputs": [
        {
          "output_type": "stream",
          "text": [
            "(60000, 28, 28)\n",
            "(10000, 28, 28)\n"
          ],
          "name": "stdout"
        }
      ]
    },
    {
      "cell_type": "code",
      "metadata": {
        "id": "2rNkkIbjbm_k"
      },
      "source": [
        "# flattening the subsets\n",
        "X_train = X_train.reshape(-1,784)\n",
        "X_test = X_test.reshape(-1,784)"
      ],
      "execution_count": 21,
      "outputs": []
    },
    {
      "cell_type": "code",
      "metadata": {
        "colab": {
          "base_uri": "https://localhost:8080/",
          "height": 281
        },
        "id": "da7azwaVbm_l",
        "outputId": "8026ad69-7654-4ab4-c7af-2e618581cea0"
      },
      "source": [
        "# visualize the data\n",
        "%matplotlib inline\n",
        "index = 0\n",
        "image = X_train[index].reshape(28,28)\n",
        "plt.imshow(image, 'gray', vmin = 0, vmax = 255)\n",
        "plt.title('label : {}'.format(y_train[index]))\n",
        "plt.show()"
      ],
      "execution_count": 22,
      "outputs": [
        {
          "output_type": "display_data",
          "data": {
            "image/png": "[encoded data removed]",
            "text/plain": [
              "<Figure size 432x288 with 1 Axes>"
            ]
          },
          "metadata": {
            "tags": [],
            "needs_background": "light"
          }
        }
      ]
    },
    {
      "cell_type": "code",
      "metadata": {
        "colab": {
          "base_uri": "https://localhost:8080/"
        },
        "id": "Y9giwg0Xbm_m",
        "outputId": "7af8e32e-dc0c-4966-f176-2f9ea285c565"
      },
      "source": [
        "# pre processing\n",
        "X_train = X_train.astype(np.float)\n",
        "X_test = X_test.astype(np.float)\n",
        "X_train /= 255\n",
        "X_test /= 255\n",
        "print(X_train.max()) # 1.0\n",
        "print(X_train.min())"
      ],
      "execution_count": 23,
      "outputs": [
        {
          "output_type": "stream",
          "text": [
            "1.0\n",
            "0.0\n"
          ],
          "name": "stdout"
        }
      ]
    },
    {
      "cell_type": "code",
      "metadata": {
        "colab": {
          "base_uri": "https://localhost:8080/"
        },
        "id": "f10EJYL4bm_n",
        "outputId": "d8ac06d8-6751-4375-beb4-df8607e631b2"
      },
      "source": [
        "enc = OneHotEncoder(handle_unknown='ignore', sparse=False)\n",
        "y_train_one_hot = enc.fit_transform(y_train[:, np.newaxis])\n",
        "y_test_one_hot = enc.transform(y_test[:, np.newaxis])\n",
        "print(y_train.shape) # (60000,)\n",
        "print(y_train_one_hot.shape) # (60000, 10)\n",
        "print(y_train_one_hot.dtype) # float64"
      ],
      "execution_count": 24,
      "outputs": [
        {
          "output_type": "stream",
          "text": [
            "(60000,)\n",
            "(60000, 10)\n",
            "float64\n"
          ],
          "name": "stdout"
        }
      ]
    },
    {
      "cell_type": "code",
      "metadata": {
        "id": "8WcVgBiXbm_o"
      },
      "source": [
        "# splitting our subsets into train and validation subsets\n",
        "X_train, X_val, y_train, y_val = train_test_split(X_train, y_train, test_size=0.2)"
      ],
      "execution_count": 25,
      "outputs": []
    },
    {
      "cell_type": "code",
      "metadata": {
        "colab": {
          "base_uri": "https://localhost:8080/"
        },
        "id": "bba1V1yKbm_q",
        "outputId": "6b9dc8ed-9be4-43a1-c9d8-0306aef7f8b2"
      },
      "source": [
        "print(X_train.shape) # (48000, 784)\n",
        "print(X_val.shape) # (12000, 784)"
      ],
      "execution_count": 26,
      "outputs": [
        {
          "output_type": "stream",
          "text": [
            "(48000, 784)\n",
            "(12000, 784)\n"
          ],
          "name": "stdout"
        }
      ]
    },
    {
      "cell_type": "code",
      "metadata": {
        "id": "-ZEwNFpbbm_r"
      },
      "source": [
        "# mini batch\n",
        "class GetMiniBatch:\n",
        "    \"\"\"\n",
        "Iterator to get a mini-batch\n",
        "    Parameters\n",
        "    ----------\n",
        "    X : The following forms of ndarray, shape (n_samples, n_features)\n",
        "      Training data\n",
        "    y : The following form of ndarray, shape (n_samples, 1)\n",
        "      Correct answer value\n",
        "    batch_size : int\n",
        "      Batch size\n",
        "    seed : int\n",
        "      NumPy random number seed\n",
        "    \"\"\"\n",
        "    def __init__(self, X, y, batch_size = 20, seed=0):\n",
        "        self.batch_size = batch_size\n",
        "        np.random.seed(seed)\n",
        "        shuffle_index = np.random.permutation(np.arange(X.shape[0]))\n",
        "        self._X = X[shuffle_index]\n",
        "        self._y = y[shuffle_index]\n",
        "        self._stop = np.ceil(X.shape[0]/self.batch_size).astype(np.int)\n",
        "    def __len__(self):\n",
        "        return self._stop\n",
        "    def __getitem__(self,item):\n",
        "        p0 = item*self.batch_size\n",
        "        p1 = item*self.batch_size + self.batch_size\n",
        "        return self._X[p0:p1], self._y[p0:p1]        \n",
        "    def __iter__(self):\n",
        "        self._counter = 0\n",
        "        return self\n",
        "    def __next__(self):\n",
        "        if self._counter >= self._stop:\n",
        "            raise StopIteration()\n",
        "        p0 = self._counter*self.batch_size\n",
        "        p1 = self._counter*self.batch_size + self.batch_size\n",
        "        self._counter += 1\n",
        "        return self._X[p0:p1], self._y[p0:p1]"
      ],
      "execution_count": 27,
      "outputs": []
    },
    {
      "cell_type": "code",
      "metadata": {
        "id": "RCkrElU3bm_t"
      },
      "source": [
        "# calculating the batch\n",
        "get_mini_batch = GetMiniBatch(X_train, y_train, batch_size=20)"
      ],
      "execution_count": 28,
      "outputs": []
    },
    {
      "cell_type": "code",
      "metadata": {
        "colab": {
          "base_uri": "https://localhost:8080/"
        },
        "id": "V8vYbTrlbm_u",
        "outputId": "08db6603-12b2-4abd-b9b9-ba1b21574241"
      },
      "source": [
        "print(len(get_mini_batch))"
      ],
      "execution_count": 29,
      "outputs": [
        {
          "output_type": "stream",
          "text": [
            "2400\n"
          ],
          "name": "stdout"
        }
      ]
    },
    {
      "cell_type": "markdown",
      "metadata": {
        "id": "QO6dTy91bm_u"
      },
      "source": [
        "[Problem 1] Creating a code to determine the initial weight value"
      ]
    },
    {
      "cell_type": "code",
      "metadata": {
        "id": "RZqgUzevbm_v"
      },
      "source": [
        "n_sample,n_features = X_train.shape\n",
        "n_nodes1 = 400\n",
        "sigma = 0.01 # Standard deviation of Gaussian distribution\n",
        "W1 = sigma * np.random.randn(n_features, n_nodes1)"
      ],
      "execution_count": 30,
      "outputs": []
    },
    {
      "cell_type": "code",
      "metadata": {
        "colab": {
          "base_uri": "https://localhost:8080/"
        },
        "id": "V4QvA4-Lbm_w",
        "outputId": "c6c6b4cb-c70c-466f-941b-14fe4d57d2fd"
      },
      "source": [
        "print(n_nodes1)"
      ],
      "execution_count": 31,
      "outputs": [
        {
          "output_type": "stream",
          "text": [
            "400\n"
          ],
          "name": "stdout"
        }
      ]
    },
    {
      "cell_type": "code",
      "metadata": {
        "id": "KuznxApDbm_w"
      },
      "source": [
        "# neural network from scratch\n",
        "class ScratchSimpleNeuralNetrowkClassifier():\n",
        "\n",
        "    def __init__(self, verbose = True, n_features=784,n_nodes1=400,n_nodes2=200, batch_size=20,n_output=10, n_epoch=30, lr=0.5, sigma=0.01):\n",
        "        self.verbose = verbose\n",
        "        self.n_features = n_features\n",
        "        self.n_nodes1 = n_nodes1\n",
        "        self.n_nodes2 = n_nodes2\n",
        "        self.batch_size = batch_size\n",
        "        self.n_output = n_output\n",
        "        self.n_epoch = 30\n",
        "        self.lr = lr\n",
        "        self.sigma = sigma\n",
        "        self.W1 = None\n",
        "        self.b1 = None\n",
        "        self.W2 = None\n",
        "        self.b2 = None\n",
        "        pass\n",
        "    \n",
        "    def fit(self, X, y, X_val=None, y_val=None):\n",
        "        for epoch in range(self.n_epoch):\n",
        "            get_mini_batch = GetMiniBatch(X, y, self.batch_size)\n",
        "            for mini_X_train, mini_y_train in get_mini_batch:\n",
        "                \n",
        "                # forward propagation input -> hidden layer\n",
        "                h = self.forward_propagation(mini_X_train, self.n_features, self.n_nodes1, 'hidden')\n",
        "                # forward propagation hidden -> output layer\n",
        "                o = self.forward_propagation(mini_X_train, self.n_nodes1, self.n_nodes2, 'output')\n",
        "                \n",
        "                \n",
        "        if self.verbose:\n",
        "            # When verbose is set to True, the learning process etc. is output.\n",
        "            print()\n",
        "        pass\n",
        "    \n",
        "    def create_init_w_b(self,n_feature,n_nodes, layer):\n",
        "      if layer == 'hidden':\n",
        "        self.W1 = self.sigma * np.random.randn(n_features, n_nodes)\n",
        "        self.b1 = self.sigma * np.random.randn(n_nodes)\n",
        "        return self.W1,self.b1\n",
        "      else:\n",
        "        self.W2 = self.sigma * np.random.randn(n_features, n_nodes)\n",
        "        self.b2 = self.sigma * np.random.randn(n_nodes)\n",
        "        return self.W2,self.b2\n",
        "    \n",
        "    def activation_function(self,X):\n",
        "        return 1/(1+np.exp(-X))\n",
        "    \n",
        "    def forward_propagation(self,X, n_features,n_nodes, layer):\n",
        "        W,b = self.create_init_w_b(n_features, n_nodes, layer)\n",
        "        layer_pre = np.dot(X,W)+b\n",
        "        layer = self.activation_function(layer_pre)\n",
        "        return layer\n",
        "        \n",
        "    \n",
        "    def predict(self, X):\n",
        "      y_pred = []\n",
        "      for image in X:\n",
        "        # creating the hidden layer\n",
        "        hidden_layer_pre = np.dot(image,self.W1) + self.b1\n",
        "        h_layer = self.activation_function(hidden_layer_pre)\n",
        "\n",
        "        # creating the output layer\n",
        "        output_layer_pre = np.dot(image,self.W2) + self.b2\n",
        "        o_layer = self.activation_function(output_layer_pre)\n",
        "\n",
        "        y_pred.append(o_layer.argmax())\n",
        "      return y_pred"
      ],
      "execution_count": 32,
      "outputs": []
    },
    {
      "cell_type": "code",
      "metadata": {
        "colab": {
          "base_uri": "https://localhost:8080/"
        },
        "id": "wbAySPcRbm_x",
        "outputId": "e7edd283-2e76-4939-a87d-ebee8911bf87"
      },
      "source": [
        "model = ScratchSimpleNeuralNetrowkClassifier()\n",
        "model.fit(X_train,y_train,X_val,y_val)"
      ],
      "execution_count": 33,
      "outputs": [
        {
          "output_type": "stream",
          "text": [
            "\n"
          ],
          "name": "stdout"
        }
      ]
    },
    {
      "cell_type": "code",
      "metadata": {
        "id": "EqhLyeUwOWft",
        "outputId": "b281247c-8694-46ec-c7d9-255b80483d63",
        "colab": {
          "base_uri": "https://localhost:8080/"
        }
      },
      "source": [
        "y_pred = model.predict(X_val)\r\n",
        "print(y_pred)"
      ],
      "execution_count": 34,
      "outputs": [
        {
          "output_type": "stream",
          "text": [
            "[35, 127, 127, 182, 44, 149, 182, 34, 141, 62, 105, 46, 44, 106, 20, 193, 141, 26, 141, 192, 182, 62, 44, 39, 67, 35, 100, 67, 54, 62, 170, 35, 127, 141, 67, 34, 88, 142, 141, 62, 62, 141, 46, 20, 100, 20, 26, 62, 26, 9, 0, 44, 141, 26, 100, 20, 62, 35, 105, 193, 44, 193, 163, 142, 142, 126, 20, 46, 34, 63, 44, 20, 142, 55, 142, 141, 43, 62, 160, 23, 26, 141, 193, 44, 141, 141, 100, 88, 88, 142, 141, 100, 171, 46, 127, 35, 100, 16, 198, 54, 20, 20, 44, 142, 127, 100, 151, 99, 105, 26, 39, 67, 159, 62, 182, 141, 127, 35, 186, 0, 20, 168, 192, 19, 136, 193, 141, 193, 35, 193, 105, 105, 34, 105, 167, 105, 148, 62, 35, 62, 20, 95, 195, 141, 151, 100, 74, 141, 62, 62, 186, 34, 34, 148, 142, 193, 195, 34, 62, 111, 195, 105, 171, 44, 193, 195, 99, 48, 67, 127, 73, 141, 20, 163, 44, 168, 20, 99, 142, 148, 88, 55, 198, 97, 193, 88, 141, 193, 186, 128, 67, 142, 141, 182, 20, 105, 88, 100, 46, 141, 58, 74, 105, 141, 53, 44, 62, 105, 20, 199, 110, 67, 163, 16, 62, 23, 74, 62, 20, 100, 20, 193, 147, 34, 198, 20, 195, 127, 111, 67, 100, 35, 141, 62, 88, 19, 193, 100, 100, 141, 111, 65, 95, 100, 0, 20, 100, 25, 99, 105, 100, 43, 62, 20, 48, 182, 141, 62, 35, 20, 62, 62, 23, 127, 34, 35, 163, 105, 193, 51, 67, 97, 55, 193, 141, 62, 141, 20, 62, 67, 142, 20, 93, 26, 195, 62, 163, 55, 20, 193, 105, 39, 44, 100, 142, 28, 62, 99, 34, 44, 62, 74, 62, 62, 62, 16, 127, 141, 35, 142, 48, 159, 35, 20, 100, 46, 62, 69, 88, 141, 20, 34, 73, 168, 20, 62, 141, 171, 67, 44, 149, 62, 100, 168, 111, 142, 46, 100, 182, 20, 141, 105, 182, 34, 54, 192, 171, 168, 142, 48, 19, 105, 142, 163, 195, 141, 69, 35, 54, 142, 67, 100, 88, 105, 88, 48, 3, 141, 105, 171, 192, 141, 149, 142, 152, 165, 97, 35, 181, 182, 62, 148, 63, 182, 198, 195, 88, 142, 20, 100, 192, 48, 127, 141, 62, 105, 46, 100, 168, 119, 62, 127, 46, 19, 39, 19, 193, 141, 111, 44, 46, 28, 62, 100, 198, 62, 142, 111, 100, 34, 178, 168, 62, 166, 67, 193, 150, 39, 127, 105, 20, 54, 138, 193, 62, 100, 105, 63, 20, 171, 20, 20, 182, 73, 44, 198, 163, 70, 99, 44, 105, 97, 20, 39, 186, 126, 19, 105, 127, 142, 100, 62, 127, 149, 13, 100, 20, 62, 115, 141, 19, 39, 141, 186, 151, 159, 20, 142, 163, 111, 142, 39, 62, 54, 67, 35, 198, 39, 67, 62, 69, 20, 62, 62, 12, 198, 20, 34, 62, 160, 58, 151, 97, 39, 67, 100, 67, 105, 152, 193, 114, 142, 105, 20, 142, 100, 195, 148, 39, 168, 141, 193, 44, 34, 19, 100, 151, 100, 127, 39, 62, 198, 192, 100, 35, 62, 149, 127, 62, 16, 100, 127, 16, 62, 141, 20, 105, 148, 195, 105, 62, 168, 186, 62, 62, 99, 23, 39, 20, 99, 105, 38, 141, 28, 34, 20, 62, 62, 54, 97, 35, 34, 69, 62, 20, 48, 62, 31, 26, 67, 141, 141, 111, 182, 111, 141, 105, 67, 69, 148, 100, 95, 39, 62, 35, 20, 142, 142, 20, 127, 19, 60, 34, 20, 195, 127, 100, 168, 62, 168, 67, 62, 34, 141, 67, 100, 20, 198, 141, 105, 111, 67, 35, 127, 198, 35, 100, 62, 62, 20, 141, 20, 35, 46, 167, 62, 44, 35, 192, 62, 100, 141, 39, 148, 62, 193, 115, 141, 35, 43, 151, 88, 171, 159, 195, 39, 88, 142, 20, 34, 141, 153, 58, 62, 141, 58, 128, 186, 35, 141, 141, 39, 69, 198, 62, 34, 131, 39, 163, 105, 186, 43, 34, 97, 46, 115, 28, 188, 168, 171, 19, 26, 19, 4, 62, 127, 55, 99, 105, 26, 30, 141, 141, 35, 142, 195, 141, 198, 168, 44, 0, 20, 67, 62, 62, 99, 39, 84, 34, 25, 74, 46, 142, 20, 141, 44, 142, 60, 111, 62, 141, 26, 147, 20, 126, 46, 100, 60, 100, 105, 20, 105, 141, 105, 127, 111, 20, 188, 141, 20, 171, 141, 142, 44, 62, 192, 188, 105, 163, 34, 105, 20, 100, 34, 127, 62, 44, 55, 186, 62, 198, 141, 127, 62, 35, 88, 142, 193, 67, 20, 74, 28, 119, 20, 26, 148, 62, 46, 141, 20, 26, 99, 100, 0, 105, 69, 111, 148, 127, 100, 99, 25, 62, 48, 195, 35, 58, 34, 127, 69, 141, 35, 19, 55, 62, 156, 141, 195, 44, 88, 65, 34, 60, 19, 44, 20, 67, 160, 19, 100, 46, 111, 67, 62, 198, 62, 105, 141, 193, 93, 0, 46, 20, 141, 100, 35, 62, 67, 88, 62, 100, 141, 35, 193, 44, 193, 182, 35, 141, 34, 141, 193, 34, 186, 141, 48, 54, 62, 100, 25, 193, 110, 62, 111, 34, 141, 99, 44, 195, 62, 127, 142, 127, 58, 20, 35, 168, 105, 100, 44, 19, 111, 141, 160, 35, 58, 26, 142, 20, 193, 20, 127, 28, 168, 20, 23, 105, 67, 142, 141, 62, 35, 46, 69, 35, 48, 198, 115, 127, 193, 163, 39, 195, 39, 62, 86, 127, 163, 142, 130, 163, 141, 9, 25, 100, 193, 35, 151, 126, 0, 62, 193, 20, 35, 112, 62, 43, 62, 62, 62, 141, 62, 35, 100, 127, 142, 13, 67, 69, 105, 62, 193, 168, 62, 127, 20, 198, 111, 20, 142, 127, 62, 163, 182, 151, 19, 141, 142, 163, 35, 127, 74, 99, 195, 56, 20, 198, 62, 105, 62, 60, 188, 74, 105, 168, 67, 127, 100, 62, 168, 100, 67, 141, 20, 142, 100, 168, 20, 54, 20, 105, 133, 160, 17, 62, 20, 111, 20, 97, 23, 141, 99, 60, 100, 193, 127, 171, 73, 100, 39, 193, 166, 39, 62, 142, 62, 141, 62, 35, 20, 168, 199, 62, 20, 193, 20, 20, 102, 39, 88, 166, 46, 35, 99, 62, 62, 100, 105, 7, 62, 99, 62, 34, 127, 115, 43, 58, 62, 142, 44, 58, 111, 62, 99, 20, 193, 141, 43, 62, 159, 16, 198, 30, 39, 112, 9, 34, 67, 126, 23, 44, 62, 34, 193, 20, 99, 38, 48, 20, 34, 34, 20, 62, 127, 34, 20, 20, 35, 54, 69, 20, 182, 20, 62, 55, 171, 23, 168, 163, 115, 141, 141, 20, 46, 188, 198, 55, 142, 193, 100, 105, 127, 193, 111, 193, 186, 62, 97, 186, 62, 174, 34, 34, 67, 138, 60, 88, 104, 95, 84, 127, 16, 105, 62, 88, 69, 20, 30, 30, 62, 28, 114, 67, 35, 142, 141, 141, 39, 163, 54, 141, 62, 100, 142, 193, 105, 193, 62, 62, 30, 127, 148, 142, 174, 19, 39, 39, 171, 65, 19, 62, 195, 111, 74, 165, 20, 20, 46, 30, 142, 193, 88, 46, 39, 19, 171, 165, 88, 0, 69, 111, 62, 9, 39, 141, 62, 126, 62, 62, 84, 35, 105, 26, 149, 99, 182, 62, 159, 111, 105, 105, 62, 62, 111, 193, 193, 34, 141, 127, 62, 111, 141, 127, 35, 159, 157, 46, 44, 34, 46, 16, 156, 192, 195, 20, 159, 149, 142, 62, 35, 100, 16, 128, 62, 19, 39, 138, 35, 142, 97, 141, 141, 100, 67, 31, 127, 73, 62, 159, 142, 34, 69, 55, 48, 141, 44, 142, 35, 62, 99, 100, 107, 160, 11, 28, 141, 34, 48, 142, 56, 35, 193, 168, 142, 20, 20, 179, 34, 141, 193, 43, 127, 62, 173, 20, 65, 99, 34, 141, 39, 69, 193, 34, 56, 19, 20, 67, 182, 198, 35, 35, 163, 19, 192, 30, 111, 26, 62, 141, 149, 105, 171, 142, 62, 30, 62, 100, 159, 44, 192, 142, 127, 142, 62, 95, 195, 16, 54, 168, 193, 100, 198, 80, 34, 39, 142, 141, 34, 112, 22, 20, 86, 93, 34, 106, 127, 44, 34, 20, 34, 69, 46, 54, 141, 84, 88, 35, 35, 141, 105, 26, 23, 35, 127, 100, 62, 39, 28, 20, 141, 62, 46, 55, 141, 63, 193, 193, 105, 99, 141, 20, 62, 142, 55, 20, 69, 34, 148, 141, 195, 20, 65, 16, 20, 20, 20, 142, 163, 186, 48, 62, 26, 195, 34, 100, 127, 44, 23, 28, 127, 20, 105, 105, 105, 141, 62, 62, 23, 99, 126, 126, 100, 67, 35, 20, 35, 142, 100, 62, 20, 35, 35, 114, 23, 127, 62, 55, 163, 39, 105, 20, 126, 25, 62, 186, 20, 39, 20, 35, 67, 62, 35, 182, 62, 142, 34, 126, 48, 88, 126, 69, 67, 67, 100, 20, 141, 54, 165, 127, 62, 20, 100, 20, 141, 88, 193, 193, 62, 88, 88, 148, 62, 100, 48, 34, 142, 193, 26, 62, 142, 22, 103, 141, 46, 28, 168, 141, 35, 39, 34, 147, 35, 19, 88, 130, 88, 28, 141, 20, 99, 141, 62, 31, 193, 141, 67, 73, 11, 95, 100, 62, 127, 111, 156, 141, 34, 128, 142, 62, 105, 100, 141, 69, 35, 35, 62, 43, 100, 105, 99, 20, 100, 141, 141, 151, 20, 67, 62, 34, 192, 190, 26, 141, 148, 193, 62, 141, 67, 148, 19, 168, 69, 104, 74, 62, 100, 100, 192, 171, 20, 34, 105, 100, 163, 159, 58, 99, 186, 198, 141, 186, 142, 142, 88, 20, 20, 105, 62, 179, 141, 62, 192, 105, 193, 99, 126, 34, 20, 62, 62, 193, 186, 20, 23, 26, 141, 55, 62, 35, 100, 0, 141, 20, 62, 44, 35, 99, 62, 54, 62, 46, 35, 67, 111, 62, 100, 105, 157, 44, 34, 157, 195, 35, 67, 0, 20, 127, 174, 198, 20, 26, 182, 67, 141, 53, 20, 73, 62, 20, 88, 199, 20, 163, 34, 141, 20, 35, 88, 141, 100, 62, 62, 0, 46, 44, 193, 193, 100, 100, 9, 127, 186, 30, 44, 73, 46, 67, 39, 35, 19, 35, 100, 174, 128, 141, 20, 62, 193, 25, 193, 62, 4, 48, 103, 171, 151, 62, 62, 44, 100, 44, 149, 48, 105, 99, 44, 141, 34, 141, 174, 105, 26, 20, 20, 105, 128, 105, 62, 88, 171, 67, 62, 20, 44, 127, 62, 35, 62, 62, 199, 88, 62, 62, 44, 62, 97, 34, 35, 9, 105, 141, 19, 126, 35, 19, 16, 142, 100, 35, 54, 70, 142, 20, 73, 69, 35, 141, 99, 171, 48, 138, 20, 62, 67, 197, 44, 35, 127, 46, 69, 20, 73, 20, 141, 171, 127, 105, 62, 148, 141, 35, 62, 48, 105, 19, 100, 195, 141, 62, 141, 99, 128, 193, 20, 105, 20, 20, 39, 70, 62, 157, 111, 69, 141, 69, 39, 171, 34, 195, 141, 99, 141, 142, 105, 23, 26, 62, 141, 105, 62, 20, 141, 62, 111, 54, 28, 62, 142, 39, 34, 114, 44, 195, 127, 195, 43, 147, 99, 105, 127, 56, 44, 99, 111, 62, 126, 192, 188, 141, 141, 111, 84, 34, 35, 20, 56, 166, 141, 142, 62, 99, 95, 105, 44, 62, 67, 93, 142, 62, 62, 35, 44, 105, 166, 141, 179, 127, 106, 111, 20, 62, 128, 28, 20, 141, 100, 31, 35, 39, 20, 55, 73, 193, 141, 157, 34, 105, 20, 44, 168, 39, 195, 25, 174, 127, 62, 128, 174, 62, 39, 62, 141, 171, 63, 93, 105, 174, 193, 199, 34, 44, 195, 193, 128, 193, 141, 34, 62, 142, 141, 100, 35, 62, 163, 179, 127, 168, 111, 62, 20, 142, 62, 54, 127, 127, 35, 142, 46, 141, 88, 193, 127, 193, 100, 128, 43, 23, 20, 39, 35, 20, 141, 100, 142, 111, 105, 157, 171, 105, 20, 100, 35, 20, 62, 100, 62, 19, 67, 73, 193, 20, 151, 44, 142, 195, 34, 67, 23, 99, 100, 105, 141, 127, 100, 127, 20, 44, 44, 97, 20, 141, 141, 16, 141, 62, 188, 62, 141, 34, 30, 193, 65, 44, 22, 111, 35, 151, 151, 148, 159, 54, 28, 46, 182, 193, 193, 34, 163, 62, 160, 39, 62, 105, 99, 56, 171, 67, 141, 195, 84, 88, 62, 97, 20, 182, 20, 193, 19, 62, 142, 93, 60, 142, 100, 105, 193, 100, 141, 62, 182, 44, 69, 19, 62, 34, 20, 62, 141, 148, 171, 100, 44, 56, 62, 111, 34, 62, 193, 127, 20, 30, 46, 141, 195, 142, 193, 39, 20, 199, 20, 99, 148, 105, 193, 142, 48, 62, 142, 160, 20, 31, 55, 13, 35, 39, 165, 141, 58, 20, 127, 199, 141, 141, 56, 142, 100, 88, 111, 159, 20, 114, 55, 105, 127, 100, 20, 34, 100, 43, 35, 95, 16, 195, 26, 126, 127, 142, 20, 62, 25, 193, 88, 20, 141, 100, 46, 4, 168, 148, 182, 163, 62, 174, 193, 141, 67, 63, 62, 62, 46, 100, 58, 34, 62, 182, 127, 192, 62, 97, 148, 62, 111, 62, 100, 67, 142, 111, 67, 62, 95, 30, 198, 74, 99, 111, 62, 100, 35, 142, 44, 20, 159, 34, 65, 99, 193, 159, 26, 62, 62, 127, 39, 62, 30, 105, 138, 99, 141, 141, 58, 34, 54, 168, 105, 126, 100, 62, 126, 84, 62, 100, 99, 62, 34, 105, 62, 20, 141, 4, 111, 127, 99, 128, 111, 100, 34, 30, 35, 186, 141, 121, 115, 19, 20, 20, 141, 30, 157, 142, 148, 69, 62, 44, 35, 141, 19, 127, 127, 141, 143, 100, 127, 105, 62, 141, 100, 62, 168, 99, 73, 74, 141, 100, 152, 105, 55, 35, 20, 105, 62, 99, 35, 35, 67, 126, 127, 112, 20, 20, 193, 126, 100, 193, 142, 0, 39, 141, 193, 105, 44, 19, 44, 34, 141, 127, 35, 58, 195, 99, 26, 74, 127, 26, 46, 141, 55, 126, 198, 188, 88, 35, 168, 67, 127, 182, 39, 62, 35, 141, 142, 16, 141, 35, 17, 54, 151, 99, 44, 126, 199, 156, 34, 48, 160, 46, 20, 171, 168, 20, 67, 30, 34, 186, 111, 45, 148, 100, 19, 121, 34, 191, 44, 46, 34, 34, 20, 141, 62, 62, 48, 54, 20, 193, 55, 141, 93, 142, 88, 105, 141, 43, 141, 100, 62, 58, 34, 25, 56, 0, 186, 20, 74, 20, 39, 195, 99, 141, 19, 46, 156, 43, 26, 100, 63, 62, 44, 62, 193, 62, 62, 88, 34, 141, 62, 157, 153, 20, 20, 62, 105, 35, 62, 44, 156, 62, 99, 67, 62, 35, 193, 55, 105, 46, 195, 141, 39, 88, 55, 99, 46, 127, 153, 34, 147, 127, 23, 30, 62, 111, 99, 100, 35, 105, 163, 67, 171, 62, 141, 127, 20, 62, 126, 69, 62, 67, 35, 20, 35, 100, 62, 195, 100, 105, 93, 141, 12, 35, 44, 174, 193, 112, 69, 182, 100, 142, 141, 44, 99, 100, 39, 141, 141, 19, 26, 100, 46, 48, 105, 39, 103, 20, 23, 62, 20, 62, 67, 0, 34, 192, 69, 39, 67, 142, 141, 62, 141, 142, 111, 99, 54, 44, 192, 186, 35, 100, 88, 62, 43, 141, 142, 127, 62, 62, 111, 127, 105, 62, 100, 69, 62, 100, 62, 20, 88, 165, 141, 62, 105, 99, 62, 67, 44, 142, 62, 54, 20, 141, 149, 46, 192, 163, 20, 159, 193, 193, 55, 0, 46, 20, 20, 69, 44, 97, 62, 35, 141, 186, 141, 142, 48, 105, 69, 20, 88, 35, 26, 62, 142, 151, 39, 44, 20, 142, 141, 100, 44, 100, 142, 48, 53, 141, 142, 16, 152, 46, 99, 20, 193, 148, 195, 62, 39, 67, 142, 111, 62, 67, 193, 182, 111, 34, 0, 192, 126, 142, 100, 142, 54, 62, 35, 141, 35, 48, 62, 34, 95, 127, 84, 141, 54, 26, 44, 28, 127, 20, 105, 62, 95, 16, 186, 20, 62, 34, 141, 35, 58, 142, 69, 44, 105, 141, 165, 26, 168, 34, 126, 141, 65, 25, 34, 39, 127, 163, 46, 35, 88, 46, 142, 74, 62, 44, 193, 156, 62, 142, 20, 19, 34, 105, 39, 62, 111, 62, 141, 62, 39, 65, 25, 35, 142, 43, 62, 30, 141, 148, 20, 141, 141, 157, 20, 34, 127, 62, 142, 127, 39, 30, 141, 48, 198, 105, 23, 62, 115, 20, 151, 111, 30, 193, 141, 56, 46, 48, 44, 148, 126, 100, 39, 141, 67, 141, 105, 48, 105, 159, 111, 100, 48, 74, 142, 105, 46, 157, 56, 141, 20, 111, 62, 84, 100, 34, 100, 19, 192, 73, 106, 178, 54, 86, 97, 16, 99, 168, 20, 62, 111, 142, 20, 54, 19, 62, 141, 142, 160, 193, 62, 198, 62, 141, 62, 141, 60, 88, 141, 62, 97, 62, 39, 127, 20, 193, 186, 9, 54, 127, 141, 62, 148, 62, 100, 192, 67, 56, 126, 127, 151, 74, 59, 163, 39, 54, 105, 193, 62, 142, 193, 62, 168, 34, 97, 148, 48, 70, 195, 193, 105, 35, 105, 88, 55, 104, 159, 141, 48, 55, 69, 35, 100, 34, 141, 61, 105, 88, 20, 20, 62, 48, 60, 34, 99, 34, 19, 39, 127, 163, 114, 63, 74, 142, 35, 20, 34, 62, 141, 62, 35, 69, 128, 60, 20, 60, 192, 0, 62, 88, 46, 165, 62, 44, 62, 99, 19, 188, 141, 69, 34, 20, 97, 39, 35, 105, 62, 44, 111, 35, 62, 193, 141, 160, 192, 62, 43, 20, 26, 97, 95, 141, 20, 19, 74, 62, 97, 193, 20, 105, 142, 193, 62, 128, 127, 62, 62, 62, 168, 62, 67, 62, 74, 20, 55, 163, 157, 43, 142, 192, 62, 174, 35, 105, 142, 39, 174, 0, 163, 20, 105, 20, 111, 193, 62, 105, 192, 193, 105, 26, 105, 111, 62, 100, 159, 26, 43, 35, 127, 20, 46, 100, 60, 141, 20, 142, 105, 100, 39, 102, 60, 99, 48, 44, 193, 100, 20, 62, 67, 20, 26, 16, 142, 99, 62, 149, 20, 141, 148, 62, 141, 100, 149, 62, 34, 69, 127, 44, 141, 20, 105, 115, 34, 44, 73, 62, 141, 141, 62, 20, 20, 105, 39, 20, 105, 127, 34, 111, 99, 192, 105, 179, 74, 19, 25, 62, 99, 174, 100, 141, 62, 141, 20, 25, 67, 111, 62, 62, 62, 62, 20, 142, 34, 20, 53, 127, 69, 22, 48, 26, 95, 115, 121, 35, 100, 44, 192, 163, 105, 73, 198, 111, 111, 105, 193, 111, 141, 159, 35, 105, 67, 112, 9, 198, 142, 141, 74, 111, 62, 142, 102, 166, 127, 0, 141, 62, 34, 168, 148, 62, 62, 35, 46, 160, 123, 105, 111, 193, 25, 141, 48, 44, 54, 25, 99, 62, 99, 19, 111, 115, 62, 46, 34, 151, 141, 124, 192, 142, 99, 20, 105, 56, 141, 97, 105, 195, 69, 111, 62, 20, 141, 127, 156, 100, 168, 127, 46, 100, 127, 48, 35, 19, 20, 105, 142, 34, 62, 44, 26, 62, 62, 73, 23, 88, 20, 20, 20, 35, 148, 127, 193, 67, 34, 69, 100, 88, 54, 44, 35, 30, 182, 157, 62, 26, 100, 88, 26, 20, 20, 62, 105, 111, 141, 100, 39, 34, 127, 168, 67, 168, 34, 20, 192, 62, 193, 165, 157, 149, 74, 105, 62, 62, 105, 159, 39, 142, 62, 30, 100, 100, 142, 39, 30, 100, 26, 34, 0, 105, 105, 111, 127, 127, 182, 35, 35, 62, 141, 182, 44, 141, 34, 62, 100, 67, 34, 46, 48, 43, 54, 177, 157, 192, 174, 106, 106, 23, 62, 34, 62, 88, 128, 46, 182, 174, 105, 126, 111, 34, 62, 67, 46, 20, 20, 34, 141, 13, 20, 141, 20, 34, 62, 173, 193, 35, 20, 35, 19, 163, 148, 127, 195, 115, 46, 127, 141, 105, 46, 160, 62, 35, 67, 20, 165, 44, 9, 99, 100, 39, 62, 54, 62, 142, 142, 99, 39, 193, 105, 142, 141, 46, 97, 127, 88, 60, 69, 100, 23, 141, 105, 126, 141, 165, 20, 193, 35, 30, 99, 19, 111, 193, 0, 99, 62, 127, 100, 69, 34, 105, 193, 127, 46, 88, 193, 141, 26, 62, 173, 193, 192, 69, 26, 55, 100, 111, 111, 100, 127, 44, 168, 39, 54, 73, 62, 67, 163, 193, 20, 105, 48, 62, 105, 141, 34, 20, 62, 141, 46, 34, 171, 73, 34, 142, 111, 141, 100, 62, 141, 168, 23, 142, 142, 62, 182, 106, 39, 62, 20, 20, 141, 99, 69, 174, 62, 39, 35, 62, 62, 141, 88, 62, 105, 168, 97, 39, 199, 126, 105, 193, 141, 100, 99, 198, 186, 105, 141, 105, 4, 54, 16, 193, 105, 127, 127, 73, 69, 25, 62, 62, 62, 182, 142, 195, 100, 62, 56, 155, 20, 62, 193, 48, 56, 88, 60, 42, 100, 95, 20, 35, 111, 148, 28, 159, 55, 67, 62, 74, 62, 60, 130, 141, 193, 141, 16, 142, 35, 62, 142, 69, 26, 34, 193, 142, 103, 142, 142, 193, 56, 149, 26, 111, 142, 141, 67, 105, 30, 58, 62, 97, 62, 141, 167, 35, 20, 192, 35, 48, 0, 62, 58, 62, 141, 141, 99, 46, 62, 62, 198, 193, 192, 100, 20, 4, 62, 48, 46, 44, 141, 20, 43, 20, 151, 141, 93, 141, 100, 62, 141, 100, 46, 26, 20, 50, 127, 105, 55, 20, 88, 97, 141, 193, 105, 20, 62, 171, 141, 20, 99, 142, 147, 174, 28, 141, 62, 73, 166, 142, 62, 54, 141, 62, 20, 20, 62, 126, 20, 141, 34, 67, 193, 142, 195, 46, 105, 100, 99, 186, 126, 44, 141, 198, 102, 88, 142, 151, 88, 141, 141, 99, 43, 74, 54, 142, 171, 105, 44, 99, 19, 44, 142, 100, 127, 34, 62, 141, 193, 48, 44, 141, 69, 193, 171, 62, 74, 20, 168, 127, 44, 195, 16, 74, 99, 22, 46, 67, 141, 188, 28, 22, 105, 193, 34, 16, 62, 53, 46, 20, 141, 105, 141, 127, 88, 142, 168, 62, 155, 35, 34, 46, 182, 141, 165, 126, 193, 0, 182, 20, 198, 105, 99, 124, 100, 142, 88, 67, 171, 100, 58, 26, 127, 20, 44, 62, 26, 100, 142, 168, 34, 100, 115, 39, 111, 130, 141, 141, 62, 62, 147, 30, 99, 46, 142, 44, 16, 142, 26, 62, 100, 62, 35, 100, 171, 74, 193, 105, 105, 195, 35, 35, 20, 157, 160, 55, 127, 20, 67, 99, 46, 34, 54, 105, 62, 46, 141, 62, 141, 58, 195, 168, 23, 105, 182, 105, 141, 130, 97, 99, 3, 141, 43, 100, 171, 0, 20, 159, 26, 193, 34, 142, 39, 88, 46, 99, 20, 48, 54, 142, 198, 34, 35, 20, 48, 151, 105, 192, 192, 73, 46, 97, 62, 97, 34, 142, 62, 159, 141, 0, 192, 142, 0, 20, 34, 168, 67, 19, 99, 25, 8, 141, 62, 186, 142, 141, 48, 193, 192, 103, 88, 20, 62, 65, 20, 127, 20, 48, 133, 62, 43, 141, 193, 20, 0, 163, 62, 62, 62, 112, 100, 141, 39, 62, 159, 35, 60, 105, 44, 62, 192, 73, 99, 22, 199, 65, 163, 100, 20, 142, 34, 62, 20, 168, 148, 126, 111, 141, 168, 62, 111, 44, 141, 35, 55, 43, 62, 141, 35, 149, 105, 20, 112, 69, 35, 69, 195, 19, 99, 148, 19, 111, 151, 62, 62, 100, 193, 151, 195, 182, 30, 100, 195, 62, 100, 62, 62, 39, 100, 23, 142, 111, 195, 142, 62, 39, 63, 67, 67, 166, 67, 141, 142, 55, 20, 148, 35, 67, 141, 67, 16, 105, 35, 195, 48, 112, 62, 105, 62, 25, 100, 46, 141, 35, 30, 105, 100, 23, 192, 20, 26, 151, 73, 103, 148, 193, 62, 168, 168, 35, 34, 26, 141, 73, 58, 195, 192, 105, 100, 39, 62, 23, 20, 73, 141, 99, 62, 67, 73, 62, 88, 97, 62, 142, 34, 141, 55, 62, 16, 100, 141, 148, 151, 193, 141, 88, 30, 198, 62, 127, 20, 105, 160, 138, 193, 26, 141, 58, 148, 28, 97, 20, 99, 126, 60, 93, 19, 142, 100, 193, 60, 20, 141, 165, 35, 148, 141, 28, 70, 62, 19, 148, 97, 100, 67, 62, 35, 100, 141, 20, 141, 142, 30, 69, 28, 20, 157, 100, 62, 20, 46, 23, 35, 20, 0, 19, 142, 100, 34, 23, 100, 20, 198, 62, 127, 142, 141, 141, 19, 30, 127, 114, 99, 58, 195, 171, 20, 142, 157, 193, 20, 62, 186, 35, 16, 62, 192, 141, 62, 26, 73, 88, 88, 28, 95, 128, 58, 57, 88, 195, 62, 105, 100, 88, 105, 188, 193, 39, 44, 142, 62, 62, 20, 127, 62, 105, 97, 193, 195, 34, 105, 54, 156, 182, 74, 138, 142, 44, 148, 62, 148, 62, 105, 73, 100, 34, 19, 198, 67, 128, 53, 62, 168, 44, 46, 67, 73, 142, 67, 23, 62, 105, 54, 97, 46, 35, 44, 34, 127, 168, 105, 111, 25, 23, 148, 60, 195, 193, 20, 44, 62, 26, 105, 34, 141, 88, 19, 34, 160, 54, 142, 151, 35, 127, 195, 26, 168, 141, 142, 62, 23, 56, 34, 20, 186, 58, 100, 39, 67, 69, 141, 141, 99, 141, 182, 56, 174, 62, 46, 35, 142, 142, 54, 44, 105, 182, 34, 100, 62, 19, 69, 62, 48, 44, 44, 44, 20, 159, 142, 62, 193, 193, 28, 54, 141, 19, 163, 105, 62, 30, 34, 56, 100, 62, 105, 23, 163, 160, 111, 84, 103, 100, 34, 105, 39, 48, 25, 195, 100, 39, 105, 105, 142, 141, 127, 65, 20, 54, 34, 62, 195, 34, 19, 141, 141, 20, 20, 105, 67, 105, 127, 39, 141, 182, 0, 39, 30, 193, 55, 198, 141, 199, 26, 105, 62, 150, 100, 44, 35, 193, 20, 100, 62, 67, 171, 62, 127, 73, 39, 151, 47, 20, 62, 44, 141, 105, 141, 67, 20, 43, 100, 192, 39, 100, 34, 99, 142, 198, 140, 112, 34, 151, 141, 62, 105, 149, 20, 60, 44, 105, 151, 182, 62, 141, 4, 193, 127, 30, 100, 35, 103, 69, 198, 35, 151, 111, 62, 100, 20, 174, 48, 67, 20, 119, 20, 142, 105, 19, 105, 84, 35, 193, 141, 39, 35, 35, 62, 58, 147, 142, 105, 150, 62, 100, 88, 142, 26, 44, 141, 46, 141, 0, 171, 62, 62, 182, 126, 142, 193, 44, 99, 48, 100, 30, 23, 43, 26, 26, 39, 39, 3, 193, 20, 62, 62, 20, 100, 141, 84, 115, 95, 105, 86, 62, 67, 193, 142, 192, 34, 44, 88, 44, 142, 39, 54, 62, 58, 20, 88, 55, 111, 195, 105, 86, 30, 28, 192, 192, 88, 191, 99, 20, 35, 62, 62, 115, 26, 19, 141, 100, 142, 186, 62, 182, 168, 107, 62, 142, 142, 148, 141, 142, 141, 141, 69, 99, 48, 165, 46, 35, 62, 193, 20, 100, 142, 127, 100, 105, 20, 148, 62, 100, 142, 111, 62, 195, 20, 67, 62, 67, 88, 39, 20, 97, 44, 148, 20, 141, 159, 198, 67, 127, 39, 3, 142, 163, 25, 16, 103, 142, 141, 19, 28, 62, 192, 20, 67, 163, 62, 69, 67, 20, 141, 141, 54, 141, 141, 193, 97, 141, 19, 20, 62, 35, 46, 142, 46, 44, 151, 193, 44, 55, 127, 148, 62, 141, 141, 107, 100, 163, 88, 86, 69, 100, 34, 20, 44, 35, 58, 23, 198, 58, 35, 20, 62, 60, 62, 127, 111, 141, 62, 20, 141, 141, 35, 88, 168, 67, 142, 65, 148, 26, 168, 163, 141, 99, 193, 44, 26, 174, 142, 20, 148, 193, 44, 157, 23, 20, 115, 105, 65, 35, 62, 34, 100, 44, 150, 112, 69, 127, 199, 20, 20, 141, 67, 35, 142, 23, 39, 105, 168, 198, 20, 62, 20, 20, 73, 62, 141, 20, 192, 88, 34, 168, 149, 127, 148, 142, 159, 30, 141, 69, 44, 142, 192, 141, 147, 39, 168, 105, 48, 171, 142, 67, 35, 195, 44, 105, 39, 192, 20, 62, 20, 182, 88, 20, 20, 100, 105, 142, 100, 63, 182, 44, 100, 127, 70, 30, 67, 20, 111, 69, 100, 186, 105, 142, 105, 111, 54, 26, 88, 105, 141, 20, 141, 105, 43, 4, 105, 34, 195, 48, 127, 193, 127, 34, 0, 182, 35, 20, 105, 182, 25, 141, 100, 69, 111, 67, 100, 63, 30, 26, 62, 186, 182, 20, 34, 100, 171, 111, 20, 26, 141, 20, 62, 195, 39, 138, 19, 88, 44, 127, 20, 140, 141, 141, 198, 193, 34, 149, 62, 68, 20, 142, 171, 141, 19, 193, 108, 35, 186, 62, 62, 26, 62, 142, 44, 20, 198, 105, 16, 62, 141, 39, 88, 193, 62, 35, 193, 105, 105, 141, 105, 193, 62, 19, 141, 51, 34, 105, 62, 149, 193, 48, 20, 148, 168, 141, 198, 127, 127, 73, 126, 43, 62, 69, 195, 115, 100, 44, 141, 100, 35, 44, 165, 192, 67, 62, 74, 74, 30, 126, 62, 105, 195, 195, 198, 159, 62, 67, 193, 195, 186, 69, 88, 100, 55, 105, 73, 35, 69, 105, 54, 26, 141, 159, 148, 115, 198, 20, 130, 141, 141, 111, 35, 100, 44, 99, 100, 20, 19, 34, 105, 149, 20, 195, 148, 35, 60, 39, 142, 62, 39, 44, 62, 100, 44, 44, 62, 69, 155, 73, 44, 20, 141, 148, 126, 65, 105, 195, 20, 20, 141, 127, 97, 141, 105, 100, 46, 151, 35, 48, 148, 151, 62, 46, 148, 193, 141, 35, 35, 58, 138, 62, 62, 62, 20, 142, 34, 88, 88, 62, 100, 35, 171, 62, 104, 62, 20, 100, 20, 127, 177, 157, 26, 62, 127, 73, 30, 174, 141, 20, 55, 182, 193, 193, 28, 186, 35, 20, 34, 193, 39, 192, 34, 39, 48, 99, 111, 23, 34, 141, 28, 141, 62, 34, 105, 100, 141, 62, 62, 115, 142, 127, 105, 182, 192, 151, 123, 62, 35, 193, 34, 141, 55, 138, 100, 100, 35, 105, 119, 159, 73, 62, 105, 20, 62, 157, 62, 127, 67, 30, 142, 193, 166, 34, 20, 141, 168, 111, 141, 174, 20, 182, 115, 103, 69, 62, 62, 141, 35, 54, 69, 39, 74, 34, 62, 105, 46, 35, 100, 62, 34, 55, 35, 62, 88, 127, 69, 55, 127, 26, 163, 62, 25, 35, 34, 19, 141, 73, 141, 67, 62, 105, 39, 100, 69, 156, 62, 168, 171, 35, 20, 62, 100, 192, 88, 159, 48, 67, 39, 127, 105, 100, 141, 35, 142, 100, 193, 19, 142, 35, 62, 115, 62, 73, 67, 39, 73, 25, 159, 141, 62, 48, 62, 23, 140, 99, 44, 141, 44, 20, 97, 141, 105, 62, 54, 148, 100, 44, 35, 126, 60, 20, 111, 168, 46, 100, 182, 105, 48, 35, 34, 20, 195, 111, 186, 67, 100, 63, 35, 111, 43, 192, 100, 69, 142, 35, 100, 23, 100, 148, 141, 111, 193, 62, 20, 100, 20, 43, 99, 55, 100, 46, 58, 141, 20, 170, 62, 34, 141, 26, 106, 67, 141, 62, 141, 35, 28, 35, 48, 182, 182, 34, 93, 34, 193, 149, 44, 39, 168, 39, 142, 149, 99, 46, 62, 100, 128, 44, 20, 20, 142, 105, 86, 198, 111, 34, 141, 100, 62, 141, 95, 141, 100, 193, 35, 163, 100, 186, 105, 193, 100, 26, 62, 54, 141, 148, 141, 44, 100, 149, 73, 39, 34, 43, 62, 69, 35, 20, 100, 69, 67, 100, 54, 62, 62, 26, 165, 142, 62, 43, 20, 142, 141, 141, 142, 141, 130, 62, 141, 44, 34, 168, 16, 60, 73, 142, 105, 63, 73, 141, 44, 44, 141, 62, 48, 142, 35, 46, 62, 97, 65, 28, 141, 69, 26, 141, 62, 46, 193, 20, 48, 99, 111, 73, 142, 103, 100, 195, 69, 141, 105, 141, 62, 34, 195, 100, 165, 20, 193, 193, 192, 39, 111, 23, 55, 19, 46, 97, 100, 62, 111, 35, 23, 88, 20, 34, 93, 159, 163, 62, 23, 193, 0, 73, 69, 20, 100, 111, 141, 28, 88, 70, 192, 195, 105, 69, 166, 48, 141, 141, 62, 35, 73, 62, 20, 159, 149, 88, 30, 141, 127, 62, 44, 62, 127, 69, 34, 105, 35, 142, 171, 111, 142, 35, 34, 62, 159, 192, 46, 28, 67, 100, 62, 148, 62, 149, 20, 100, 100, 193, 100, 46, 141, 193, 26, 62, 165, 67, 60, 111, 186, 111, 20, 166, 62, 112, 193, 105, 103, 35, 20, 39, 62, 105, 127, 195, 99, 100, 20, 62, 105, 34, 105, 198, 44, 114, 44, 58, 105, 157, 105, 35, 193, 20, 142, 23, 62, 20, 141, 62, 20, 44, 62, 100, 34, 34, 54, 140, 141, 192, 62, 163, 0, 44, 111, 34, 126, 62, 88, 20, 142, 95, 20, 193, 195, 141, 62, 100, 46, 46, 88, 35, 95, 127, 100, 166, 141, 62, 62, 111, 88, 35, 62, 105, 138, 192, 100, 20, 105, 141, 141, 105, 99, 195, 100, 127, 62, 44, 16, 106, 141, 192, 168, 128, 139, 30, 115, 20, 44, 35, 95, 84, 44, 166, 62, 34, 182, 193, 147, 142, 74, 182, 30, 100, 127, 126, 88, 142, 20, 46, 97, 62, 30, 62, 141, 62, 39, 62, 63, 54, 141, 44, 141, 100, 67, 20, 193, 100, 105, 151, 99, 34, 193, 62, 67, 0, 62, 69, 35, 88, 198, 88, 19, 35, 62, 105, 193, 105, 95, 62, 186, 105, 140, 157, 23, 34, 100, 62, 54, 105, 34, 19, 127, 142, 63, 142, 142, 35, 142, 127, 62, 39, 105, 182, 62, 141, 111, 35, 100, 28, 69, 105, 44, 186, 20, 62, 35, 151, 43, 142, 20, 58, 62, 193, 20, 99, 141, 142, 34, 127, 182, 20, 67, 141, 141, 23, 174, 193, 85, 142, 62, 141, 141, 195, 166, 35, 111, 62, 127, 193, 193, 111, 62, 100, 105, 105, 111, 46, 20, 141, 39, 62, 44, 46, 62, 100, 171, 65, 195, 31, 151, 127, 142, 142, 86, 26, 111, 44, 30, 141, 62, 74, 35, 105, 43, 20, 182, 34, 159, 62, 105, 34, 67, 100, 182, 62, 30, 62, 62, 20, 88, 35, 48, 34, 100, 198, 100, 62, 99, 84, 127, 186, 46, 62, 93, 151, 141, 62, 100, 127, 105, 26, 141, 20, 105, 142, 126, 62, 111, 111, 69, 105, 39, 54, 97, 100, 141, 105, 23, 141, 39, 67, 62, 127, 193, 73, 93, 198, 141, 26, 141, 62, 141, 99, 193, 35, 67, 20, 141, 182, 99, 60, 62, 30, 99, 44, 44, 127, 44, 69, 110, 168, 62, 170, 127, 62, 112, 141, 73, 100, 34, 99, 62, 141, 168, 141, 35, 62, 141, 20, 35, 163, 142, 127, 114, 127, 55, 30, 103, 141, 35, 69, 95, 103, 34, 151, 182, 193, 39, 100, 141, 179, 65, 163, 168, 53, 35, 111, 111, 35, 69, 99, 20, 100, 93, 20, 148, 30, 163, 16, 141, 19, 151, 20, 121, 111, 46, 142, 34, 142, 100, 191, 20, 20, 46, 16, 193, 44, 16, 20, 100, 54, 127, 67, 168, 63, 100, 74, 62, 34, 62, 148, 171, 168, 20, 35, 39, 62, 56, 35, 159, 74, 168, 69, 149, 26, 62, 127, 62, 142, 126, 62, 127, 62, 34, 153, 168, 44, 46, 54, 140, 39, 44, 34, 48, 20, 20, 54, 44, 20, 46, 46, 44, 67, 141, 34, 39, 141, 35, 141, 97, 11, 62, 148, 60, 163, 20, 142, 127, 46, 192, 147, 199, 44, 182, 62, 62, 25, 26, 62, 28, 9, 20, 97, 168, 127, 141, 160, 105, 20, 105, 141, 34, 159, 44, 19, 20, 141, 62, 22, 105, 151, 46, 44, 142, 20, 138, 193, 88, 60, 19, 55, 148, 105, 193, 127, 88, 20, 198, 100, 28, 20, 23, 9, 19, 34, 19, 140, 62, 62, 20, 63, 100, 67, 20, 62, 163, 192, 43, 97, 46, 166, 67, 0, 34, 88, 35, 141, 62, 142, 142, 20, 195, 159, 127, 111, 46, 67, 44, 142, 128, 62, 23, 193, 9, 105, 168, 195, 193, 44, 30, 142, 48, 62, 141, 62, 20, 186, 105, 100, 147, 20, 99, 30, 35, 4, 142, 114, 67, 186, 35, 148, 23, 67, 105, 62, 35, 195, 62, 44, 62, 43, 26, 20, 62, 62, 46, 105, 88, 62, 192, 74, 25, 160, 39, 195, 100, 86, 69, 35, 168, 34, 62, 141, 147, 99, 141, 39, 168, 168, 160, 127, 114, 84, 20, 141, 35, 62, 111, 142, 188, 141, 44, 69, 48, 58, 198, 141, 141, 55, 88, 62, 100, 163, 67, 73, 67, 20, 142, 193, 105, 35, 42, 39, 62, 62, 193, 99, 186, 105, 105, 140, 115, 35, 126, 141, 140, 20, 99, 115, 111, 35, 46, 55, 48, 88, 141, 35, 186, 106, 9, 62, 182, 35, 63, 100, 20, 141, 105, 20, 20, 111, 159, 105, 105, 141, 20, 20, 182, 69, 23, 193, 141, 100, 62, 151, 28, 35, 193, 35, 26, 105, 46, 46, 35, 62, 105, 54, 26, 149, 63, 99, 100, 97, 62, 97, 127, 100, 62, 127, 35, 44, 28, 20, 193, 186, 23, 86, 105, 100, 171, 46, 31, 62, 46, 111, 39, 62, 151, 44, 26, 48, 62, 142, 35, 55, 35, 19, 30, 111, 148, 26, 39, 127, 69, 20, 62, 30, 142, 46, 67, 62, 23, 44, 142, 192, 141, 142, 67, 34, 192, 43, 62, 20, 179, 67, 193, 193, 69, 74, 170, 19, 97, 105, 163, 44, 44, 73, 69, 105, 105, 105, 46, 28, 141, 141, 62, 62, 127, 62, 20, 186, 193, 127, 20, 65, 0, 166, 23, 127, 35, 16, 115, 141, 73, 127, 142, 100, 44, 100, 67, 55, 111, 179, 65, 142, 127, 16, 34, 19, 62, 193, 23, 186, 34, 99, 142, 88, 100, 28, 142, 62, 35, 20, 100, 148, 20, 193, 20, 0, 141, 63, 0, 88, 141, 34, 141, 34, 44, 141, 171, 58, 84, 46, 4, 127, 48, 100, 62, 198, 26, 105, 20, 69, 100, 141, 99, 34, 165, 141, 62, 130, 93, 44, 153, 178, 193, 141, 20, 193, 26, 20, 105, 142, 141, 105, 67, 20, 20, 141, 69, 163, 69, 62, 141, 100, 62, 13, 142, 20, 35, 34, 105, 20, 62, 19, 73, 20, 111, 141, 141, 0, 114, 62, 168, 111, 142, 193, 100, 44, 62, 115, 168, 62, 20, 46, 20, 20, 141, 20, 100, 62, 193, 141, 100, 39, 127, 19, 46, 20, 105, 163, 63, 100, 55, 20, 46, 67, 34, 46, 193, 182, 100, 54, 163, 193, 182, 34, 100, 148, 62, 198, 111, 20, 182, 39, 142, 28, 192, 62, 100, 35, 62, 62, 150, 62, 143, 62, 26, 62, 186, 88, 44, 55, 173, 119, 93, 23, 44, 127, 141, 152, 35, 198, 39, 156, 100, 23, 141, 62, 72, 62, 44, 100, 193, 165, 34, 62, 60, 168, 16, 147, 60, 141, 127, 65, 100, 99, 34, 127, 44, 39, 142, 23, 39, 46, 44, 100, 148, 110, 195, 20, 28, 44, 105, 195, 127, 69, 198, 20, 67, 97, 44, 62, 34, 105, 105, 62, 126, 26, 193, 140, 34, 62, 182, 141, 126, 62, 20, 193, 142, 34, 62, 42, 20, 60, 46, 141, 39, 195, 105, 62, 141, 148, 62, 127, 62, 100, 111, 142, 20, 195, 127, 127, 62, 39, 182, 195, 35, 19, 43, 93, 19, 20, 60, 193, 182, 142, 35, 20, 62, 48, 20, 141, 60, 127, 16, 111, 193, 141, 74, 179, 20, 103, 198, 141, 193, 182, 141, 100, 20, 31, 193, 20, 62, 99, 163, 163, 34, 46, 141, 105, 127, 141, 74, 34, 73, 127, 44, 100, 100, 0, 39, 55, 171, 74, 20, 19, 44, 100, 62, 149, 62, 88, 62, 62, 67, 141, 159, 62, 141, 30, 44, 20, 142, 141, 141, 67, 168, 34, 26, 46, 46, 56, 103, 100, 165, 150, 30, 165, 20, 105, 20, 20, 60, 127, 26, 97, 34, 48, 141, 130, 198, 63, 62, 97, 16, 35, 44, 62, 34, 127, 39, 30, 166, 141, 165, 133, 46, 0, 62, 160, 20, 195, 100, 115, 153, 142, 127, 48, 34, 86, 19, 95, 142, 127, 141, 73, 141, 62, 126, 30, 62, 62, 100, 54, 193, 19, 127, 148, 141, 48, 34, 163, 141, 20, 19, 193, 100, 141, 141, 35, 35, 46, 54, 141, 171, 151, 105, 62, 159, 141, 141, 20, 186, 141, 20, 171, 141, 20, 193, 20, 30, 46, 127, 171, 26, 141, 62, 156, 20, 35, 192, 105, 186, 141, 62, 173, 100, 46, 20, 55, 105, 34, 168, 34, 44, 0, 20, 39, 58, 141, 128, 111, 198, 140, 44, 100, 62, 69, 34, 34, 100, 127, 100, 99, 141, 141, 20, 35, 148, 20, 127, 60, 62, 62, 65, 86, 100, 105, 141, 148, 160, 20, 142, 193, 20, 141, 193, 55, 151, 25, 142, 193, 141, 168, 193, 141, 67, 56, 20, 168, 100, 62, 163, 60, 46, 111, 142, 16, 127, 35, 39, 58, 142, 100, 67, 20, 62, 141, 99, 100, 141, 186, 159, 46, 127, 110, 148, 69, 105, 62, 141, 84, 62, 100, 100, 26, 168, 34, 115, 44, 142, 62, 198, 20, 193, 141, 73, 141, 193, 127, 34, 20, 26, 34, 30, 19, 141, 67, 55, 20, 166, 35, 141, 100, 141, 34, 44, 35, 100, 100, 193, 142, 105, 35, 39, 167, 20, 69, 100, 99, 127, 105, 35, 193, 62, 141, 111, 73, 58, 141, 35, 46, 193, 73, 20, 199, 99, 67, 142, 100, 62, 44, 163, 16, 112, 100, 62, 62, 186, 141, 62, 142, 35, 0, 193, 143, 111, 171, 157, 105, 142, 141, 20, 141, 105, 141, 141, 127, 69, 20, 105, 111, 141, 20, 100, 34, 141, 34, 46, 67, 73, 193, 141, 62, 46, 16, 127, 174, 127, 22, 34, 20, 127, 62, 19, 105, 46, 60, 127, 34, 44, 141, 20, 100, 171, 127, 70, 141, 141, 26, 54, 148, 62, 62, 44, 16, 62, 142, 141, 54, 192, 111, 105, 46, 34, 62, 67, 193, 20, 20, 34, 168, 26, 62, 141, 62, 34, 193, 62, 67, 127, 62, 195, 142, 62, 105, 35, 105, 159, 100, 193, 35, 73, 195, 46, 141, 100, 73, 142, 159, 23, 62, 69, 174, 46, 193, 141, 126, 20, 67, 39, 34, 195, 141, 44, 54, 69, 127, 20, 44, 30, 44, 142, 141, 67, 111, 111, 195, 20, 67, 182, 100, 62, 63, 138, 100, 151, 193, 88, 105, 62, 127, 88, 20, 100, 141, 62, 105, 111, 34, 69, 198, 141, 127, 105, 20, 105, 11, 34, 62, 157, 100, 100, 105, 127, 69, 179, 141, 30, 127, 69, 20, 62, 100, 44, 127, 39, 69, 111, 39, 20, 111, 62, 105, 142, 141, 192, 88, 105, 141, 149, 142, 88, 0, 127, 168, 44, 105, 20, 193, 44, 142, 171, 99, 111, 34, 73, 148, 142, 128, 20, 20, 34, 174, 62, 195, 141, 168, 100, 141, 163, 159, 142, 20, 39, 192, 35, 67, 35, 198, 26, 133, 20, 105, 148, 60, 142, 9, 163, 126, 62, 127, 35, 115, 48, 62, 62, 157, 142, 192, 20, 26, 142, 62, 141, 39, 67, 34, 157, 44, 100, 20, 141, 141, 0, 26, 34, 11, 105, 150, 38, 130, 112, 62, 193, 20, 20, 19, 142, 97, 26, 54, 69, 44, 163, 62, 127, 111, 20, 88, 166, 20, 182, 62, 74, 92, 115, 25, 99, 126, 151, 114, 152, 20, 48, 111, 100, 39, 166, 127, 105, 182, 100, 30, 62, 103, 48, 62, 39, 16, 171, 19, 159, 111, 69, 141, 141, 95, 100, 142, 105, 39, 193, 195, 141, 141, 126, 56, 35, 30, 100, 127, 95, 141, 97, 150, 16, 168, 67, 20, 142, 30, 62, 99, 26, 142, 141, 62, 142, 48, 62, 19, 20, 97, 126, 105, 168, 62, 111, 100, 127, 62, 25, 141, 195, 126, 166, 62, 142, 141, 144, 140, 99, 20, 112, 62, 127, 105, 44, 43, 28, 20, 193, 100, 19, 69, 23, 25, 100, 100, 93, 141, 141, 100, 174, 62, 193, 62, 100, 62, 97, 34, 186, 48, 193, 20, 62, 105, 23, 100, 20, 141, 163, 88, 198, 74, 171, 34, 142, 141, 100, 141, 105, 67, 141, 35, 142, 111, 142, 198, 163, 35, 62, 46, 20, 62, 111, 188, 62, 44, 182, 34, 35, 100, 127, 20, 20, 73, 62, 46, 106, 19, 195, 142, 62, 141, 62, 138, 148, 105, 44, 105, 198, 193, 142, 34, 111, 34, 127, 115, 39, 192, 19, 51, 195, 67, 46, 35, 198, 193, 88, 35, 105, 20, 141, 127, 19, 39, 141, 35, 62, 62, 142, 88, 142, 23, 193, 20, 62, 141, 55, 44, 141, 88, 141, 142, 148, 193, 62, 55, 127, 69, 35, 99, 62, 13, 35, 99, 100, 44, 35, 60, 35, 20, 105, 67, 142, 34, 112, 100, 151, 62, 166, 115, 142, 67, 62, 127, 86, 193, 111, 163, 44, 44, 142, 44, 141, 111, 48, 69, 141, 149, 35, 127, 73, 34, 193, 100, 124, 97, 141, 142, 20, 163, 20, 165, 39, 99, 105, 100, 20, 46, 34, 26, 35, 34, 105, 46, 67, 62, 35, 193, 142, 100, 48, 111, 186, 62, 62, 20, 62, 141, 67, 192, 95, 48, 62, 35, 67, 62, 46, 55, 148, 100, 20, 100, 62, 55, 127, 95, 62, 195, 100, 16, 20, 142, 62, 195, 99, 34, 100, 141, 186, 141, 44, 186, 159, 35, 63, 67, 186, 127, 142, 88, 142, 195, 44, 19, 48, 168, 100, 62, 0, 20, 105, 55, 141, 99, 30, 193, 20, 67, 99, 105, 48, 105, 141, 127, 93, 84, 165, 62, 62, 141, 19, 141, 127, 20, 100, 20, 100, 141, 26, 62, 105, 141, 163, 39, 160, 26, 60, 43, 34, 62, 165, 142, 60, 193, 126, 39, 88, 174, 35, 115, 39, 142, 141, 141, 44, 62, 20, 193, 192, 26, 35, 43, 142, 34, 141, 100, 20, 100, 159, 100, 34, 171, 100, 25, 112, 141, 16, 35, 67, 62, 56, 115, 34, 141, 23, 35, 140, 35, 126, 20, 142, 193, 142, 3, 62, 69, 149, 142, 55, 142, 127, 105, 44, 20, 174, 74, 192, 35, 26, 142, 62, 193, 130, 62, 34, 62, 16, 20, 20, 199, 35, 69, 9, 141, 105, 105, 67, 62, 127, 54, 67, 163, 20, 141, 126, 111, 62, 100, 141, 142, 195, 62, 142, 159, 168, 149, 39, 62, 100, 20, 100, 69, 198, 30, 127, 54, 100, 141, 127, 127, 141, 141, 62, 62, 62, 99, 141, 141, 63, 127, 141, 141, 199, 111, 141, 26, 141, 100, 44, 35, 195, 119, 127, 105, 62, 0, 20, 111, 127, 62, 141, 35, 141, 141, 88, 111, 9, 141, 55, 88, 35, 141, 115, 16, 166, 128, 193, 20, 44, 193, 111, 141, 192, 23, 25, 151, 35, 44, 105, 0, 55, 142, 20, 127, 67, 127, 11, 62, 48, 46, 62, 105, 0, 31, 20, 35, 168, 100, 19, 168, 141, 100, 62, 62, 142, 44, 141, 62, 67, 55, 20, 3, 127, 62, 100, 44, 16, 26, 99, 34, 127, 105, 55, 142, 99, 46, 48, 111, 44, 62, 67, 35, 157, 195, 193, 160, 127, 100, 141, 34, 105, 67, 26, 105, 88, 54, 20, 39, 142, 62, 168, 195, 195, 142, 20, 97, 39, 62, 174, 62, 148, 195, 34, 182, 20, 16, 48, 186, 30, 195, 100, 62, 103, 195, 142, 84, 141, 155, 103, 35, 155, 193, 141, 141, 62, 20, 160, 174, 48, 193, 141, 62, 73, 34, 149, 182, 19, 20, 100, 141, 105, 20, 62, 44, 168, 170, 142, 20, 60, 62, 35, 67, 20, 60, 35, 141, 100, 30, 20, 62, 34, 93, 193, 141, 34, 88, 193, 99, 93, 20, 99, 166, 149, 20, 62, 62, 100, 63, 177, 95, 39, 141, 142, 62, 73, 43, 28, 100, 48, 151, 93, 39, 30, 30, 34, 166, 20, 39, 126, 141, 39, 20, 105, 60, 35, 56, 25, 145, 105, 105, 62, 193, 105, 88, 127, 20, 100, 39, 100, 0, 62, 111, 35, 67, 115, 100, 192, 34, 142, 20, 46, 43, 62, 58, 30, 0, 63, 111, 20, 141, 19, 97, 0, 20, 103, 26, 95, 46, 34, 103, 106, 142, 105, 34, 165, 88, 124, 48, 141, 39, 99, 142, 159, 46, 179, 39, 44, 67, 55, 62, 192, 127, 39, 141, 198, 141, 67, 105, 20, 105, 34, 62, 100, 100, 127, 151, 99, 168, 99, 193, 99, 34, 23, 19, 141, 99, 93, 105, 174, 30, 88, 147, 25, 39, 62, 106, 141, 20, 16, 44, 62, 141, 20, 28, 62, 23, 20, 141, 0, 19, 142, 182, 97, 20, 67, 127, 141, 142, 141, 20, 163, 141, 20, 62, 100, 62, 141, 140, 105, 105, 23, 62, 171, 142, 141, 4, 34, 141, 62, 62, 20, 30, 141, 97, 46, 73, 111, 62, 199, 111, 142, 35, 35, 44, 157, 63, 159, 168, 168, 127, 48, 43, 141, 35, 141, 20, 34, 63, 73, 46, 142, 115, 26, 141, 105, 35, 62, 142, 23, 198, 111, 30, 105, 105, 62, 100, 127, 23, 193, 65, 19, 69, 193, 105, 62, 39, 62, 111, 105, 195, 20, 58, 97, 188, 35, 100, 46, 69, 56, 171, 43, 100, 88, 4, 127, 174, 141, 163, 151, 141, 186, 193, 148, 186, 62, 63, 44, 160, 159, 141, 114, 127, 95, 198, 105, 44, 163, 142, 16, 60, 100, 159, 99, 100, 99, 100, 100, 34, 19, 35, 100, 111, 142, 105, 28, 105, 35, 148, 142, 141, 34, 100, 35, 186, 39, 62, 193, 62, 141, 130, 62, 105, 193, 20, 86, 174, 193, 60, 141, 119, 114, 192, 62, 23, 142, 142, 127, 61, 26, 105, 100, 170, 142, 20, 26, 105, 20, 127, 63, 141, 170, 34, 168, 62, 20, 62, 67, 141, 35, 100, 43, 62, 15, 20, 182, 48, 141, 159, 105, 67, 62, 44, 44, 141, 142, 44, 54, 165, 26, 193, 148, 67, 141, 35, 20, 46, 62, 100, 112, 181, 73, 23, 65, 142, 48, 48, 11, 20, 72, 192, 20, 62, 168, 35, 100, 62, 114, 58, 39, 182, 88, 25, 152, 103, 58, 171, 46, 99, 193, 193, 20, 195, 62, 62, 127, 62, 141, 198, 20, 39, 198, 150, 100, 193, 97, 55, 4, 159, 62, 44, 100, 182, 105, 179, 105, 63, 20, 46, 20, 44, 34, 127, 34, 20, 100, 44, 148, 25, 20, 111, 100, 127, 191, 100, 166, 35, 126, 67, 168, 44, 16, 141, 141, 141, 95, 20, 20, 60, 62, 198, 11, 20, 46, 46, 141, 62, 193, 100, 69, 103, 39, 141, 35, 62, 30, 35, 128, 151, 193, 39, 62, 34, 34, 193, 163, 100, 35, 62, 127, 163, 69, 115, 35, 73, 20, 195, 28, 30, 54, 100, 34, 99, 141, 105, 143, 105, 65, 20, 34, 141, 34, 126, 141, 105, 18, 62, 141, 46, 105, 67, 44, 88, 48, 195, 148, 193, 141, 88, 127, 133, 34, 19, 149, 65, 19, 147, 55, 34, 141, 34, 111, 182, 39, 141, 20, 193, 88, 105, 88, 100, 141, 0, 192, 34, 100, 142, 141, 100, 62, 141, 20, 35, 39, 30, 16, 62, 54, 20, 39, 142, 34, 20, 168, 142, 34, 62, 62, 105, 62, 20, 62, 35, 141, 141, 20, 34, 62, 105, 62, 193, 100, 62, 141, 34, 100, 188, 44, 62, 34, 20, 105, 73, 39, 141, 62, 86, 111, 20, 25, 159, 23, 26, 69, 105, 20, 26, 105, 99, 148, 44, 105, 19, 127, 151, 62, 141, 35, 20, 148, 69, 67, 44, 195, 62, 141, 193, 44, 62, 97, 163, 105, 141, 168, 55, 195, 141, 100, 62, 111, 0, 46, 100, 186, 69, 105, 97, 35, 88, 141, 105, 171, 73, 127, 20, 69, 62, 58, 100, 100, 23, 62, 100, 193, 48, 111, 127, 148, 20, 28, 99, 62, 198, 88, 151, 20, 142, 20, 105, 67, 100, 105, 62, 62, 141, 100, 141, 99, 20, 20, 34, 16, 62, 46, 111, 44, 142, 58, 195, 156, 193, 174, 100, 193, 19, 99, 192, 67, 26, 35, 107, 44, 73, 35, 141, 141, 62, 34, 23, 35, 142, 193, 97, 111, 147, 127, 26, 62, 97, 34, 105, 110, 193, 142, 35, 138, 127, 35, 165, 100, 105, 48, 23, 48, 35, 16, 39, 20, 62, 105, 35, 126, 111, 62, 35, 20, 105, 62, 62, 34, 195, 141, 62, 97, 168, 23, 141, 62, 55, 19, 69, 105, 20, 60, 20, 34, 141, 100, 111, 34, 67, 142, 142, 35, 20, 74, 127, 99, 105, 16, 141, 30, 34, 119, 105, 141, 20, 168, 147, 56, 88, 58, 160, 100, 100, 0, 88, 100, 88, 20, 141, 34, 44, 100, 62, 182, 193, 65, 39, 105, 62, 105, 0, 34, 62, 44, 138, 62, 148, 141, 100, 111, 74, 35, 46, 111, 100, 31, 105, 20, 30, 62, 100, 105, 198, 62, 62, 105, 142, 44, 141, 20, 19, 20, 35, 44, 100, 26, 62, 35, 26, 20, 62, 127, 168, 19, 62, 55, 23, 97, 34, 34, 62, 62, 39, 54, 62, 48, 67, 54, 103, 142, 73, 105, 62, 192, 115, 111, 160, 105, 20, 34, 19, 127, 193, 39, 100, 0, 25, 127, 100, 62, 141, 165, 20, 19, 62, 193, 35, 168, 67, 62, 34, 62, 73, 141, 62, 142, 67, 142, 141, 69, 44, 99, 111, 34, 141, 62, 105, 34, 178, 67, 142, 99, 35, 35, 100, 100, 141, 126, 127, 20, 127, 100, 43, 105, 35, 88, 127, 34, 34, 163, 127, 192, 34, 151, 67, 106, 141, 100, 20, 67, 111, 127, 19, 141, 141, 111, 67, 20, 62, 163, 38, 34, 195, 198, 39, 105, 46, 163, 20, 62, 20, 148, 193, 141, 44, 62, 58, 62, 56, 149, 100, 193, 99, 97, 20, 99, 157, 141, 28, 100, 182, 148, 168, 67, 35, 141, 48, 141, 54, 67, 141, 126, 148, 55, 168, 186, 168, 166, 100, 62, 39, 30, 62, 48, 30, 62, 111, 62, 62, 195, 69, 62, 39, 62, 168, 152, 67, 105, 127, 62, 62, 20, 182, 62, 26, 142, 106, 20, 48, 20, 35, 34, 34, 126, 62, 56, 160, 142, 43, 20, 182, 69, 62, 88, 56, 25, 35, 100, 58, 111, 141, 44, 141, 62, 160, 62, 141, 62, 62, 157, 126, 62, 62, 105, 35, 43, 53, 62, 141, 62, 62, 127, 62, 141, 141, 141, 168, 43, 67, 44, 35, 62, 141, 62, 141, 35, 20, 99, 151, 62, 127, 88, 19, 121, 46, 63, 163, 43, 23, 103, 100, 62, 99, 20, 62, 127, 105, 99, 39, 126, 62, 193, 100, 62, 30, 20, 192, 62, 105, 26, 54, 67, 35, 163, 141, 39, 62, 44, 84, 105, 127, 54, 100, 100, 141, 193, 182, 44, 97, 67, 99, 48, 62, 182, 55, 100, 105, 65, 62, 142, 141, 105, 20, 142, 168, 111, 39, 198, 62, 70, 62, 127, 100, 48, 105, 141, 198, 100, 44, 126, 20, 127, 105, 16, 105, 195, 151, 58, 62, 43, 127, 39, 4, 46, 142, 105, 35, 20, 23, 20, 127, 62, 62, 141, 20, 48, 88, 43, 39, 171, 100, 58, 62, 35, 142, 56, 20, 111, 34, 67, 88, 44, 142, 127, 63, 20, 20, 141, 69, 62, 44, 142, 193, 88, 67, 88, 193, 97, 60, 62, 88, 31, 20, 141, 186, 46, 140, 147, 39, 88, 62, 20, 97, 92, 23, 30, 48, 149, 67, 105, 25, 20, 100, 95, 105, 62, 192, 100, 105, 193, 193, 16, 103, 141, 44, 62, 104, 46, 190, 35, 141, 127, 62, 100, 62, 105, 100, 34, 103, 99, 39, 102, 182, 148, 182, 19, 34, 127, 127, 100, 20, 67, 35, 25, 142, 105, 141, 55, 43, 100, 44, 100, 105, 39, 44, 35, 141, 105, 62, 140, 127, 127, 25, 62, 23, 20, 141, 20, 62, 171, 62, 182, 99, 128, 65, 105, 100, 159, 141, 100, 100, 20, 54, 26, 39, 34, 105, 73, 34, 28, 62, 142, 105, 20, 62, 105, 69, 127, 62, 126, 20, 141, 0, 62, 141, 174, 62, 157, 46, 0, 141, 67, 44, 111, 44, 62, 62, 100, 62, 44, 48, 141, 100, 46, 86, 186, 195, 26, 141, 141, 34, 141, 100, 105, 112, 20, 20, 54, 142, 65, 20, 46, 55, 20, 141, 26, 100, 34, 19, 35, 141, 198, 107, 62, 20, 73, 193, 168, 69, 142, 193, 67, 88, 58, 0, 174, 142, 111, 88, 105, 171, 26, 39, 35, 141, 100, 39, 114, 62, 46, 0, 191, 193, 34, 141, 105, 193, 84, 62, 62, 151, 44, 44, 100, 141, 141, 19, 28, 84, 43, 35, 100, 111, 35, 105, 141, 20, 35, 88, 23, 0, 100, 141, 105, 141, 138, 111, 0, 62, 44, 20, 55, 148, 193, 58, 31, 105, 198, 106, 67, 111, 142, 160, 111, 62, 34, 111, 142, 160, 127, 53, 155, 0, 25, 141, 163, 26, 20, 141, 182, 97, 99, 62, 100, 107, 105, 193, 168, 100, 127, 62, 55, 48, 105, 46, 20, 126, 141, 44, 65, 127, 60, 107, 195, 141, 26, 142, 20, 62, 62, 44, 182, 34, 142, 62, 193, 97, 104, 111, 105, 171, 20, 127, 35, 99, 44, 103, 141, 46, 62, 111, 127, 62, 39, 86, 63, 141, 67, 62, 62, 126, 141, 141, 126, 88, 74, 60, 35, 62, 142, 111, 62, 67, 186, 20, 141, 142, 195, 84, 46, 159, 195, 54, 60, 168, 163, 99, 62, 141, 141, 26, 95, 142, 35, 0, 111, 20, 127, 105, 67, 51, 141, 62, 193, 111, 20, 193, 151, 34, 62, 148, 148, 60, 105, 168, 141, 100, 88, 193, 119, 142, 105, 100, 174, 142, 142, 23, 105, 160, 168, 105, 88, 60, 44, 142, 100, 100, 150, 193, 54, 95, 142, 105, 140, 34, 174, 198, 35, 100, 100, 105, 48, 192, 126, 23, 20, 160, 168, 35, 115, 0, 168, 141, 44, 166, 62, 193, 159, 48, 127, 20, 48, 160, 127, 62, 198, 34, 174, 35, 34, 147, 20, 103, 57, 20, 100, 46, 44, 11, 99, 67, 111, 20, 148, 141, 35, 130, 99, 16, 141, 48, 56, 44, 141, 16, 34, 26, 35, 35, 26, 16, 192, 20, 195, 100, 174, 111, 65, 193, 20, 127, 20, 100, 100, 62, 100, 105, 105, 19, 35, 99, 16, 69, 30, 67, 69, 171, 46, 62, 62, 141, 97, 63, 35, 20, 34, 67, 142, 19, 73, 62, 142, 148, 39, 30, 141, 67, 59, 100, 26, 46, 88, 30, 105, 34, 62, 148, 141, 23, 105, 34, 198, 48, 166, 69, 62, 35, 34, 62, 62, 60, 105, 100, 106, 35, 100, 126, 34, 100, 105, 34, 20, 20, 168, 141, 34, 23, 168, 19, 62, 141, 62, 69, 126, 46, 26, 62, 73, 126, 44, 35, 26, 193, 168, 151, 141, 142, 141, 54, 141, 198, 62, 67, 97, 100, 100, 44, 115, 62, 62, 16, 67, 123, 99, 74, 182, 105, 44, 142, 100, 19, 100, 28, 62, 99, 193, 25, 111, 141, 141, 44, 105, 111, 44, 62, 62, 54, 127, 67, 193, 48, 103, 100, 99, 62, 35, 4, 44, 127, 88, 69, 34, 142, 34, 100, 62, 100, 141, 26, 166, 141, 126, 20, 99, 35, 74, 44, 34, 182, 168, 141, 34, 157, 141, 142, 141, 35, 100, 141, 62, 30, 54, 20, 141, 198, 88, 195, 20, 44, 62, 48, 69, 62, 186, 168, 43, 142, 100, 55, 174, 141, 62, 195, 73, 105, 56, 111, 148, 62, 142, 100, 93, 151, 193, 141, 62, 141, 111, 165, 44, 148, 99, 182, 182, 141, 69, 69, 35, 20, 100, 186, 193, 195, 142, 198, 99, 193, 100, 20, 68, 62, 19, 93, 23, 141, 26, 182, 142, 44, 141, 43, 35, 62, 19, 20, 35, 141, 62, 127, 153, 22, 99, 56, 20, 55, 105, 148, 16, 35, 69, 182, 35, 141, 141, 141, 142, 168, 20, 159, 141, 147, 20, 35, 127, 100, 157, 20, 100, 111, 195, 127, 62, 166, 28, 100, 20, 62, 141, 128, 171, 100, 100, 141, 105, 56, 35, 20, 20, 179, 141, 62, 43, 48, 34, 105, 39, 67, 105, 127, 151, 193, 141, 30, 142, 20, 141, 127, 68, 173, 62, 155, 74, 20, 35, 148, 126, 20, 62, 141, 182, 20, 105, 51, 62, 39, 198, 19, 141, 35, 62, 34, 195, 62, 195, 126, 88, 62, 141, 163, 20, 39, 44, 74, 88, 67, 62, 35, 141, 198, 127, 141, 35, 46, 55, 62, 34, 141, 99, 58, 100, 34, 62, 182, 62, 149, 141, 39, 28, 44, 198, 48, 111, 74, 100, 67, 34, 105, 20, 155, 127, 141, 141, 141, 20, 142, 46, 142, 103, 3, 105, 159, 62, 168, 67, 168, 62, 100, 20, 62, 67, 105, 138, 105, 62, 97, 198, 67, 30, 55, 166, 151, 193, 105, 20, 141, 46, 155, 20, 62, 193, 34, 105, 23, 193, 19, 141, 111, 105, 34, 23, 100, 34, 142, 62, 99, 105, 30, 62, 88, 20, 44, 100, 127, 141, 193, 74, 44, 193, 105, 20, 105, 86, 141, 126, 20, 28, 34, 20, 62, 34, 60, 198, 105, 20, 67, 142, 141, 141, 141, 62, 0, 105, 88, 62, 127, 127, 34, 111, 39, 141, 34, 151, 25, 141, 34, 111, 20, 141, 127, 126, 88, 193, 62, 100, 67, 67, 62, 159, 93, 62, 34, 127, 69, 9, 20, 186, 23, 67, 34, 141, 149, 62, 195, 56, 142, 151, 159, 26, 199, 34, 35, 20, 0, 127, 20, 100, 168, 179, 62, 26, 166, 19, 99, 84, 35, 100, 19, 126, 105, 127, 44, 31, 67, 20, 34, 142, 19, 100, 163, 111, 35, 105, 149, 127, 19, 62, 105, 67, 151, 123, 23, 141, 148, 198, 105, 30, 96, 54, 34, 100, 62, 62, 100, 34, 63, 100, 168, 44, 62, 193, 63, 126, 39, 112, 141, 100, 88, 111, 16, 127, 20, 105, 100, 142, 141, 19, 100, 112, 141, 30, 171, 100, 34, 35, 69, 193, 25, 62, 62, 34, 20, 44, 193, 99, 62, 127, 100, 99, 62, 142, 54, 95, 100, 163, 35, 163, 34, 193, 105, 0, 54, 54, 30, 126, 48, 35, 127, 198, 151, 141, 127, 20, 111, 141, 105, 97, 67, 195, 34, 141, 141, 44, 30, 141, 142, 34, 67, 111, 62, 35, 46, 127, 69, 26, 88, 43, 198, 166, 127, 106, 88, 162, 148, 142, 97, 99, 19, 48, 141, 20, 100, 142, 74, 188, 20, 39, 23, 141, 141, 34, 62, 105, 67, 39, 46, 69, 171, 198, 46, 67, 35, 148, 142, 99, 142, 142, 44, 62, 55, 48, 23, 46, 141, 99, 30, 62, 88, 141, 20, 142, 126, 34, 159, 100, 99, 46, 192, 35, 142, 56, 16, 171, 26, 188, 62, 34, 62, 141, 104, 62, 99, 30, 0, 44, 105, 62, 105, 100, 62, 46, 35, 62, 141, 62, 93, 48, 46, 16, 20, 35, 142, 126, 199, 159, 69, 188, 193, 22, 20, 193, 99, 99, 193, 141, 0, 141, 25, 54, 115, 142, 62, 111, 19, 141, 105, 198, 111, 20, 20, 44, 60, 86, 39, 105, 141, 141, 193, 69, 142, 86, 54, 192, 44, 168, 160, 62, 151, 44, 100, 62, 195, 99, 44, 151, 34, 67, 20, 141, 35, 141, 142, 34, 182, 100, 97, 35, 193, 142, 34, 111, 62, 148, 141, 127, 138, 35, 142, 163, 20, 67, 157, 34, 141, 100, 25, 141, 20, 26, 34, 159, 174, 62, 192, 195, 147, 193, 141, 142, 182, 20, 19, 70, 168, 166, 186, 34, 141, 20, 100, 100, 100, 19, 44, 30, 44, 34, 62, 140, 141, 88, 62, 100, 142, 62, 62, 20, 34, 34, 35, 16, 20, 62, 195, 62, 62, 20, 141, 88, 193, 62, 142, 20, 62, 20, 43, 26, 73, 141, 35, 166, 0, 127, 34, 34, 141, 20, 48, 88, 100, 67, 73, 106, 100, 105, 100, 141, 127, 141, 195, 103, 142, 20, 54, 62, 26, 62, 43, 62, 20, 142, 67, 182, 193, 165, 62, 141, 105, 35, 195, 141, 20, 20, 100, 44, 193, 147, 55, 54, 100, 30, 35, 141, 193, 142, 142, 60, 168, 69, 126, 166, 140, 171, 163, 67, 100, 62, 20, 35, 195, 55, 20, 100, 188, 105, 39, 34, 67, 148, 26, 20, 149, 142, 150, 30, 126, 20, 30, 100, 141, 34, 100, 25, 55, 141, 20, 198, 193, 88, 141, 97, 97, 39, 62, 171, 35, 48, 138, 100, 34, 48, 62, 127, 179, 163, 20, 168, 193, 44, 142, 149, 19, 127, 141, 4, 141, 141, 142, 20, 105, 62, 73, 62, 62, 106, 35, 62, 39, 48, 192, 44, 62, 20, 0, 99, 62, 20, 100, 168, 34, 34, 39, 106, 20, 115, 105, 88, 44, 111, 100, 60, 193, 43, 35, 44, 182, 44, 105, 99, 141, 62, 20, 34, 62, 186, 105, 58, 26, 48, 62, 34, 100, 138, 156, 67, 62, 182, 20, 127, 20, 141, 20, 111, 0, 198, 20, 193, 62, 73, 35, 62, 30, 23, 100, 20, 16, 34, 55, 111, 34, 88, 28, 62, 142, 106, 99, 99, 62, 62, 26, 44, 112, 60, 111, 20, 39, 16, 62, 159, 142, 62, 69, 67, 195, 100, 105, 39, 182, 22, 141, 149, 163, 30, 105, 186, 151, 62, 34, 141, 20, 60, 28, 34, 62, 99, 19, 48, 26, 182, 48, 97, 19, 62, 34, 192, 148, 20, 44, 179, 105, 141, 46, 20, 20, 20, 20, 140, 62, 142, 88, 34, 39, 26, 20, 0, 141, 141, 102, 100, 100, 55, 191, 23, 149, 62, 62, 19, 35, 34, 141, 39, 126, 105, 63, 141, 142, 105, 88, 195, 141, 44, 115, 100, 142, 20, 100, 141, 20, 195, 35, 193, 141, 62, 141, 84, 99, 141, 69, 141, 35, 111, 34, 62, 142, 35, 62, 44, 19, 19, 142, 74, 142, 62, 100, 56, 142, 23, 35, 35, 99, 35, 62, 141, 20, 166, 62, 46, 126, 186, 105, 39, 26, 95, 48, 105, 62, 69, 65, 100, 111, 141, 20, 16, 100, 62, 20, 105, 20, 62, 141, 165, 142, 48, 30, 34, 105, 35, 35, 142, 186, 157, 193, 35, 168, 193, 105, 60, 62, 142, 105, 62, 198, 35, 126, 44, 35, 193, 141, 147, 35, 198, 97, 69, 62, 88, 141, 65, 193, 28, 67, 62, 19, 193, 111, 31, 141, 46, 182, 119, 186, 130, 166, 168, 73, 199, 34, 193, 141, 62, 35, 20, 73, 85, 198, 35, 142, 142, 142, 20, 193, 44, 193, 26, 168, 171, 111, 62, 105, 141, 34, 16, 34, 182, 25, 62, 35, 35, 20, 142, 20, 48, 20, 105, 163, 20, 141, 141, 198, 141, 159, 100, 142, 20, 142, 74, 100, 142, 62, 142, 111, 174, 195, 95, 34, 142, 20, 58, 20, 126, 105, 34, 34, 141, 20, 111, 142, 193, 142, 35, 62, 141, 58, 99, 39, 62, 46, 62, 163, 100, 20, 62, 46, 111, 34, 111, 23, 141, 35, 48, 62, 95, 192, 20, 34, 141, 141, 141, 20, 34, 141, 192, 0, 127, 67, 193, 55, 20, 46, 62, 142, 195, 168, 67, 100, 62, 141, 193, 20, 186, 195, 193, 128, 62, 142, 62, 62, 105, 165, 141, 54, 20, 20, 35, 115, 48, 99, 100, 62, 142, 159, 20, 100, 126, 168, 69, 100, 58, 141, 142, 193, 128, 127, 142, 193, 151, 127, 142, 34, 19, 105, 100, 39, 35, 62, 100, 141, 62, 20, 174, 141, 99, 182, 171, 99, 26, 138, 192, 151, 20, 35, 39, 142, 128, 160, 65, 74, 34, 62, 119, 142, 58, 20, 44, 88, 168, 100, 35, 20, 84, 35, 34, 141, 69, 100, 56, 193, 168, 99, 20, 100, 62, 19, 20, 105, 99, 62, 195, 127, 30, 126, 105, 100, 99, 34, 34, 26, 141, 192, 147, 141, 26, 39, 35, 39, 141, 62, 19, 88, 34, 35, 20, 111, 171, 193, 193, 48, 141, 20, 93, 112, 48, 127, 100, 67, 160, 20, 100, 35, 105, 20, 168, 100, 44, 34, 62, 105, 126, 105, 193, 193, 88, 126, 0, 141, 44, 149, 142, 105, 62, 62, 25, 39, 62, 141, 34, 54, 62, 35, 141, 20, 141, 156, 198, 34, 100, 111, 195, 163, 20, 157, 35, 23, 140, 23, 100, 20, 141, 55, 198, 142, 48, 35, 105, 127, 127, 62, 142, 0, 100, 127, 141, 20, 62, 111, 35, 28, 62, 141, 142, 193, 166, 20, 100, 162, 163, 141, 198, 195, 141, 186, 26, 60, 99, 111, 88, 62, 62, 39, 62, 34, 111, 46, 166, 141, 20, 35, 67, 127, 39, 23, 62, 34, 141, 141, 192, 16, 165, 62, 62, 105, 46, 193, 126, 0, 141, 19, 23, 35, 62, 111, 106, 35, 20, 20, 193, 163, 30, 20, 149, 141, 119, 73, 62, 141, 142, 141, 44, 30, 46, 195, 148, 111, 25, 34, 62, 62, 148, 20, 30, 141, 142, 88, 28, 34, 193, 141, 195, 84, 88, 44, 16, 111, 100, 142, 54, 69, 192, 105, 35, 35, 186, 142, 35, 60, 34, 195, 60, 35, 23, 100, 142, 39, 34, 44, 39, 141, 165, 35, 100, 182, 20, 16, 62, 193, 69, 20, 69, 20, 100, 198, 62, 100, 157, 165, 168, 0, 39, 141, 142, 140, 44, 166, 193, 127, 0, 62, 20, 141, 34, 34, 34, 11, 35, 20, 26, 127, 141, 100, 34, 100, 142, 62, 62, 35, 62, 0, 142, 141, 100, 5, 20, 30, 105, 34, 39, 86, 20, 159, 19, 105, 46, 20, 69, 34, 99, 30, 141, 20, 159, 34, 54, 141, 65, 44, 44, 195, 20, 142, 141, 67, 20, 43, 46, 62, 46, 67, 62, 163, 193, 100, 193, 193, 193, 20, 39, 141, 35, 44, 141, 20, 67, 127, 127, 26, 20, 100, 44, 105, 20, 39, 193, 141, 34, 67, 142, 181, 39, 147, 142, 20, 97, 141, 105, 142, 19, 138, 54, 100, 198, 38, 44, 168, 34, 46, 168, 54, 16, 62, 179, 168, 62, 147, 62, 149, 163, 100, 62, 62, 88, 20, 62, 48, 35, 195, 141, 93, 126, 65, 138, 186, 142, 62, 99, 198, 62, 30, 142, 105, 54, 28, 100, 148, 35, 62, 193, 62, 34, 62, 193, 34, 193, 35, 105, 0, 192, 165, 111, 62, 54, 20, 100, 105, 48, 39, 20, 44, 141, 192, 168, 142, 28, 43, 44, 99, 62, 20, 60, 39, 48, 97, 141, 195, 62, 142, 62, 182, 119, 44, 26, 30, 55, 193, 141, 159, 34, 34, 35, 141, 192, 111, 127, 54, 34, 62, 62, 55, 88, 70, 103, 20, 141, 39, 195, 141, 103, 100, 34, 103, 148, 186, 142, 150, 44, 67, 141, 127, 142, 105, 26, 193, 155, 151, 46, 62, 157, 126, 20, 19, 62, 186, 62, 163, 35, 127, 195, 141, 142, 97, 155, 62, 149, 142, 192, 35, 188, 127, 19, 65, 99, 62, 19, 148, 42, 73, 179, 35, 100, 111, 112, 19, 193, 60, 100, 9, 195, 100, 35, 111, 62, 74, 155, 142, 111, 141, 48, 35, 35, 142, 35, 198, 150, 127, 44, 16, 16, 62, 105, 19, 19, 20, 20, 44, 127, 35, 100, 60, 62, 73, 141, 20, 39, 124, 35, 84, 20, 62, 100, 105, 25, 20, 62, 62, 195, 104, 126, 20, 65, 34, 35, 111, 62, 141, 55, 193, 141, 34, 121, 62, 20, 142, 39, 35, 35, 193, 198, 186, 141, 30, 26, 16, 62, 51, 48, 62, 142, 20, 62, 48, 67, 105, 126, 148, 136, 62, 160, 173, 35, 99, 62, 55, 55, 171, 26, 20, 20, 141, 28, 39, 20, 46, 16, 35, 67, 151, 193, 60, 141, 20, 195, 186, 20]\n"
          ],
          "name": "stdout"
        }
      ]
    }
  ]
}