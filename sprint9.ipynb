{
  "nbformat": 4,
  "nbformat_minor": 0,
  "metadata": {
    "kernelspec": {
      "display_name": "Python 3",
      "language": "python",
      "name": "python3"
    },
    "language_info": {
      "codemirror_mode": {
        "name": "ipython",
        "version": 3
      },
      "file_extension": ".py",
      "mimetype": "text/x-python",
      "name": "python",
      "nbconvert_exporter": "python",
      "pygments_lexer": "ipython3",
      "version": "3.8.5"
    },
    "colab": {
      "name": "sprint9.ipynb",
      "provenance": []
    },
    "accelerator": "GPU"
  },
  "cells": [
    {
      "cell_type": "code",
      "metadata": {
        "id": "uECBDtFUbm_Q"
      },
      "source": [
        "# importing dependencies\n",
        "import matplotlib.pyplot as plt\n",
        "from keras.datasets import mnist\n",
        "import numpy as np\n",
        "from sklearn.preprocessing import OneHotEncoder\n",
        "from sklearn.model_selection import train_test_split\n",
        "from sklearn.metrics import accuracy_score"
      ],
      "execution_count": 98,
      "outputs": []
    },
    {
      "cell_type": "code",
      "metadata": {
        "id": "We0Ryhlqbm_g"
      },
      "source": [
        "# get subsets\n",
        "(X_train, y_train), (X_test, y_test) = mnist.load_data()"
      ],
      "execution_count": 55,
      "outputs": []
    },
    {
      "cell_type": "code",
      "metadata": {
        "colab": {
          "base_uri": "https://localhost:8080/"
        },
        "id": "tiNoksA-bm_h",
        "outputId": "06ac8dc5-6056-46d3-9e15-e4e5305a71f0"
      },
      "source": [
        "# checking the subsets\n",
        "print(X_train.shape) \n",
        "print(X_test.shape)"
      ],
      "execution_count": 56,
      "outputs": [
        {
          "output_type": "stream",
          "text": [
            "(60000, 28, 28)\n",
            "(10000, 28, 28)\n"
          ],
          "name": "stdout"
        }
      ]
    },
    {
      "cell_type": "code",
      "metadata": {
        "id": "2rNkkIbjbm_k"
      },
      "source": [
        "# flattening the subsets\n",
        "X_train = X_train.reshape(-1,784)\n",
        "X_test = X_test.reshape(-1,784)"
      ],
      "execution_count": 57,
      "outputs": []
    },
    {
      "cell_type": "code",
      "metadata": {
        "colab": {
          "base_uri": "https://localhost:8080/",
          "height": 281
        },
        "id": "da7azwaVbm_l",
        "outputId": "f5c1da1b-2d7c-4cb2-e37e-7f6b6ee83d71"
      },
      "source": [
        "# visualize the data\n",
        "%matplotlib inline\n",
        "index = 0\n",
        "image = X_train[index].reshape(28,28)\n",
        "plt.imshow(image, 'gray', vmin = 0, vmax = 255)\n",
        "plt.title('label : {}'.format(y_train[index]))\n",
        "plt.show()"
      ],
      "execution_count": 58,
      "outputs": [
        {
          "output_type": "display_data",
          "data": {
            "image/png": "[encoded data removed]",
            "text/plain": [
              "<Figure size 432x288 with 1 Axes>"
            ]
          },
          "metadata": {
            "tags": [],
            "needs_background": "light"
          }
        }
      ]
    },
    {
      "cell_type": "code",
      "metadata": {
        "colab": {
          "base_uri": "https://localhost:8080/"
        },
        "id": "Y9giwg0Xbm_m",
        "outputId": "0a0fb75d-0426-4dce-d4f4-e587ddb5fb4f"
      },
      "source": [
        "# pre processing\n",
        "X_train = X_train.astype(np.float)\n",
        "X_test = X_test.astype(np.float)\n",
        "X_train /= 255\n",
        "X_test /= 255\n",
        "print(X_train.max()) # 1.0\n",
        "print(X_train.min())"
      ],
      "execution_count": 59,
      "outputs": [
        {
          "output_type": "stream",
          "text": [
            "1.0\n",
            "0.0\n"
          ],
          "name": "stdout"
        }
      ]
    },
    {
      "cell_type": "code",
      "metadata": {
        "colab": {
          "base_uri": "https://localhost:8080/"
        },
        "id": "f10EJYL4bm_n",
        "outputId": "3981093c-5abd-4337-dd89-70ebefbcd548"
      },
      "source": [
        "enc = OneHotEncoder(handle_unknown='ignore', sparse=False)\n",
        "y_train_one_hot = enc.fit_transform(y_train[:, np.newaxis])\n",
        "y_test_one_hot = enc.transform(y_test[:, np.newaxis])\n",
        "print(y_train.shape) # (60000,)\n",
        "print(y_train_one_hot.shape) # (60000, 10)\n",
        "print(y_train_one_hot.dtype) # float64"
      ],
      "execution_count": 60,
      "outputs": [
        {
          "output_type": "stream",
          "text": [
            "(60000,)\n",
            "(60000, 10)\n",
            "float64\n"
          ],
          "name": "stdout"
        }
      ]
    },
    {
      "cell_type": "code",
      "metadata": {
        "id": "8WcVgBiXbm_o"
      },
      "source": [
        "# splitting our subsets into train and validation subsets\n",
        "X_train, X_val, y_train, y_val = train_test_split(X_train, y_train, test_size=0.2)"
      ],
      "execution_count": 61,
      "outputs": []
    },
    {
      "cell_type": "code",
      "metadata": {
        "colab": {
          "base_uri": "https://localhost:8080/"
        },
        "id": "bba1V1yKbm_q",
        "outputId": "8012e75e-a0c5-4f02-8582-240ca67866b9"
      },
      "source": [
        "print(X_train.shape) # (48000, 784)\n",
        "print(X_val.shape) # (12000, 784)"
      ],
      "execution_count": 62,
      "outputs": [
        {
          "output_type": "stream",
          "text": [
            "(48000, 784)\n",
            "(12000, 784)\n"
          ],
          "name": "stdout"
        }
      ]
    },
    {
      "cell_type": "code",
      "metadata": {
        "id": "-ZEwNFpbbm_r"
      },
      "source": [
        "# mini batch\n",
        "class GetMiniBatch:\n",
        "    \"\"\"\n",
        "Iterator to get a mini-batch\n",
        "    Parameters\n",
        "    ----------\n",
        "    X : The following forms of ndarray, shape (n_samples, n_features)\n",
        "      Training data\n",
        "    y : The following form of ndarray, shape (n_samples, 1)\n",
        "      Correct answer value\n",
        "    batch_size : int\n",
        "      Batch size\n",
        "    seed : int\n",
        "      NumPy random number seed\n",
        "    \"\"\"\n",
        "    def __init__(self, X, y, batch_size = 20, seed=0):\n",
        "        self.batch_size = batch_size\n",
        "        np.random.seed(seed)\n",
        "        shuffle_index = np.random.permutation(np.arange(X.shape[0]))\n",
        "        self._X = X[shuffle_index]\n",
        "        self._y = y[shuffle_index]\n",
        "        self._stop = np.ceil(X.shape[0]/self.batch_size).astype(np.int)\n",
        "    def __len__(self):\n",
        "        return self._stop\n",
        "    def __getitem__(self,item):\n",
        "        p0 = item*self.batch_size\n",
        "        p1 = item*self.batch_size + self.batch_size\n",
        "        return self._X[p0:p1], self._y[p0:p1]        \n",
        "    def __iter__(self):\n",
        "        self._counter = 0\n",
        "        return self\n",
        "    def __next__(self):\n",
        "        if self._counter >= self._stop:\n",
        "            raise StopIteration()\n",
        "        p0 = self._counter*self.batch_size\n",
        "        p1 = self._counter*self.batch_size + self.batch_size\n",
        "        self._counter += 1\n",
        "        return self._X[p0:p1], self._y[p0:p1]"
      ],
      "execution_count": 63,
      "outputs": []
    },
    {
      "cell_type": "code",
      "metadata": {
        "id": "RCkrElU3bm_t"
      },
      "source": [
        "# calculating the batch\n",
        "get_mini_batch = GetMiniBatch(X_train, y_train, batch_size=20)"
      ],
      "execution_count": 64,
      "outputs": []
    },
    {
      "cell_type": "code",
      "metadata": {
        "colab": {
          "base_uri": "https://localhost:8080/"
        },
        "id": "V8vYbTrlbm_u",
        "outputId": "10a57f0e-848d-42fe-c43b-efc67007110e"
      },
      "source": [
        "print(len(get_mini_batch))"
      ],
      "execution_count": 65,
      "outputs": [
        {
          "output_type": "stream",
          "text": [
            "2400\n"
          ],
          "name": "stdout"
        }
      ]
    },
    {
      "cell_type": "markdown",
      "metadata": {
        "id": "QO6dTy91bm_u"
      },
      "source": [
        "[Problem 1] Creating a code to determine the initial weight value"
      ]
    },
    {
      "cell_type": "code",
      "metadata": {
        "id": "RZqgUzevbm_v"
      },
      "source": [
        "n_sample,n_features = X_train.shape\n",
        "n_nodes1 = 400\n",
        "sigma = 0.01 # Standard deviation of Gaussian distribution\n",
        "W1 = sigma * np.random.randn(n_features, n_nodes1)"
      ],
      "execution_count": 66,
      "outputs": []
    },
    {
      "cell_type": "code",
      "metadata": {
        "colab": {
          "base_uri": "https://localhost:8080/"
        },
        "id": "V4QvA4-Lbm_w",
        "outputId": "46151c11-ca60-4c72-e3b4-9c82e200d632"
      },
      "source": [
        "print(n_nodes1)"
      ],
      "execution_count": 67,
      "outputs": [
        {
          "output_type": "stream",
          "text": [
            "400\n"
          ],
          "name": "stdout"
        }
      ]
    },
    {
      "cell_type": "code",
      "metadata": {
        "id": "KuznxApDbm_w"
      },
      "source": [
        "# neural network from scratch\n",
        "class ScratchSimpleNeuralNetrowkClassifier():\n",
        "\n",
        "    def __init__(self, verbose = True, n_features=784,n_nodes1=400,n_nodes2=200, batch_size=20,n_output=10, n_epoch=10, lr=0.5, sigma=0.01):\n",
        "        self.verbose = verbose\n",
        "        self.n_features = n_features\n",
        "        self.n_nodes1 = n_nodes1\n",
        "        self.n_nodes2 = n_nodes2\n",
        "        self.batch_size = batch_size\n",
        "        self.n_output = n_output\n",
        "        self.n_epoch = 30\n",
        "        self.lr = lr\n",
        "        self.sigma = sigma\n",
        "        self.W1 = None\n",
        "        self.b1 = None\n",
        "        self.W2 = None\n",
        "        self.b2 = None\n",
        "        self.W3 = None\n",
        "        self.b3 = None\n",
        "        self.loss = []\n",
        "        self.val_loss = []\n",
        "        pass\n",
        "    \n",
        "    def fit(self, X, y, X_val=None, y_val=None):\n",
        "      self.create_init_w_b()\n",
        "      for epoch in range(self.n_epoch):\n",
        "          get_mini_batch = GetMiniBatch(X, y, self.batch_size)\n",
        "          for mini_X_train, mini_y_train in get_mini_batch:    \n",
        "            # forward propagation\n",
        "            self.forward_propagation(mini_X_train)\n",
        "            self.back_propagation(mini_X_train, mini_y_train)\n",
        "\n",
        "          self.forward_propagation(X)\n",
        "          # self.loss.append(self.cross_entropy_error(y, self.layer_3))\n",
        "          # if X_val is not None:\n",
        "          #     self.forward(X_val)\n",
        "          #     self.loss_test.append(self.cross_entropy_error(y_val, self.layer_3))\n",
        "\n",
        "      if self.verbose:\n",
        "          # When verbose is set to True, the learning process etc. is output.\n",
        "          print(self.loss)\n",
        "      pass\n",
        "    \n",
        "    def create_init_w_b(self):\n",
        "        self.W1 = self.sigma * np.random.randn(self.n_features, self.n_nodes1)\n",
        "        self.b1 = self.sigma * np.random.randn(1, self.n_nodes1)\n",
        "        self.W2 = self.sigma * np.random.randn(self.n_nodes1, self.n_nodes2)\n",
        "        self.b2 = self.sigma * np.random.randn(1, self.n_nodes2)\n",
        "        self.W3 = self.sigma * np.random.randn(self.n_nodes2, self.n_output)\n",
        "        self.b3 = self.sigma * np.random.randn(1, self.n_output)\n",
        "    \n",
        "    def activation_function(self,X, layer):\n",
        "      if layer == \"hidden\" or layer == \"first\":\n",
        "        act_f = np.tanh(X)\n",
        "        return act_f\n",
        "      else: \n",
        "        act_f = np.exp(X) / np.sum(np.exp(X), axis=1).reshape(-1, 1)\n",
        "        return act_f\n",
        "\n",
        "    def cross_entropy_error(self, y, layer):\n",
        "        e = - np.sum(y * np.log(layer)) / len(y)\n",
        "        return e\n",
        "\n",
        "    def forward_propagation(self,X):\n",
        "        layer_1_pre = np.dot(X,self.W1) + self.b1\n",
        "        self.layer_1 = self.activation_function(layer_1_pre, \"first\")\n",
        "\n",
        "        layer_2_pre = np.dot(self.layer_1,self.W2) + self.b2\n",
        "        self.layer_2 = self.activation_function(layer_2_pre, \"hidden\")\n",
        "\n",
        "        layer_3_pre = np.dot(self.layer_2,self.W3) + self.b3\n",
        "        self.layer_3 = self.activation_function(layer_3_pre, \"output\")\n",
        "        \n",
        "    def back_propagation(self, X, y):\n",
        "\n",
        "      delta_3 = self.layer_3 - y\n",
        "      self.W3 += -self.lr*np.transpose(self.layer_2)@delta_3\n",
        "      self.b3 += -self.lr*np.sum(delta_3)\n",
        "\n",
        "      delta_2 = delta_3@np.transpose(self.W3)*(self.layer_2 * (1 - self.layer_2))\n",
        "      self.W2 += -self.lr*np.transpose(self.layer_1)@delta_2\n",
        "      self.b2 += -self.lr*np.sum(delta_2)\n",
        "\n",
        "      delta_1 = delta_2@np.transpose(self.W2)*(self.layer_1 * (1 - self.layer_1))\n",
        "      self.W1 += -self.lr*np.transpose(X)@delta_1\n",
        "      self.b1 += -self.lr*np.sum(delta_1)\n",
        "\n",
        "    def predict(self, X):\n",
        "      self.forward_propagation(X)\n",
        "      return np.argmax(self.layer_3, axis=1)"
      ],
      "execution_count": 172,
      "outputs": []
    },
    {
      "cell_type": "code",
      "metadata": {
        "colab": {
          "base_uri": "https://localhost:8080/"
        },
        "id": "wbAySPcRbm_x",
        "outputId": "f082243a-362b-4e1a-8f7e-476b62918116"
      },
      "source": [
        "model = ScratchSimpleNeuralNetrowkClassifier()\n",
        "model.fit(X_train,y_train_one_hot,X_val,y_test_one_hot)"
      ],
      "execution_count": 173,
      "outputs": [
        {
          "output_type": "stream",
          "text": [
            "/usr/local/lib/python3.6/dist-packages/ipykernel_launcher.py:57: RuntimeWarning: overflow encountered in exp\n",
            "/usr/local/lib/python3.6/dist-packages/ipykernel_launcher.py:57: RuntimeWarning: invalid value encountered in true_divide\n"
          ],
          "name": "stderr"
        },
        {
          "output_type": "stream",
          "text": [
            "[]\n"
          ],
          "name": "stdout"
        }
      ]
    },
    {
      "cell_type": "code",
      "metadata": {
        "id": "EqhLyeUwOWft",
        "colab": {
          "base_uri": "https://localhost:8080/"
        },
        "outputId": "61d9b051-0e97-4412-bbc6-bd39532f26a7"
      },
      "source": [
        "y_pred = model.predict(X_val)\r\n",
        "print(y_pred)"
      ],
      "execution_count": 169,
      "outputs": [
        {
          "output_type": "stream",
          "text": [
            "[0 0 0 ... 0 0 0]\n"
          ],
          "name": "stdout"
        }
      ]
    },
    {
      "cell_type": "code",
      "metadata": {
        "id": "TntSvqShDL5F",
        "outputId": "30accde7-cff8-4289-86a6-017675e9bd98",
        "colab": {
          "base_uri": "https://localhost:8080/"
        }
      },
      "source": [
        "accuracy_score(y_val, y_pred)"
      ],
      "execution_count": 171,
      "outputs": [
        {
          "output_type": "execute_result",
          "data": {
            "text/plain": [
              "0.10291666666666667"
            ]
          },
          "metadata": {
            "tags": []
          },
          "execution_count": 171
        }
      ]
    }
  ]
}