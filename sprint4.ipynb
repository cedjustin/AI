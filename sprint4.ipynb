{
 "cells": [
  {
   "cell_type": "code",
   "execution_count": 4,
   "metadata": {},
   "outputs": [],
   "source": [
    "# import dependencies \n",
    "import pandas as pd\n",
    "import numpy as np\n",
    "from sklearn.model_selection import train_test_split"
   ]
  },
  {
   "cell_type": "code",
   "execution_count": 107,
   "metadata": {},
   "outputs": [],
   "source": [
    "# developing the model (logistic regression)\n",
    "\n",
    "class ScratchLogisticRegression():\n",
    "\n",
    "    def __init__(self, num_iter, lr, bias, verbose):\n",
    "        # ハイパーパラメータを属性として記録\n",
    "        self.iter = num_iter\n",
    "        self.lr = lr\n",
    "        self.bias = bias\n",
    "        self.verbose = verbose\n",
    "        # 損失を記録する配列を用意\n",
    "        self.loss = np.zeros(self.iter)\n",
    "        self.val_loss = np.zeros(self.iter)\n",
    "        \n",
    "    def fit(self, X, y, X_val=None, y_val=None):\n",
    "        \n",
    "        self.n,n_features = X.shape\n",
    "        self.weights = np.zeros(n_features)\n",
    "        self.bias = 0\n",
    "        \n",
    "        # calculating the gradient descent and hypothesis\n",
    "        for i in range(self.iter):\n",
    "            \n",
    "            # calculating the linear regression\n",
    "            linear_model = np.dot(X, self.weights) + self.bias\n",
    "            # calculating for validation values\n",
    "            linear_model_val = np.dot(X_val, self.weights) + self.bias\n",
    "            \n",
    "            # applying sigmoid formula with our linear model\n",
    "            y_pred = self._sigmoid(linear_model)\n",
    "            # calculating for validation values\n",
    "            y_pred_val = self._sigmoid(linear_model_val)\n",
    "            \n",
    "            # recalculating our bias and wieghts on every iteration\n",
    "            # calculating the derivatives\n",
    "            dw = (1/self.n) * np.dot(X.T, (y_pred - y))\n",
    "            db = (1/self.n) * np.sum(y_pred - y)\n",
    "            \n",
    "            self.weights -= self.lr * dw\n",
    "            self.bias -= self.lr * db\n",
    "            \n",
    "            # calculating the losses\n",
    "            self.loss[i] = ((y_pred-y)**2).mean()\n",
    "            \n",
    "            # calculating the validation loss if we have the validation values\n",
    "            if (X_val is not None) and (y_val is not None):\n",
    "                self.val_loss[i] = ((y_pred_val-y_val)**2).mean()\n",
    "        \n",
    "        if self.verbose:\n",
    "            print(\"loss: {}, validation loss: {}\".format(self.loss,self.val_loss))\n",
    "        pass\n",
    "    \n",
    "    def objective_function(self, y, y_predict):\n",
    "        cost = (\n",
    "                -1\n",
    "                / self.n\n",
    "                * np.sum(y * np.log(y_predict) + (1 - y) * np.log(1 - y_predict))\n",
    "            )\n",
    "        return cost\n",
    "\n",
    "    def predict(self, X):\n",
    "        # calculating the linear regression\n",
    "        linear_model = np.dot(X, self.weights) + self.bias\n",
    "        # applying sigmoid formula with our linear model\n",
    "        y_pred = self._sigmoid(linear_model)\n",
    "        \n",
    "        # classifying our predictions\n",
    "        y_pred_class = [1 if i > 0.5 else 0 for i in y_pred]\n",
    "        \n",
    "        return np.array(y_pred_class)\n",
    "    \n",
    "    def predict_proba(self, X):\n",
    "        # calculating the linear regression\n",
    "        linear_model = np.dot(X, self.weights) + self.bias\n",
    "        # applying sigmoid formula with our linear model\n",
    "        y_pred = self._sigmoid(linear_model)\n",
    "        return y_pred\n",
    "    \n",
    "    def _sigmoid(self, X):\n",
    "        # applying the sigmoid formula\n",
    "        return 1/(1 + np.exp(-X))"
   ]
  },
  {
   "cell_type": "markdown",
   "metadata": {},
   "source": [
    "### Problem 1-2\n",
    "they implemented in the above class"
   ]
  },
  {
   "cell_type": "markdown",
   "metadata": {},
   "source": [
    "### Problem 3\n",
    "Estimation"
   ]
  },
  {
   "cell_type": "code",
   "execution_count": 26,
   "metadata": {},
   "outputs": [],
   "source": [
    "# creating datasets\n",
    "X = np.random.random_sample((20,5))\n",
    "y = np.random.random_sample((20,))"
   ]
  },
  {
   "cell_type": "code",
   "execution_count": 75,
   "metadata": {},
   "outputs": [
    {
     "name": "stdout",
     "output_type": "stream",
     "text": [
      "Labels 1 if value > 0.5 else 0: [0 0 0 0]\n",
      "Probability: [0.48674352 0.4845715  0.48398664 0.48054554]\n"
     ]
    }
   ],
   "source": [
    "# spliting the datasets into training and testing subsets\n",
    "X_train, X_test, y_train, y_test = train_test_split(X, y, test_size=0.2, random_state=0)\n",
    "\n",
    "# creating an instance of our model\n",
    "l_regression = ScratchLogisticRegression(num_iter=1000, lr=0.001, bias=0,verbose=False)\n",
    "l_regression.fit(X_train,y_train,X_test,y_test)\n",
    "y_pred_label = l_regression.predict(X_test)\n",
    "y_pred_proba = l_regression.predict_proba(X_test)\n",
    "\n",
    "print(\"Labels 1 if value > 0.5 else 0:\",y_pred_label)\n",
    "print(\"Probability:\",y_pred_proba)"
   ]
  },
  {
   "cell_type": "markdown",
   "metadata": {},
   "source": [
    "### Problem 4"
   ]
  },
  {
   "cell_type": "markdown",
   "metadata": {},
   "source": [
    "created in the class above (Objective function)"
   ]
  },
  {
   "cell_type": "markdown",
   "metadata": {},
   "source": [
    "### Problem 5\n",
    "Learning and estimation\n"
   ]
  },
  {
   "cell_type": "code",
   "execution_count": 30,
   "metadata": {},
   "outputs": [],
   "source": [
    "from sklearn.metrics import accuracy_score, precision_score, recall_score\n",
    "from sklearn.datasets import load_iris"
   ]
  },
  {
   "cell_type": "code",
   "execution_count": 76,
   "metadata": {},
   "outputs": [],
   "source": [
    "iris = load_iris()\n",
    "\n",
    "df = pd.DataFrame(data=iris.data,columns=iris.feature_names)\n",
    "df['target'] = iris.target\n",
    "\n",
    "# filtering the df to get two target variables we need\n",
    "df_filtered = df[df['target'] > 0] \n",
    "\n",
    "y_1 = df_filtered['target']\n",
    "X_1 = df_filtered.drop(['target'],axis=1)\n",
    "\n",
    "X_1 = X_1.to_numpy()\n",
    "y_1 = y_1.to_numpy()"
   ]
  },
  {
   "cell_type": "code",
   "execution_count": 77,
   "metadata": {},
   "outputs": [],
   "source": [
    "# spliting the datasets into training and testing subsets\n",
    "X_train_1, X_test_1, y_train_1, y_test_1 = train_test_split(X_1, y_1, test_size=0.2, random_state=0)"
   ]
  },
  {
   "cell_type": "code",
   "execution_count": 104,
   "metadata": {},
   "outputs": [
    {
     "name": "stdout",
     "output_type": "stream",
     "text": [
      "Labels 1 if value > 0.5 else 0: [1 1 1 1 1 1 1 1 1 1 1 1 1 1 1 1 1 1 1 1]\n"
     ]
    }
   ],
   "source": [
    "# creating an instance of our model\n",
    "l_regression_1 = ScratchLogisticRegression(num_iter=5000, lr=0.6, bias=None,verbose=False)\n",
    "l_regression_1.fit(X_train_1,y_train_1,X_test_1,y_test_1)\n",
    "y_pred_label_1 = l_regression_1.predict(X_test_1)\n",
    "y_pred_proba_1 = l_regression_1.predict_proba(X_test_1)\n",
    "\n",
    "print(\"Labels 1 if value > 0.5 else 0:\",y_pred_label_1)"
   ]
  },
  {
   "cell_type": "code",
   "execution_count": 105,
   "metadata": {},
   "outputs": [
    {
     "name": "stdout",
     "output_type": "stream",
     "text": [
      "-------------\n",
      "accuracy 0.5\n",
      "precision 0.25\n",
      "recall 0.5\n"
     ]
    }
   ],
   "source": [
    "accuracy = accuracy_score(y_test_1, y_pred_proba_1)\n",
    "precision = precision_score(y_test_1, y_pred_proba_1, average='weighted')\n",
    "recall = recall_score(y_test_1, y_pred_proba_1, average='weighted')\n",
    "\n",
    "print(\"-------------\")\n",
    "print(\"accuracy\", accuracy)\n",
    "print(\"precision\", precision)\n",
    "print(\"recall\", recall)"
   ]
  },
  {
   "cell_type": "markdown",
   "metadata": {},
   "source": [
    "### Problem 6"
   ]
  },
  {
   "cell_type": "code",
   "execution_count": 108,
   "metadata": {},
   "outputs": [
    {
     "data": {
      "image/png": "[encoded data removed]",
      "text/plain": [
       "<Figure size 1152x648 with 1 Axes>"
      ]
     },
     "metadata": {
      "needs_background": "light"
     },
     "output_type": "display_data"
    }
   ],
   "source": [
    "import matplotlib.pyplot as plt\n",
    "fig,ax = plt.subplots(figsize=(16,9))\n",
    "\n",
    "plt.rcParams[\"font.size\"] = 20\n",
    "plt.scatter(range(len(l_regression_1.loss)),l_regression_1.loss,label='Train loss')\n",
    "plt.scatter(range(len(l_regression_1.val_loss)),l_regression_1.val_loss,label='Val loss')\n",
    "plt.legend();"
   ]
  },
  {
   "cell_type": "code",
   "execution_count": 153,
   "metadata": {
    "scrolled": true
   },
   "outputs": [
    {
     "data": {
      "text/plain": [
       "Text(0, 0.5, 'Status (1:Won, 0:Lost)')"
      ]
     },
     "execution_count": 153,
     "metadata": {},
     "output_type": "execute_result"
    },
    {
     "data": {
      "image/png": "[encoded data removed]",
      "text/plain": [
       "<Figure size 432x288 with 1 Axes>"
      ]
     },
     "metadata": {
      "needs_background": "light"
     },
     "output_type": "display_data"
    }
   ],
   "source": [
    "# problem 7\n",
    "    \n",
    "plt.scatter(y_test_1,y_pred_proba_1)\n",
    "plt.title(\"Decision area\")\n",
    "plt.xlabel('target')\n",
    "plt.ylabel('Status (1:Won, 0:Lost)')"
   ]
  },
  {
   "cell_type": "markdown",
   "metadata": {},
   "source": [
    "### Problem 8"
   ]
  },
  {
   "cell_type": "code",
   "execution_count": 109,
   "metadata": {},
   "outputs": [
    {
     "data": {
      "text/plain": [
       "b'\\x80\\x03cnumpy.core.multiarray\\n_reconstruct\\nq\\x00cnumpy\\nndarray\\nq\\x01K\\x00\\x85q\\x02C\\x01bq\\x03\\x87q\\x04Rq\\x05(K\\x01K\\x04\\x85q\\x06cnumpy\\ndtype\\nq\\x07X\\x02\\x00\\x00\\x00f8q\\x08K\\x00K\\x01\\x87q\\tRq\\n(K\\x03X\\x01\\x00\\x00\\x00<q\\x0bNNNJ\\xff\\xff\\xff\\xffJ\\xff\\xff\\xff\\xffK\\x00tq\\x0cb\\x89C E\\xf8(\\\\\\xefO\\xca@\\xc1\\xba\\x1e\\x85oJ\\xb1@4\\xba\\x1e\\x85\\xd7(\\xc5@\\xf5S\\xb8\\x1eU\\xd9\\x9f@q\\rtq\\x0eb.'"
      ]
     },
     "execution_count": 109,
     "metadata": {},
     "output_type": "execute_result"
    }
   ],
   "source": [
    "import pickle \n",
    "\n",
    "pickle.dumps(l_regression_1.weights)"
   ]
  },
  {
   "cell_type": "code",
   "execution_count": 110,
   "metadata": {},
   "outputs": [],
   "source": [
    "from tempfile import TemporaryFile\n",
    "\n",
    "outfile = TemporaryFile()\n",
    "np.savez(outfile, l_regression_1.weights)"
   ]
  },
  {
   "cell_type": "code",
   "execution_count": null,
   "metadata": {},
   "outputs": [],
   "source": []
  }
 ],
 "metadata": {
  "kernelspec": {
   "display_name": "Python 3",
   "language": "python",
   "name": "python3"
  },
  "language_info": {
   "codemirror_mode": {
    "name": "ipython",
    "version": 3
   },
   "file_extension": ".py",
   "mimetype": "text/x-python",
   "name": "python",
   "nbconvert_exporter": "python",
   "pygments_lexer": "ipython3",
   "version": "3.7.6"
  }
 },
 "nbformat": 4,
 "nbformat_minor": 4
}
