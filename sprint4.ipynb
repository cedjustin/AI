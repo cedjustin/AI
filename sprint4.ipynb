{
 "cells": [
  {
   "cell_type": "code",
   "execution_count": 1,
   "metadata": {},
   "outputs": [],
   "source": [
    "# import dependencies \n",
    "import pandas as pd\n",
    "import numpy as np\n",
    "from sklearn.model_selection import train_test_split"
   ]
  },
  {
   "cell_type": "code",
   "execution_count": 25,
   "metadata": {},
   "outputs": [],
   "source": [
    "\n",
    "# developing the model (logistic regression)\n",
    "\n",
    "class ScratchLogisticRegression():\n",
    "\n",
    "    def __init__(self, num_iter, lr, bias, verbose):\n",
    "        # ハイパーパラメータを属性として記録\n",
    "        self.iter = num_iter\n",
    "        self.lr = lr\n",
    "        self.bias = bias\n",
    "        self.verbose = verbose\n",
    "        # 損失を記録する配列を用意\n",
    "        self.loss = np.zeros(self.iter)\n",
    "        self.val_loss = np.zeros(self.iter)\n",
    "        \n",
    "    def fit(self, X, y, X_val=None, y_val=None):\n",
    "        \n",
    "        self.n,n_features = X.shape\n",
    "        self.weights = np.zeros(n_features)\n",
    "        self.bias = 0\n",
    "        \n",
    "        # calculating the gradient descent and hypothesis\n",
    "        for i in range(self.iter):\n",
    "            \n",
    "            # calculating the linear regression\n",
    "            linear_model = np.dot(X, self.weights) + self.bias\n",
    "            # calculating for validation values\n",
    "            linear_model_val = np.dot(X_val, self.weights) + self.bias\n",
    "            \n",
    "            # applying sigmoid formula with our linear model\n",
    "            y_pred = self._sigmoid(linear_model)\n",
    "            # calculating for validation values\n",
    "            y_pred_val = self._sigmoid(linear_model_val)\n",
    "            \n",
    "            # recalculating our bias and wieghts on every iteration\n",
    "            # calculating the derivatives\n",
    "            dw = (1/self.n) * np.dot(X.T, (y_pred - y))\n",
    "            db = (1/self.n) * np.sum(y_pred - y)\n",
    "            \n",
    "            self.weights -= self.lr * dw\n",
    "            self.bias -= self.lr * db\n",
    "            \n",
    "            # calculating the losses\n",
    "            self.loss[i] = ((y_pred-y)**2).mean()\n",
    "            \n",
    "            # calculating the validation loss if we have the validation values\n",
    "            if (X_val is not None) and (y_val is not None):\n",
    "                self.val_loss[i] = ((y_pred_val-y_val)**2).mean()\n",
    "        if self.verbose:\n",
    "            print(\"loss: {}, validation loss: {}\".format(self.loss,self.val_loss))\n",
    "        pass\n",
    "    \n",
    "    def objective_function(self, y, y_predict):\n",
    "        cost = (\n",
    "                -1\n",
    "                / self.n\n",
    "                * np.sum(y * np.log(y_predict) + (1 - y) * np.log(1 - y_predict))\n",
    "            )\n",
    "        return cost\n",
    "\n",
    "    def predict(self, X):\n",
    "        if self.weights.shape != X.shape:\n",
    "#             self.weights = np.resize(self.weights,X.shape)\n",
    "            print(\"weights:dim {} shape {}, X: dim {} shape {}\".format(self.weights.ndim,self.weights.shape,X.ndim,X.shape))\n",
    "            # calculating the linear regression\n",
    "            linear_model = np.dot(X, self.weights) + self.bias\n",
    "            # applying sigmoid formula with our linear model\n",
    "            y_pred = self._sigmoid(linear_model)\n",
    "            # classifying our predictions\n",
    "            y_pred_class = [1 if i > 0.5 else 0 for i in y_pred]\n",
    "        else:\n",
    "            print(\"weights:dim {} shape {}, X: dim {} shape {}\".format(self.weights.ndim,self.weights.shape,X.ndim,X.shape))\n",
    "            # calculating the linear regression\n",
    "            linear_model = np.dot(X, self.weights) + self.bias\n",
    "            # applying sigmoid formula with our linear model\n",
    "            y_pred = self._sigmoid(linear_model)\n",
    "            # classifying our predictions\n",
    "            y_pred_class = [1 if i > 0.5 else 0 for i in y_pred]\n",
    "\n",
    "        return np.array(y_pred_class)\n",
    "    \n",
    "    def predict_proba(self, X):\n",
    "        # calculating the linear regression\n",
    "        linear_model = np.dot(X, self.weights) + self.bias\n",
    "        # applying sigmoid formula with our linear model\n",
    "        y_pred = self._sigmoid(linear_model)\n",
    "        return y_pred\n",
    "    \n",
    "    def _sigmoid(self, X):\n",
    "        # applying the sigmoid formula\n",
    "        return 1/(1 + np.exp(-X))"
   ]
  },
  {
   "cell_type": "markdown",
   "metadata": {},
   "source": [
    "### Problem 1-2\n",
    "they implemented in the above class"
   ]
  },
  {
   "cell_type": "markdown",
   "metadata": {},
   "source": [
    "### Problem 3\n",
    "Estimation"
   ]
  },
  {
   "cell_type": "code",
   "execution_count": 3,
   "metadata": {},
   "outputs": [],
   "source": [
    "# creating datasets\n",
    "from sklearn import datasets\n",
    "bc = datasets.load_breast_cancer()\n",
    "X, y = bc.data, bc.target"
   ]
  },
  {
   "cell_type": "code",
   "execution_count": 4,
   "metadata": {},
   "outputs": [
    {
     "name": "stderr",
     "output_type": "stream",
     "text": [
      "C:\\Users\\diveintocode\\anaconda3\\lib\\site-packages\\ipykernel_launcher.py:80: RuntimeWarning: overflow encountered in exp\n"
     ]
    },
    {
     "name": "stdout",
     "output_type": "stream",
     "text": [
      "weights:dim 1 shape (30,), X: dim 2 shape (114, 30)\n",
      "Labels 1 if value > 0.5 else 0: [0 1 1 0 1 1 1 1 1 1 0 0 1 0 0 0 1 0 0 0 0 0 1 1 0 1 1 1 1 0 1 0 1 0 1 0 0\n",
      " 0 1 0 0 1 0 1 0 0 1 1 1 0 0 1 0 1 1 1 1 1 1 0 0 0 1 1 0 1 0 0 0 1 0 0 1 1\n",
      " 0 1 1 1 1 1 0 0 0 1 0 1 1 1 0 0 1 0 0 1 1 1 0 1 1 1 1 1 1 1 0 1 0 0 0 1 1\n",
      " 0 0 0]\n",
      "Probability: [1.48205972e-046 1.00000000e+000 1.00000000e+000 7.44165036e-014\n",
      " 1.00000000e+000 1.00000000e+000 1.00000000e+000 1.00000000e+000\n",
      " 1.00000000e+000 1.00000000e+000 9.08087038e-005 1.86710291e-001\n",
      " 1.00000000e+000 7.02374983e-015 5.63486321e-006 4.95882009e-089\n",
      " 1.00000000e+000 1.40181940e-187 6.49468632e-022 1.01756682e-252\n",
      " 4.64609119e-105 6.38686473e-026 1.00000000e+000 1.00000000e+000\n",
      " 8.04189387e-027 8.26220866e-001 1.00000000e+000 1.00000000e+000\n",
      " 1.00000000e+000 1.27330479e-271 1.00000000e+000 3.70733735e-229\n",
      " 9.98830580e-001 5.61183546e-087 1.00000000e+000 3.90276027e-086\n",
      " 2.56541395e-005 2.28587208e-129 1.00000000e+000 1.00804778e-080\n",
      " 3.99528524e-032 1.00000000e+000 8.10854249e-085 1.00000000e+000\n",
      " 8.57827249e-003 5.87665648e-231 1.00000000e+000 1.00000000e+000\n",
      " 1.00000000e+000 4.30668816e-041 4.36613150e-052 1.00000000e+000\n",
      " 6.93529928e-167 1.00000000e+000 1.00000000e+000 1.00000000e+000\n",
      " 1.00000000e+000 1.00000000e+000 1.00000000e+000 0.00000000e+000\n",
      " 3.80585174e-026 1.31714539e-120 1.00000000e+000 1.00000000e+000\n",
      " 9.94181142e-148 9.99999988e-001 0.00000000e+000 3.49160307e-133\n",
      " 2.66515320e-128 1.00000000e+000 4.06796808e-028 4.00243865e-145\n",
      " 1.00000000e+000 1.00000000e+000 3.32803652e-155 1.00000000e+000\n",
      " 1.00000000e+000 1.00000000e+000 9.99999965e-001 1.00000000e+000\n",
      " 7.91945382e-053 1.30083165e-114 7.62798393e-140 1.00000000e+000\n",
      " 4.56964459e-052 1.00000000e+000 9.99607155e-001 1.00000000e+000\n",
      " 1.27417674e-148 5.58070156e-169 1.00000000e+000 1.03803653e-048\n",
      " 4.01965432e-009 8.98406120e-001 1.00000000e+000 1.00000000e+000\n",
      " 0.00000000e+000 1.00000000e+000 1.00000000e+000 1.00000000e+000\n",
      " 1.00000000e+000 1.00000000e+000 1.00000000e+000 1.00000000e+000\n",
      " 1.05371415e-172 1.00000000e+000 8.18774283e-060 6.02689828e-010\n",
      " 3.46844928e-032 1.00000000e+000 9.99999983e-001 1.22135961e-056\n",
      " 7.71546847e-137 5.29659670e-011]\n"
     ]
    }
   ],
   "source": [
    "# spliting the datasets into training and testing subsets\n",
    "X_train, X_test, y_train, y_test = train_test_split(X, y, test_size=0.2, random_state=0)\n",
    "\n",
    "# creating an instance of our model\n",
    "l_regression = ScratchLogisticRegression(num_iter=1000, lr=0.001, bias=0,verbose=False)\n",
    "l_regression.fit(X_train,y_train,X_test,y_test)\n",
    "y_pred_label = l_regression.predict(X_test)\n",
    "y_pred_proba = l_regression.predict_proba(X_test)\n",
    "\n",
    "print(\"Labels 1 if value > 0.5 else 0:\",y_pred_label)\n",
    "print(\"Probability:\",y_pred_proba)"
   ]
  },
  {
   "cell_type": "markdown",
   "metadata": {},
   "source": [
    "### Problem 4"
   ]
  },
  {
   "cell_type": "markdown",
   "metadata": {},
   "source": [
    "created in the class above (Objective function)"
   ]
  },
  {
   "cell_type": "markdown",
   "metadata": {},
   "source": [
    "### Problem 5\n",
    "Learning and estimation\n"
   ]
  },
  {
   "cell_type": "code",
   "execution_count": 5,
   "metadata": {},
   "outputs": [],
   "source": [
    "from sklearn.metrics import accuracy_score, precision_score, recall_score\n",
    "from sklearn.datasets import load_iris"
   ]
  },
  {
   "cell_type": "code",
   "execution_count": 34,
   "metadata": {},
   "outputs": [],
   "source": [
    "iris = load_iris()\n",
    "\n",
    "df = pd.DataFrame(data=iris.data,columns=iris.feature_names)\n",
    "df['target'] = iris.target\n",
    "\n",
    "# filtering the df to get two target variables we need\n",
    "df_filtered = df[df['target'] > 0] \n",
    "\n",
    "y_1 = df_filtered['target']\n",
    "X_1 = df_filtered.drop(['target','sepal width (cm)', 'petal width (cm)'],axis=1)\n",
    "X_1 = X_1.to_numpy()\n",
    "y_1 = y_1.to_numpy()"
   ]
  },
  {
   "cell_type": "code",
   "execution_count": 35,
   "metadata": {},
   "outputs": [],
   "source": [
    "# spliting the datasets into training and testing subsets\n",
    "X_train_1, X_test_1, y_train_1, y_test_1 = train_test_split(X_1, y_1, test_size=0.2, random_state=0)"
   ]
  },
  {
   "cell_type": "code",
   "execution_count": 36,
   "metadata": {},
   "outputs": [
    {
     "name": "stdout",
     "output_type": "stream",
     "text": [
      "weights:dim 1 shape (2,), X: dim 2 shape (20, 2)\n",
      "Labels 1 if value > 0.5 else 0: [1 1 1 1 1 1 1 1 1 1 1 1 1 1 1 1 1 1 1 1]\n"
     ]
    }
   ],
   "source": [
    "# creating an instance of our model\n",
    "l_regression_1 = ScratchLogisticRegression(num_iter=10000, lr=0.00001, bias=0,verbose=False)\n",
    "l_regression_1.fit(X_train_1,y_train_1,X_test_1,y_test_1)\n",
    "y_pred_label_1 = l_regression_1.predict(X_test_1)\n",
    "y_pred_proba_1 = l_regression_1.predict_proba(X_test_1)\n",
    "\n",
    "print(\"Labels 1 if value > 0.5 else 0:\",y_pred_label_1)"
   ]
  },
  {
   "cell_type": "code",
   "execution_count": 37,
   "metadata": {},
   "outputs": [
    {
     "name": "stdout",
     "output_type": "stream",
     "text": [
      "-------------\n",
      "accuracy 0.5\n",
      "precision 0.25\n",
      "recall 0.5\n"
     ]
    },
    {
     "name": "stderr",
     "output_type": "stream",
     "text": [
      "C:\\Users\\diveintocode\\anaconda3\\lib\\site-packages\\sklearn\\metrics\\_classification.py:1272: UndefinedMetricWarning: Precision is ill-defined and being set to 0.0 in labels with no predicted samples. Use `zero_division` parameter to control this behavior.\n",
      "  _warn_prf(average, modifier, msg_start, len(result))\n"
     ]
    }
   ],
   "source": [
    "accuracy = accuracy_score(y_test_1, y_pred_proba_1.round())\n",
    "precision = precision_score(y_test_1, y_pred_proba_1.round(), average='weighted')\n",
    "recall = recall_score(y_test_1, y_pred_proba_1.round(), average='weighted')\n",
    "\n",
    "print(\"-------------\")\n",
    "print(\"accuracy\", accuracy)\n",
    "print(\"precision\", precision)\n",
    "print(\"recall\", recall)"
   ]
  },
  {
   "cell_type": "markdown",
   "metadata": {},
   "source": [
    "### Problem 6"
   ]
  },
  {
   "cell_type": "code",
   "execution_count": 38,
   "metadata": {},
   "outputs": [
    {
     "data": {
      "image/png": "[encoded data removed]",
      "text/plain": [
       "<Figure size 1152x648 with 1 Axes>"
      ]
     },
     "metadata": {
      "needs_background": "light"
     },
     "output_type": "display_data"
    }
   ],
   "source": [
    "import matplotlib.pyplot as plt\n",
    "fig,ax = plt.subplots(figsize=(16,9))\n",
    "\n",
    "plt.rcParams[\"font.size\"] = 20\n",
    "plt.scatter(range(len(l_regression_1.loss)),l_regression_1.loss,label='Train loss')\n",
    "plt.scatter(range(len(l_regression_1.val_loss)),l_regression_1.val_loss,label='Val loss')\n",
    "plt.legend();"
   ]
  },
  {
   "cell_type": "code",
   "execution_count": 46,
   "metadata": {
    "scrolled": false
   },
   "outputs": [
    {
     "data": {
      "image/png": "[encoded data removed]",
      "text/plain": [
       "<Figure size 432x288 with 1 Axes>"
      ]
     },
     "metadata": {
      "needs_background": "light"
     },
     "output_type": "display_data"
    }
   ],
   "source": [
    "# problem 7\n",
    "from matplotlib.colors import ListedColormap\n",
    "import matplotlib.patches as mpatches\n",
    "\n",
    "def decision_region(X, y, model, step=0.01, title='decision region', xlabel='xlabel', ylabel='ylabel', target_names=['versicolor', 'virginica']):\n",
    "    # setting\n",
    "    scatter_color = ['red', 'blue']\n",
    "    contourf_color = ['pink', 'skyblue']\n",
    "    n_class = 2\n",
    "    # pred\n",
    "    mesh_f0, mesh_f1  = np.meshgrid(np.arange(np.min(X[:,0])-0.5, np.max(X[:,0])+0.5, step), np.arange(np.min(X[:,1])-0.5, np.max(X[:,1])+0.5, step))\n",
    "    mesh = np.c_[np.ravel(mesh_f0),np.ravel(mesh_f1)]\n",
    "    y_pred = model.predict_proba(mesh).reshape(mesh_f0.shape)\n",
    "    # plot\n",
    "    plt.title(title)\n",
    "    plt.xlabel(xlabel)\n",
    "    plt.ylabel(ylabel)\n",
    "    plt.contourf(mesh_f0, mesh_f1, y_pred, n_class-1, cmap=ListedColormap(contourf_color))\n",
    "    plt.contour(mesh_f0, mesh_f1, y_pred, n_class-1, colors='y', linewidths=3, alpha=0.5)\n",
    "    for i, target in enumerate(set(y)):\n",
    "        plt.scatter(X[y==target][:, 0], X[y==target][:, 1], s=80, color=scatter_color[i], label=target_names[i], marker='o')\n",
    "    patches = [mpatches.Patch(color=scatter_color[i], label=target_names[i]) for i in range(n_class)]\n",
    "    plt.legend(handles=patches)\n",
    "    plt.legend()\n",
    "    plt.show()\n",
    "    \n",
    "decision_region(X_test_1, y_test_1, l_regression_1)"
   ]
  },
  {
   "cell_type": "markdown",
   "metadata": {},
   "source": [
    "### Problem 8"
   ]
  },
  {
   "cell_type": "code",
   "execution_count": 109,
   "metadata": {},
   "outputs": [
    {
     "data": {
      "text/plain": [
       "b'\\x80\\x03cnumpy.core.multiarray\\n_reconstruct\\nq\\x00cnumpy\\nndarray\\nq\\x01K\\x00\\x85q\\x02C\\x01bq\\x03\\x87q\\x04Rq\\x05(K\\x01K\\x04\\x85q\\x06cnumpy\\ndtype\\nq\\x07X\\x02\\x00\\x00\\x00f8q\\x08K\\x00K\\x01\\x87q\\tRq\\n(K\\x03X\\x01\\x00\\x00\\x00<q\\x0bNNNJ\\xff\\xff\\xff\\xffJ\\xff\\xff\\xff\\xffK\\x00tq\\x0cb\\x89C E\\xf8(\\\\\\xefO\\xca@\\xc1\\xba\\x1e\\x85oJ\\xb1@4\\xba\\x1e\\x85\\xd7(\\xc5@\\xf5S\\xb8\\x1eU\\xd9\\x9f@q\\rtq\\x0eb.'"
      ]
     },
     "execution_count": 109,
     "metadata": {},
     "output_type": "execute_result"
    }
   ],
   "source": [
    "import pickle \n",
    "\n",
    "pickle.dumps(l_regression_1.weights)"
   ]
  },
  {
   "cell_type": "code",
   "execution_count": 110,
   "metadata": {},
   "outputs": [],
   "source": [
    "from tempfile import TemporaryFile\n",
    "\n",
    "outfile = TemporaryFile()\n",
    "np.savez(outfile, l_regression_1.weights)"
   ]
  },
  {
   "cell_type": "code",
   "execution_count": null,
   "metadata": {},
   "outputs": [],
   "source": []
  }
 ],
 "metadata": {
  "kernelspec": {
   "display_name": "Python 3",
   "language": "python",
   "name": "python3"
  },
  "language_info": {
   "codemirror_mode": {
    "name": "ipython",
    "version": 3
   },
   "file_extension": ".py",
   "mimetype": "text/x-python",
   "name": "python",
   "nbconvert_exporter": "python",
   "pygments_lexer": "ipython3",
   "version": "3.7.6"
  }
 },
 "nbformat": 4,
 "nbformat_minor": 4
}
