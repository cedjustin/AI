{
 "cells": [
  {
   "cell_type": "markdown",
   "metadata": {},
   "source": [
    "### Decision tree"
   ]
  },
  {
   "cell_type": "code",
   "execution_count": 45,
   "metadata": {},
   "outputs": [],
   "source": [
    "# import dependencies\n",
    "import numpy as np\n",
    "from collections import Counter\n",
    "from sklearn import datasets\n",
    "from sklearn.model_selection import train_test_split\n",
    "from sklearn.tree import DecisionTreeClassifier\n",
    "from sklearn.metrics import accuracy_score\n",
    "from sklearn.metrics import precision_score\n",
    "from sklearn.metrics import recall_score\n",
    "from sklearn.metrics import f1_score"
   ]
  },
  {
   "cell_type": "code",
   "execution_count": 66,
   "metadata": {},
   "outputs": [],
   "source": [
    "# entropy function as a global function\n",
    "def entropy(y):\n",
    "    # calculate the number of occurences of all class labels\n",
    "    hist = np.bincount(y)\n",
    "    ps = hist/ len(y)\n",
    "    # apply the formula for entropy\n",
    "    return -np.sum([p*np.log2(p) for p in ps if p>0])\n",
    "\n",
    "# a helper class to store information of the node\n",
    "class Node:\n",
    "    def __init__(self, feature=None, threshold=None,left=None,right=None,*,value=None):\n",
    "        self.feature = feature\n",
    "        self.threshold = threshold\n",
    "        self.left = left\n",
    "        self.right = right\n",
    "        self.value = value\n",
    "    \n",
    "    # a helper function to determine if we are at the leafnode\n",
    "    def is_leaf_node(self):\n",
    "        return self.value is not None\n",
    "\n",
    "# decision tree class\n",
    "class ScratchDecesionTreeClassifier():\n",
    "    def __init__(self, min_samples_split=2, max_depth=100, n_feats=None):\n",
    "        self.min_samples_split = min_samples_split\n",
    "        self.max_depth = max_depth\n",
    "        self.n_feats = n_feats\n",
    "        # a root so that we can know where we started\n",
    "        self.root = None\n",
    "        \n",
    "    def fit(self, X,y):\n",
    "        # grow tree\n",
    "        # apply a safety check\n",
    "        self.n_feats = X.shape[1] if not self.n_feats else min(self.n_feats, X.shape[1])\n",
    "        self.root = self._grow_tree(X, y)\n",
    "        \n",
    "    # function to grow the tree\n",
    "    def _grow_tree(self, X, y, depth=0):\n",
    "        n_samples, n_features = X.shape\n",
    "        n_labels = len(np.unique(y))\n",
    "        \n",
    "        # apply the stopping criteria of our growing tree\n",
    "        if(depth >= self.max_depth\n",
    "          or n_labels ==1\n",
    "          or n_samples < self.min_samples_split):\n",
    "            # if the condition is true that would mean that we are at the leaf node\n",
    "            # check for the common label in our node\n",
    "            leaf_value = self._most_common_label(y)\n",
    "            # use our class to store the node information\n",
    "            return Node(value=leaf_value)\n",
    "        \n",
    "        # if we did not meet the stopping criteria\n",
    "        feat_idxs = np.random.choice(n_features, self.n_feats,replace=False)\n",
    "        \n",
    "        # do a greedy search\n",
    "        best_feat, best_thresh = self._best_criteria(X, y, feat_idxs)\n",
    "        left_idxs, right_idxs = self._split(X[:,best_feat], best_thresh)\n",
    "        \n",
    "        # continue growing\n",
    "        left = self._grow_tree(X[left_idxs,:], y[left_idxs], depth+1)\n",
    "        right = self._grow_tree(X[right_idxs,:], y[right_idxs], depth+1)\n",
    "        \n",
    "        node = Node(best_feat, best_thresh, left, right)\n",
    "        \n",
    "        self.impurity = self._gini(node)\n",
    "        return node\n",
    "        \n",
    "        \n",
    "        \n",
    "    def _best_criteria(self, X, y, feat_idxs):\n",
    "        best_gain = -1\n",
    "        split_idxs, split_thresh = None, None\n",
    "        for feat_idx in feat_idxs:\n",
    "            X_column = X[:, feat_idx]\n",
    "            # lets go over all threshold\n",
    "            thresholds = np.unique(X_column)\n",
    "            for threshold in thresholds:\n",
    "                # calculating the information gain\n",
    "                gain = self._information_gain(y, X_column, threshold)\n",
    "                if gain > best_gain:\n",
    "                    best_gain = gain\n",
    "                    split_idx = feat_idx\n",
    "                    split_thresh = threshold\n",
    "        return split_idx, split_thresh\n",
    "    \n",
    "    # a function to calculate the information gain\n",
    "    def _information_gain(self, y, X_column, split_thresh):\n",
    "        # calculate the parent entropy\n",
    "        parent_entropy = entropy(y)\n",
    "        \n",
    "        # generate split\n",
    "        left_idxs, right_idxs = self._split(X_column, split_thresh)\n",
    "        \n",
    "        if len(left_idxs) == 0 or len(right_idxs)==0:\n",
    "            return 0\n",
    "        \n",
    "        # calculate the weighted average child entropy\n",
    "        n = len(y)\n",
    "        n_l, n_r = len(left_idxs), len(right_idxs)\n",
    "        e_l, e_r = entropy(y[left_idxs]), entropy(y[right_idxs])\n",
    "        child_entropy = (n_l/n) * e_l + (n_r/n) *e_r\n",
    "        \n",
    "        # apply the formula for information gain\n",
    "        ig = parent_entropy - child_entropy\n",
    "        return ig\n",
    "        \n",
    "    def _split(self, X_column, split_thresh):\n",
    "        left_idxs = np.argwhere(X_column <= split_thresh).flatten()\n",
    "        right_idxs = np.argwhere(X_column > split_thresh).flatten()\n",
    "        return left_idxs, right_idxs\n",
    "    \n",
    "    def predict(self, X):\n",
    "        # traverse our tree\n",
    "        return np.array([self._traverse_tree(x, self.root) for x in X])\n",
    "    \n",
    "    # a function helper for prediction\n",
    "    def _traverse_tree(self, x, node):\n",
    "        # check for the stopping criteria\n",
    "        if node.is_leaf_node():\n",
    "            return node.value\n",
    "        # check if we go from left or right\n",
    "        if x[node.feature] <= node.threshold:\n",
    "            return self._traverse_tree(x, node.left)\n",
    "        return self._traverse_tree(x, node.right)\n",
    "    \n",
    "    # function to check the common label in our node\n",
    "    def _most_common_label(self, y):\n",
    "        # calculating the number of occurencies in y using counter\n",
    "        counter = Counter(y)\n",
    "        # getting the value of the most common label\n",
    "        most_common = counter.most_common(1)[0][0]\n",
    "        return most_common\n",
    "    \n",
    "    # gini impurity\n",
    "    def _gini(self,node):\n",
    "        unique,count = np.unique(node,return_counts=True)\n",
    "        tmp = 0\n",
    "        for i in unique:\n",
    "            tmp += (count[unique==i]/np.sum(count))**2\n",
    "\n",
    "        return 1-tmp"
   ]
  },
  {
   "cell_type": "code",
   "execution_count": 8,
   "metadata": {},
   "outputs": [],
   "source": [
    "data = datasets.load_breast_cancer()\n",
    "X = data.data\n",
    "y = data.target"
   ]
  },
  {
   "cell_type": "code",
   "execution_count": 9,
   "metadata": {},
   "outputs": [],
   "source": [
    "# splitting the data\n",
    "X_train, X_test, y_train, y_test = train_test_split(X, y, test_size=0.2, random_state=1234)"
   ]
  },
  {
   "cell_type": "code",
   "execution_count": 67,
   "metadata": {},
   "outputs": [],
   "source": [
    "# training our classifier\n",
    "clf = ScratchDecesionTreeClassifier(max_depth=2)\n",
    "clf.fit(X_train, y_train)"
   ]
  },
  {
   "cell_type": "code",
   "execution_count": 68,
   "metadata": {},
   "outputs": [],
   "source": [
    "# predicting\n",
    "y_pred = clf.predict(X_test)"
   ]
  },
  {
   "cell_type": "code",
   "execution_count": 69,
   "metadata": {},
   "outputs": [
    {
     "name": "stdout",
     "output_type": "stream",
     "text": [
      "accuracy 0.9035087719298246\n",
      "precision 0.953125\n",
      "recall 0.8840579710144928\n",
      "f1 0.9172932330827068\n"
     ]
    }
   ],
   "source": [
    "accuracy = accuracy_score(y_test, y_pred)\n",
    "precision = precision_score(y_test, y_pred)\n",
    "recall = recall_score(y_test, y_pred)\n",
    "f1 = f1_score(y_test, y_pred)\n",
    "\n",
    "print('accuracy',accuracy)\n",
    "print('precision',precision)\n",
    "print('recall',recall)\n",
    "print('f1',f1)"
   ]
  },
  {
   "cell_type": "markdown",
   "metadata": {},
   "source": [
    "### Problem 1"
   ]
  },
  {
   "cell_type": "code",
   "execution_count": 54,
   "metadata": {},
   "outputs": [
    {
     "data": {
      "text/plain": [
       "array([0.])"
      ]
     },
     "execution_count": 54,
     "metadata": {},
     "output_type": "execute_result"
    }
   ],
   "source": [
    "clf.impurity"
   ]
  },
  {
   "cell_type": "markdown",
   "metadata": {},
   "source": [
    "### Problem 2\n",
    "\n",
    "Information gain function, implemented in the classifier above"
   ]
  },
  {
   "cell_type": "markdown",
   "metadata": {},
   "source": [
    "### Problem 3"
   ]
  },
  {
   "cell_type": "code",
   "execution_count": null,
   "metadata": {},
   "outputs": [],
   "source": []
  }
 ],
 "metadata": {
  "kernelspec": {
   "display_name": "Python 3",
   "language": "python",
   "name": "python3"
  },
  "language_info": {
   "codemirror_mode": {
    "name": "ipython",
    "version": 3
   },
   "file_extension": ".py",
   "mimetype": "text/x-python",
   "name": "python",
   "nbconvert_exporter": "python",
   "pygments_lexer": "ipython3",
   "version": "3.8.5"
  }
 },
 "nbformat": 4,
 "nbformat_minor": 4
}
