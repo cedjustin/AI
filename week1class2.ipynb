{
 "cells": [
  {
   "cell_type": "code",
   "execution_count": null,
   "metadata": {},
   "outputs": [],
   "source": [
    "# problem 1\n",
    "THICKNESS = 0.00008\n",
    "MT_FUJI = 3776\n",
    "fold_times = 1\n",
    "current_thickness = 0\n",
    "while (current_thickness < 3776):\n",
    "  current_thickness = THICKNESS*(2**fold_times)\n",
    "  fold_times+=1\n",
    "print(\"exceeded mt fuji on the {}th fold\".format(fold_times))\n",
    "# end of problem 1"
   ]
  },
  {
   "cell_type": "code",
   "execution_count": null,
   "metadata": {},
   "outputs": [],
   "source": [
    "# problem 2\n",
    "# the distance in light years\n",
    "CLOSEST_NON_SUN_STAR = 4.4\n",
    "\n",
    "# one light year in trillion km\n",
    "LIGHT_YEAR = 9.5\n",
    "\n",
    "# the real distance in km\n",
    "DISTANCE = (9.5 * 4.4)*1000000000000\n",
    "\n",
    "def calculate_folds_from_distance(distance):\n",
    "\n",
    "  problem2_fold_times = 1\n",
    "  problem2_current_thickness = 0\n",
    "\n",
    "  while ((problem2_current_thickness//1000) < distance):\n",
    "    problem2_current_thickness = THICKNESS*(2**problem2_fold_times)\n",
    "    problem2_fold_times+=1\n",
    "\n",
    "  return problem2_fold_times\n",
    "\n",
    "print(\"reached the closest non star on the {}th fold\".format(calculate_folds_from_distance(DISTANCE)))\n",
    "# end of problem 2\n"
   ]
  },
  {
   "cell_type": "code",
   "execution_count": null,
   "metadata": {},
   "outputs": [],
   "source": [
    "# problem 3\n",
    "def calculate_length_of_paper_from_folds(folds):\n",
    "  PROBLEM3_THICKNESS = 0.00008\n",
    "  length = (PROBLEM3_THICKNESS/6)*((2**folds)+4)*(2**folds-1)\n",
    "  return length\n",
    "\n",
    "# distance to the moon in meters\n",
    "DISTANCE_TO_THE_MOON = 384400*1000\n",
    "\n",
    "print(\"the length of paper needed to be folded to reach the mood is {}m\".format(calculate_length_of_paper_from_folds(calculate_folds_from_distance(DISTANCE_TO_THE_MOON))))\n",
    "print(\"the length of paper needed to be folded to reach the mt fuji is {}m\".format(calculate_length_of_paper_from_folds(calculate_folds_from_distance(MT_FUJI))))\n",
    "print(\"the length of paper needed to be folded to reach the non-sun star is {}m\".format(calculate_length_of_paper_from_folds(calculate_folds_from_distance(DISTANCE))))\n",
    "\n",
    "# end of problem 3"
   ]
  }
 ],
 "metadata": {
  "kernelspec": {
   "display_name": "Python 3",
   "language": "python",
   "name": "python3"
  },
  "language_info": {
   "codemirror_mode": {
    "name": "ipython",
    "version": 3
   },
   "file_extension": ".py",
   "mimetype": "text/x-python",
   "name": "python",
   "nbconvert_exporter": "python",
   "pygments_lexer": "ipython3",
   "version": "3.7.6"
  }
 },
 "nbformat": 4,
 "nbformat_minor": 4
}
